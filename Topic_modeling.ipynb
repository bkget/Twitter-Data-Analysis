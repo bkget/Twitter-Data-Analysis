{
  "cells": [
    {
      "cell_type": "markdown",
      "metadata": {
        "id": "_TeCJ1PZTw12"
      },
      "source": [
        "### Loading necessary packages"
      ]
    },
    {
      "cell_type": "code",
      "source": [
        "pip install emot"
      ],
      "metadata": {
        "colab": {
          "base_uri": "https://localhost:8080/"
        },
        "id": "Wwm3nsAoWQFN",
        "outputId": "8f93d895-dafe-46a6-a024-016fd5cf42ca"
      },
      "execution_count": 8,
      "outputs": [
        {
          "output_type": "stream",
          "name": "stdout",
          "text": [
            "Requirement already satisfied: emot in /usr/local/lib/python3.7/dist-packages (3.1)\n"
          ]
        }
      ]
    },
    {
      "cell_type": "code",
      "execution_count": 9,
      "metadata": {
        "id": "4vaXWo4uTw2E"
      },
      "outputs": [],
      "source": [
        "import warnings\n",
        "warnings.filterwarnings('ignore')\n",
        "from nltk.tokenize import word_tokenize\n",
        "from nltk.corpus import stopwords, words\n",
        "from emot.emo_unicode import UNICODE_EMOJI\n",
        "import matplotlib.pyplot as plt\n",
        "import seaborn as sns\n",
        "from wordcloud import STOPWORDS,WordCloud\n",
        "import gensim\n",
        "from gensim.models import CoherenceModel\n",
        "from gensim import corpora\n",
        "import pandas as pd\n",
        "from pprint import pprint\n",
        "import string\n",
        "import os\n",
        "import re"
      ]
    },
    {
      "cell_type": "code",
      "execution_count": 10,
      "metadata": {
        "id": "3AQkuAXpTw2P"
      },
      "outputs": [],
      "source": [
        "#data loader class\n",
        "class DataLoader:\n",
        "  def __init__(self, file_name):\n",
        "    self.file_name = file_name\n",
        "    \n",
        " \n",
        "  def read_csv(self):\n",
        "    tweets_df=pd.read_csv(self.file_name)\n",
        "    return tweets_df"
      ]
    },
    {
      "cell_type": "code",
      "execution_count": 11,
      "metadata": {
        "id": "hoKtDHtrTw2R"
      },
      "outputs": [],
      "source": [
        "#object creation\n",
        "DataLoader_obj= DataLoader('/content/clean_processed_tweet_data.csv')"
      ]
    },
    {
      "cell_type": "markdown",
      "metadata": {
        "id": "ha_uqqEvq4kw"
      },
      "source": [
        "**Removing NULL valued raws** "
      ]
    },
    {
      "cell_type": "code",
      "execution_count": 12,
      "metadata": {
        "colab": {
          "base_uri": "https://localhost:8080/",
          "height": 852
        },
        "id": "LyT-Rs2qTw2T",
        "outputId": "adf1642e-4e00-4c04-a3e8-0006380fb257"
      },
      "outputs": [
        {
          "output_type": "execute_result",
          "data": {
            "text/plain": [
              "       Unnamed: 0                 created_at  \\\n",
              "156           257  2022-04-22 17:14:49+00:00   \n",
              "176           281  2022-04-22 12:05:39+00:00   \n",
              "240           404  2022-04-16 22:44:20+00:00   \n",
              "248           413  2022-04-03 01:10:45+00:00   \n",
              "249           414  2022-04-03 00:33:01+00:00   \n",
              "...           ...                        ...   \n",
              "16160       24062  2022-04-22 18:14:55+00:00   \n",
              "16162       24064  2022-04-22 18:13:28+00:00   \n",
              "16175       24078  2022-04-22 05:57:39+00:00   \n",
              "16228       24184  2022-04-20 23:47:58+00:00   \n",
              "16351       24476  2022-04-22 13:52:56+00:00   \n",
              "\n",
              "                                                  source  \\\n",
              "156    <a href=\"http://twitter.com/#!/download/ipad\" ...   \n",
              "176    <a href=\"http://twitter.com/#!/download/ipad\" ...   \n",
              "240    <a href=\"http://twitter.com/download/android\" ...   \n",
              "248    <a href=\"http://twitter.com/download/android\" ...   \n",
              "249    <a href=\"http://twitter.com/download/android\" ...   \n",
              "...                                                  ...   \n",
              "16160  <a href=\"http://twitter.com/#!/download/ipad\" ...   \n",
              "16162  <a href=\"http://twitter.com/#!/download/ipad\" ...   \n",
              "16175  <a href=\"https://mobile.twitter.com\" rel=\"nofo...   \n",
              "16228  <a href=\"http://twitter.com/download/android\" ...   \n",
              "16351  <a href=\"http://twitter.com/download/android\" ...   \n",
              "\n",
              "                                           original_text  polarity  \\\n",
              "156    habs guy lafleurs statue beside bell centre st...     0.000   \n",
              "176        please enjoy affordablehousing cartoon todays     0.400   \n",
              "240                           happy easter friend cheers     0.800   \n",
              "248                                     hope like burbon     0.000   \n",
              "249    mitchcers old fashioned infused cherry smoke w...     0.125   \n",
              "...                                                  ...       ...   \n",
              "16160  read daily mirror today dailymirror dailymirro...     0.000   \n",
              "16162  read daily mirror today dailymirror dailymirro...     0.000   \n",
              "16175  happy birthday nifty meri rozi roti aaj mst re...     0.800   \n",
              "16228                            india made people india     0.000   \n",
              "16351  love strength hate weakness sh ji indiaagainst...    -0.150   \n",
              "\n",
              "       subjectivity lang  favorite_count  retweet_count  original_author  \\\n",
              "156            0.10   en            1518            120  gfliverpool9966   \n",
              "176            0.50   en             304             45  gfliverpool9966   \n",
              "240            1.00   en               0              0    Cannonballs17   \n",
              "248            0.00   en               0              0    Cannonballs17   \n",
              "249            0.20   en               0              0    Cannonballs17   \n",
              "...             ...  ...             ...            ...              ...   \n",
              "16160          0.00   en              10              5   steve4you4ever   \n",
              "16162          0.00   en              13              4   steve4you4ever   \n",
              "16175          1.00   en             141              9      NiveshValue   \n",
              "16228          0.00   en             154             97        yashin143   \n",
              "16351          0.75   en             195            110  ibrahimpatel007   \n",
              "\n",
              "       followers_count  friends_count possibly_sensitive  \\\n",
              "156               1295           1507              False   \n",
              "176               1295           1507              False   \n",
              "240                125            300              False   \n",
              "248                125            300              False   \n",
              "249                125            300              False   \n",
              "...                ...            ...                ...   \n",
              "16160              491           4997              False   \n",
              "16162              491           4997              False   \n",
              "16175               55              8              False   \n",
              "16228             4733           4711              False   \n",
              "16351             4684           1225              False   \n",
              "\n",
              "                             hashtags                 user_mentions  \\\n",
              "156                              Habs                  JohnLuTSNMtl   \n",
              "176                 affordablehousing     TheoMoudakis, TorontoStar   \n",
              "240                            cheers                       BZeit72   \n",
              "248                            Burbon                  lisamarinass   \n",
              "249              burbon, possibilites                  petenajarian   \n",
              "...                               ...                           ...   \n",
              "16160  DailyMirror, DailyMirrorOnline                Dailymirror_SL   \n",
              "16162  DailyMirror, DailyMirrorOnline                Dailymirror_SL   \n",
              "16175                           nifty                      Bhai1Its   \n",
              "16228                           India                _tanveersheikh   \n",
              "16351                IndiaAgainstHate  nitinagarwalINC, RahulGandhi   \n",
              "\n",
              "                         place  \n",
              "156    Ashamed to be in Canada  \n",
              "176    Ashamed to be in Canada  \n",
              "240                   Planet 🌎  \n",
              "248                   Planet 🌎  \n",
              "249                   Planet 🌎  \n",
              "...                        ...  \n",
              "16160         Colombo,srilanka  \n",
              "16162         Colombo,srilanka  \n",
              "16175         Gurgaon, Haryana  \n",
              "16228            Mumbai, INDIA  \n",
              "16351         Hyderabad, India  \n",
              "\n",
              "[590 rows x 16 columns]"
            ],
            "text/html": [
              "\n",
              "  <div id=\"df-440bbe17-382b-422a-ad05-c433f98635d2\">\n",
              "    <div class=\"colab-df-container\">\n",
              "      <div>\n",
              "<style scoped>\n",
              "    .dataframe tbody tr th:only-of-type {\n",
              "        vertical-align: middle;\n",
              "    }\n",
              "\n",
              "    .dataframe tbody tr th {\n",
              "        vertical-align: top;\n",
              "    }\n",
              "\n",
              "    .dataframe thead th {\n",
              "        text-align: right;\n",
              "    }\n",
              "</style>\n",
              "<table border=\"1\" class=\"dataframe\">\n",
              "  <thead>\n",
              "    <tr style=\"text-align: right;\">\n",
              "      <th></th>\n",
              "      <th>Unnamed: 0</th>\n",
              "      <th>created_at</th>\n",
              "      <th>source</th>\n",
              "      <th>original_text</th>\n",
              "      <th>polarity</th>\n",
              "      <th>subjectivity</th>\n",
              "      <th>lang</th>\n",
              "      <th>favorite_count</th>\n",
              "      <th>retweet_count</th>\n",
              "      <th>original_author</th>\n",
              "      <th>followers_count</th>\n",
              "      <th>friends_count</th>\n",
              "      <th>possibly_sensitive</th>\n",
              "      <th>hashtags</th>\n",
              "      <th>user_mentions</th>\n",
              "      <th>place</th>\n",
              "    </tr>\n",
              "  </thead>\n",
              "  <tbody>\n",
              "    <tr>\n",
              "      <th>156</th>\n",
              "      <td>257</td>\n",
              "      <td>2022-04-22 17:14:49+00:00</td>\n",
              "      <td>&lt;a href=\"http://twitter.com/#!/download/ipad\" ...</td>\n",
              "      <td>habs guy lafleurs statue beside bell centre st...</td>\n",
              "      <td>0.000</td>\n",
              "      <td>0.10</td>\n",
              "      <td>en</td>\n",
              "      <td>1518</td>\n",
              "      <td>120</td>\n",
              "      <td>gfliverpool9966</td>\n",
              "      <td>1295</td>\n",
              "      <td>1507</td>\n",
              "      <td>False</td>\n",
              "      <td>Habs</td>\n",
              "      <td>JohnLuTSNMtl</td>\n",
              "      <td>Ashamed to be in Canada</td>\n",
              "    </tr>\n",
              "    <tr>\n",
              "      <th>176</th>\n",
              "      <td>281</td>\n",
              "      <td>2022-04-22 12:05:39+00:00</td>\n",
              "      <td>&lt;a href=\"http://twitter.com/#!/download/ipad\" ...</td>\n",
              "      <td>please enjoy affordablehousing cartoon todays</td>\n",
              "      <td>0.400</td>\n",
              "      <td>0.50</td>\n",
              "      <td>en</td>\n",
              "      <td>304</td>\n",
              "      <td>45</td>\n",
              "      <td>gfliverpool9966</td>\n",
              "      <td>1295</td>\n",
              "      <td>1507</td>\n",
              "      <td>False</td>\n",
              "      <td>affordablehousing</td>\n",
              "      <td>TheoMoudakis, TorontoStar</td>\n",
              "      <td>Ashamed to be in Canada</td>\n",
              "    </tr>\n",
              "    <tr>\n",
              "      <th>240</th>\n",
              "      <td>404</td>\n",
              "      <td>2022-04-16 22:44:20+00:00</td>\n",
              "      <td>&lt;a href=\"http://twitter.com/download/android\" ...</td>\n",
              "      <td>happy easter friend cheers</td>\n",
              "      <td>0.800</td>\n",
              "      <td>1.00</td>\n",
              "      <td>en</td>\n",
              "      <td>0</td>\n",
              "      <td>0</td>\n",
              "      <td>Cannonballs17</td>\n",
              "      <td>125</td>\n",
              "      <td>300</td>\n",
              "      <td>False</td>\n",
              "      <td>cheers</td>\n",
              "      <td>BZeit72</td>\n",
              "      <td>Planet 🌎</td>\n",
              "    </tr>\n",
              "    <tr>\n",
              "      <th>248</th>\n",
              "      <td>413</td>\n",
              "      <td>2022-04-03 01:10:45+00:00</td>\n",
              "      <td>&lt;a href=\"http://twitter.com/download/android\" ...</td>\n",
              "      <td>hope like burbon</td>\n",
              "      <td>0.000</td>\n",
              "      <td>0.00</td>\n",
              "      <td>en</td>\n",
              "      <td>0</td>\n",
              "      <td>0</td>\n",
              "      <td>Cannonballs17</td>\n",
              "      <td>125</td>\n",
              "      <td>300</td>\n",
              "      <td>False</td>\n",
              "      <td>Burbon</td>\n",
              "      <td>lisamarinass</td>\n",
              "      <td>Planet 🌎</td>\n",
              "    </tr>\n",
              "    <tr>\n",
              "      <th>249</th>\n",
              "      <td>414</td>\n",
              "      <td>2022-04-03 00:33:01+00:00</td>\n",
              "      <td>&lt;a href=\"http://twitter.com/download/android\" ...</td>\n",
              "      <td>mitchcers old fashioned infused cherry smoke w...</td>\n",
              "      <td>0.125</td>\n",
              "      <td>0.20</td>\n",
              "      <td>en</td>\n",
              "      <td>0</td>\n",
              "      <td>0</td>\n",
              "      <td>Cannonballs17</td>\n",
              "      <td>125</td>\n",
              "      <td>300</td>\n",
              "      <td>False</td>\n",
              "      <td>burbon, possibilites</td>\n",
              "      <td>petenajarian</td>\n",
              "      <td>Planet 🌎</td>\n",
              "    </tr>\n",
              "    <tr>\n",
              "      <th>...</th>\n",
              "      <td>...</td>\n",
              "      <td>...</td>\n",
              "      <td>...</td>\n",
              "      <td>...</td>\n",
              "      <td>...</td>\n",
              "      <td>...</td>\n",
              "      <td>...</td>\n",
              "      <td>...</td>\n",
              "      <td>...</td>\n",
              "      <td>...</td>\n",
              "      <td>...</td>\n",
              "      <td>...</td>\n",
              "      <td>...</td>\n",
              "      <td>...</td>\n",
              "      <td>...</td>\n",
              "      <td>...</td>\n",
              "    </tr>\n",
              "    <tr>\n",
              "      <th>16160</th>\n",
              "      <td>24062</td>\n",
              "      <td>2022-04-22 18:14:55+00:00</td>\n",
              "      <td>&lt;a href=\"http://twitter.com/#!/download/ipad\" ...</td>\n",
              "      <td>read daily mirror today dailymirror dailymirro...</td>\n",
              "      <td>0.000</td>\n",
              "      <td>0.00</td>\n",
              "      <td>en</td>\n",
              "      <td>10</td>\n",
              "      <td>5</td>\n",
              "      <td>steve4you4ever</td>\n",
              "      <td>491</td>\n",
              "      <td>4997</td>\n",
              "      <td>False</td>\n",
              "      <td>DailyMirror, DailyMirrorOnline</td>\n",
              "      <td>Dailymirror_SL</td>\n",
              "      <td>Colombo,srilanka</td>\n",
              "    </tr>\n",
              "    <tr>\n",
              "      <th>16162</th>\n",
              "      <td>24064</td>\n",
              "      <td>2022-04-22 18:13:28+00:00</td>\n",
              "      <td>&lt;a href=\"http://twitter.com/#!/download/ipad\" ...</td>\n",
              "      <td>read daily mirror today dailymirror dailymirro...</td>\n",
              "      <td>0.000</td>\n",
              "      <td>0.00</td>\n",
              "      <td>en</td>\n",
              "      <td>13</td>\n",
              "      <td>4</td>\n",
              "      <td>steve4you4ever</td>\n",
              "      <td>491</td>\n",
              "      <td>4997</td>\n",
              "      <td>False</td>\n",
              "      <td>DailyMirror, DailyMirrorOnline</td>\n",
              "      <td>Dailymirror_SL</td>\n",
              "      <td>Colombo,srilanka</td>\n",
              "    </tr>\n",
              "    <tr>\n",
              "      <th>16175</th>\n",
              "      <td>24078</td>\n",
              "      <td>2022-04-22 05:57:39+00:00</td>\n",
              "      <td>&lt;a href=\"https://mobile.twitter.com\" rel=\"nofo...</td>\n",
              "      <td>happy birthday nifty meri rozi roti aaj mst re...</td>\n",
              "      <td>0.800</td>\n",
              "      <td>1.00</td>\n",
              "      <td>en</td>\n",
              "      <td>141</td>\n",
              "      <td>9</td>\n",
              "      <td>NiveshValue</td>\n",
              "      <td>55</td>\n",
              "      <td>8</td>\n",
              "      <td>False</td>\n",
              "      <td>nifty</td>\n",
              "      <td>Bhai1Its</td>\n",
              "      <td>Gurgaon, Haryana</td>\n",
              "    </tr>\n",
              "    <tr>\n",
              "      <th>16228</th>\n",
              "      <td>24184</td>\n",
              "      <td>2022-04-20 23:47:58+00:00</td>\n",
              "      <td>&lt;a href=\"http://twitter.com/download/android\" ...</td>\n",
              "      <td>india made people india</td>\n",
              "      <td>0.000</td>\n",
              "      <td>0.00</td>\n",
              "      <td>en</td>\n",
              "      <td>154</td>\n",
              "      <td>97</td>\n",
              "      <td>yashin143</td>\n",
              "      <td>4733</td>\n",
              "      <td>4711</td>\n",
              "      <td>False</td>\n",
              "      <td>India</td>\n",
              "      <td>_tanveersheikh</td>\n",
              "      <td>Mumbai, INDIA</td>\n",
              "    </tr>\n",
              "    <tr>\n",
              "      <th>16351</th>\n",
              "      <td>24476</td>\n",
              "      <td>2022-04-22 13:52:56+00:00</td>\n",
              "      <td>&lt;a href=\"http://twitter.com/download/android\" ...</td>\n",
              "      <td>love strength hate weakness sh ji indiaagainst...</td>\n",
              "      <td>-0.150</td>\n",
              "      <td>0.75</td>\n",
              "      <td>en</td>\n",
              "      <td>195</td>\n",
              "      <td>110</td>\n",
              "      <td>ibrahimpatel007</td>\n",
              "      <td>4684</td>\n",
              "      <td>1225</td>\n",
              "      <td>False</td>\n",
              "      <td>IndiaAgainstHate</td>\n",
              "      <td>nitinagarwalINC, RahulGandhi</td>\n",
              "      <td>Hyderabad, India</td>\n",
              "    </tr>\n",
              "  </tbody>\n",
              "</table>\n",
              "<p>590 rows × 16 columns</p>\n",
              "</div>\n",
              "      <button class=\"colab-df-convert\" onclick=\"convertToInteractive('df-440bbe17-382b-422a-ad05-c433f98635d2')\"\n",
              "              title=\"Convert this dataframe to an interactive table.\"\n",
              "              style=\"display:none;\">\n",
              "        \n",
              "  <svg xmlns=\"http://www.w3.org/2000/svg\" height=\"24px\"viewBox=\"0 0 24 24\"\n",
              "       width=\"24px\">\n",
              "    <path d=\"M0 0h24v24H0V0z\" fill=\"none\"/>\n",
              "    <path d=\"M18.56 5.44l.94 2.06.94-2.06 2.06-.94-2.06-.94-.94-2.06-.94 2.06-2.06.94zm-11 1L8.5 8.5l.94-2.06 2.06-.94-2.06-.94L8.5 2.5l-.94 2.06-2.06.94zm10 10l.94 2.06.94-2.06 2.06-.94-2.06-.94-.94-2.06-.94 2.06-2.06.94z\"/><path d=\"M17.41 7.96l-1.37-1.37c-.4-.4-.92-.59-1.43-.59-.52 0-1.04.2-1.43.59L10.3 9.45l-7.72 7.72c-.78.78-.78 2.05 0 2.83L4 21.41c.39.39.9.59 1.41.59.51 0 1.02-.2 1.41-.59l7.78-7.78 2.81-2.81c.8-.78.8-2.07 0-2.86zM5.41 20L4 18.59l7.72-7.72 1.47 1.35L5.41 20z\"/>\n",
              "  </svg>\n",
              "      </button>\n",
              "      \n",
              "  <style>\n",
              "    .colab-df-container {\n",
              "      display:flex;\n",
              "      flex-wrap:wrap;\n",
              "      gap: 12px;\n",
              "    }\n",
              "\n",
              "    .colab-df-convert {\n",
              "      background-color: #E8F0FE;\n",
              "      border: none;\n",
              "      border-radius: 50%;\n",
              "      cursor: pointer;\n",
              "      display: none;\n",
              "      fill: #1967D2;\n",
              "      height: 32px;\n",
              "      padding: 0 0 0 0;\n",
              "      width: 32px;\n",
              "    }\n",
              "\n",
              "    .colab-df-convert:hover {\n",
              "      background-color: #E2EBFA;\n",
              "      box-shadow: 0px 1px 2px rgba(60, 64, 67, 0.3), 0px 1px 3px 1px rgba(60, 64, 67, 0.15);\n",
              "      fill: #174EA6;\n",
              "    }\n",
              "\n",
              "    [theme=dark] .colab-df-convert {\n",
              "      background-color: #3B4455;\n",
              "      fill: #D2E3FC;\n",
              "    }\n",
              "\n",
              "    [theme=dark] .colab-df-convert:hover {\n",
              "      background-color: #434B5C;\n",
              "      box-shadow: 0px 1px 3px 1px rgba(0, 0, 0, 0.15);\n",
              "      filter: drop-shadow(0px 1px 2px rgba(0, 0, 0, 0.3));\n",
              "      fill: #FFFFFF;\n",
              "    }\n",
              "  </style>\n",
              "\n",
              "      <script>\n",
              "        const buttonEl =\n",
              "          document.querySelector('#df-440bbe17-382b-422a-ad05-c433f98635d2 button.colab-df-convert');\n",
              "        buttonEl.style.display =\n",
              "          google.colab.kernel.accessAllowed ? 'block' : 'none';\n",
              "\n",
              "        async function convertToInteractive(key) {\n",
              "          const element = document.querySelector('#df-440bbe17-382b-422a-ad05-c433f98635d2');\n",
              "          const dataTable =\n",
              "            await google.colab.kernel.invokeFunction('convertToInteractive',\n",
              "                                                     [key], {});\n",
              "          if (!dataTable) return;\n",
              "\n",
              "          const docLinkHtml = 'Like what you see? Visit the ' +\n",
              "            '<a target=\"_blank\" href=https://colab.research.google.com/notebooks/data_table.ipynb>data table notebook</a>'\n",
              "            + ' to learn more about interactive tables.';\n",
              "          element.innerHTML = '';\n",
              "          dataTable['output_type'] = 'display_data';\n",
              "          await google.colab.output.renderOutput(dataTable, element);\n",
              "          const docLink = document.createElement('div');\n",
              "          docLink.innerHTML = docLinkHtml;\n",
              "          element.appendChild(docLink);\n",
              "        }\n",
              "      </script>\n",
              "    </div>\n",
              "  </div>\n",
              "  "
            ]
          },
          "metadata": {},
          "execution_count": 12
        }
      ],
      "source": [
        "tweets_df=DataLoader_obj.read_csv()\n",
        "tweets_df.dropna()"
      ]
    },
    {
      "cell_type": "code",
      "execution_count": 13,
      "metadata": {
        "colab": {
          "base_uri": "https://localhost:8080/"
        },
        "id": "ccclCgsPTw2U",
        "outputId": "f6fe8ba0-cab9-40b8-dc4b-b70ddd32be31"
      },
      "outputs": [
        {
          "output_type": "execute_result",
          "data": {
            "text/plain": [
              "16386"
            ]
          },
          "metadata": {},
          "execution_count": 13
        }
      ],
      "source": [
        "len(tweets_df)"
      ]
    },
    {
      "cell_type": "code",
      "execution_count": 14,
      "metadata": {
        "colab": {
          "base_uri": "https://localhost:8080/"
        },
        "id": "Up1mMnXxirSI",
        "outputId": "4e1cae1d-21c6-4208-85f1-e678fac8c815"
      },
      "outputs": [
        {
          "output_type": "stream",
          "name": "stdout",
          "text": [
            "[nltk_data] Downloading package stopwords to /root/nltk_data...\n",
            "[nltk_data]   Unzipping corpora/stopwords.zip.\n"
          ]
        },
        {
          "output_type": "execute_result",
          "data": {
            "text/plain": [
              "True"
            ]
          },
          "metadata": {},
          "execution_count": 14
        }
      ],
      "source": [
        "import nltk\n",
        "nltk.download('stopwords')"
      ]
    },
    {
      "cell_type": "code",
      "execution_count": 15,
      "metadata": {
        "id": "0jzyE5uTTw2W"
      },
      "outputs": [],
      "source": [
        "class PrepareData:\n",
        "  def __init__(self,df):\n",
        "    self.df=df\n",
        "    \n",
        "  def preprocess_data(self):\n",
        "    tweets_df = self.df.loc[self.df['lang'] ==\"en\"]\n",
        "    tweet_tokens = tweets_df['original_text']\n",
        "      \n",
        "    #text Preprocessing\n",
        "    tweet_tokens = tweet_tokens.astype(str)\n",
        "    tweet_tokens = tweet_tokens.apply(lambda x: x.lower())\n",
        "    tweet_tokens = tweet_tokens.apply(lambda x: x.translate(str.maketrans(' ', ' ', string.punctuation)))   \n",
        "    \n",
        "    #Converting tweets to list of words For feature engineering\n",
        "    sentence_list = [tweet for tweet in tweet_tokens]\n",
        "    word_list = [sent.split() for sent in sentence_list]\n",
        "\n",
        "    # Remove stopwords\n",
        "    stop_words = list(stopwords.words('english'))\n",
        "    emojis = list(UNICODE_EMOJI.keys())  # full list of emojis\n",
        "    \n",
        "    filtered_words = [w for w in word_list if w not in stop_words]\n",
        "    filtered_words = [w for w in filtered_words if w not in emojis]\n",
        "    filtered_words = [w for w in filtered_words if w in word_list]\n",
        "\n",
        "    #Create dictionary which contains Id and word \n",
        "    word_to_id = corpora.Dictionary(filtered_words)\n",
        "    corpus_1= [word_to_id.doc2bow(tweet) for tweet in filtered_words]\n",
        "\n",
        "    return word_list, word_to_id, corpus_1"
      ]
    },
    {
      "cell_type": "code",
      "execution_count": 16,
      "metadata": {
        "id": "aVbJUyGnTw2a"
      },
      "outputs": [],
      "source": [
        "PrepareData_obj=PrepareData(tweets_df)\n",
        "word_list ,id2word,corpus=PrepareData_obj.preprocess_data()"
      ]
    },
    {
      "cell_type": "markdown",
      "metadata": {
        "id": "TjAG_2LFr6SF"
      },
      "source": [
        "**Topic Modeling with LDA**"
      ]
    },
    {
      "cell_type": "code",
      "execution_count": 17,
      "metadata": {
        "id": "zjcMVOh_Tw2d"
      },
      "outputs": [],
      "source": [
        "# Build LDA model\n",
        "lda_model = gensim.models.ldamodel.LdaModel(corpus,\n",
        "                                           id2word=id2word,\n",
        "                                           num_topics=5, \n",
        "                                           random_state=100,\n",
        "                                           update_every=1,\n",
        "                                           chunksize=100,\n",
        "                                           passes=10,\n",
        "                                           alpha='auto',\n",
        "                                           per_word_topics=True)"
      ]
    },
    {
      "cell_type": "code",
      "execution_count": 18,
      "metadata": {
        "colab": {
          "base_uri": "https://localhost:8080/"
        },
        "id": "FdATZ0DRTw2e",
        "outputId": "0457f1ae-431d-438a-934c-007c49cdf3b9"
      },
      "outputs": [
        {
          "output_type": "stream",
          "name": "stdout",
          "text": [
            "[(0,\n",
            "  [('india', 0.02410113),\n",
            "   ('follow', 0.023667822),\n",
            "   ('read', 0.012196038),\n",
            "   ('levels', 0.0105431415),\n",
            "   ('power', 0.008893978),\n",
            "   ('country', 0.007957049),\n",
            "   ('army', 0.0073709213),\n",
            "   ('never', 0.0064901584),\n",
            "   ('state', 0.006002952),\n",
            "   ('tomorrow', 0.005672645)]),\n",
            " (1,\n",
            "  [('world', 0.011013914),\n",
            "   ('minister', 0.008732659),\n",
            "   ('make', 0.008318668),\n",
            "   ('even', 0.007939606),\n",
            "   ('chart', 0.006850983),\n",
            "   ('still', 0.0066300933),\n",
            "   ('president', 0.006059221),\n",
            "   ('best', 0.0059319297),\n",
            "   ('think', 0.005394838),\n",
            "   ('national', 0.005372991)]),\n",
            " (2,\n",
            "  [('today', 0.012290991),\n",
            "   ('us', 0.011778534),\n",
            "   ('day', 0.010885267),\n",
            "   ('new', 0.010514958),\n",
            "   ('details', 0.00979972),\n",
            "   ('online', 0.009597191),\n",
            "   ('know', 0.008708531),\n",
            "   ('sec', 0.008075538),\n",
            "   ('profile', 0.007899926),\n",
            "   ('years', 0.0067606866)]),\n",
            " (3,\n",
            "  [('people', 0.014751991),\n",
            "   ('sri', 0.010106131),\n",
            "   ('please', 0.009915105),\n",
            "   ('need', 0.006965267),\n",
            "   ('dont', 0.006792071),\n",
            "   ('government', 0.006635094),\n",
            "   ('like', 0.0065680337),\n",
            "   ('ukraine', 0.0065343925),\n",
            "   ('going', 0.005851086),\n",
            "   ('lanka', 0.005555504)]),\n",
            " (4,\n",
            "  [('back', 0.013960063),\n",
            "   ('go', 0.011287567),\n",
            "   ('man', 0.009811928),\n",
            "   ('full', 0.009108854),\n",
            "   ('time', 0.007907069),\n",
            "   ('get', 0.007446517),\n",
            "   ('police', 0.0073433495),\n",
            "   ('says', 0.0071108965),\n",
            "   ('good', 0.006576313),\n",
            "   ('last', 0.0063889814)])]\n"
          ]
        }
      ],
      "source": [
        "pprint(lda_model.show_topics(formatted=False))"
      ]
    },
    {
      "cell_type": "code",
      "execution_count": 19,
      "metadata": {
        "colab": {
          "base_uri": "https://localhost:8080/"
        },
        "id": "u_6m3YF-Tw2f",
        "outputId": "bc1ec7df-0b6c-40de-c62f-2a086def9bf7"
      },
      "outputs": [
        {
          "output_type": "stream",
          "name": "stdout",
          "text": [
            "\n",
            "Perplexity:  -10.404027527499373\n",
            "\n",
            " Ldamodel Coherence Score/Accuracy on Tweets:  0.5018444123752539\n"
          ]
        }
      ],
      "source": [
        "# Compute Perplexity\n",
        "\n",
        "#It's a measure of how good the model is. The lower the better. Perplexity is a negative value\n",
        "print('\\nPerplexity: ', lda_model.log_perplexity(corpus))  \n",
        "doc_lda = lda_model[corpus]\n",
        "\n",
        "\n",
        "# Compute Coherence Score\n",
        "coherence_model_lda = CoherenceModel(model=lda_model, texts=word_list, dictionary=id2word, coherence='c_v')\n",
        "coherence_lda = coherence_model_lda.get_coherence()\n",
        "print('\\n Ldamodel Coherence Score/Accuracy on Tweets: ', coherence_lda)"
      ]
    },
    {
      "cell_type": "markdown",
      "metadata": {
        "id": "eFNyU-8csTDt"
      },
      "source": [
        "**Anlayizing Results**"
      ]
    },
    {
      "cell_type": "code",
      "execution_count": 21,
      "metadata": {
        "colab": {
          "base_uri": "https://localhost:8080/",
          "height": 916
        },
        "id": "7rMQHbwisL6T",
        "outputId": "b1501d69-0c0a-41b7-9807-cf9301124646"
      },
      "outputs": [
        {
          "output_type": "stream",
          "name": "stderr",
          "text": [
            "/usr/local/lib/python3.7/dist-packages/past/types/oldstr.py:5: DeprecationWarning: Using or importing the ABCs from 'collections' instead of from 'collections.abc' is deprecated since Python 3.3,and in 3.9 it will stop working\n",
            "  from collections import Iterable\n"
          ]
        },
        {
          "output_type": "execute_result",
          "data": {
            "text/plain": [
              "PreparedData(topic_coordinates=              x         y  topics  cluster       Freq\n",
              "topic                                                \n",
              "3      0.219159  0.052949       1        1  22.185841\n",
              "4     -0.056928 -0.169642       2        1  20.997948\n",
              "2     -0.127257  0.180418       3        1  20.193639\n",
              "0     -0.029572 -0.056008       4        1  18.648598\n",
              "1     -0.005403 -0.007716       5        1  17.973973, topic_info=             Term        Freq       Total Category  logprob  loglift\n",
              "3626        india  672.000000  672.000000  Default  30.0000  30.0000\n",
              "151        follow  660.000000  660.000000  Default  29.0000  29.0000\n",
              "282        people  490.000000  490.000000  Default  28.0000  28.0000\n",
              "468          back  439.000000  439.000000  Default  27.0000  27.0000\n",
              "1085        today  371.000000  371.000000  Default  26.0000  26.0000\n",
              "...           ...         ...         ...      ...      ...      ...\n",
              "7499   parliament   80.176374   80.909324   Topic5  -5.8148   1.7071\n",
              "2384         sure   75.152343   75.859449   Topic5  -5.8795   1.7069\n",
              "78          chart  184.130326  187.174388   Topic5  -4.9834   1.6998\n",
              "293        upside   85.414732   86.832450   Topic5  -5.7515   1.6998\n",
              "21954    srilanka  103.069505  597.320359   Topic5  -5.5636  -0.0408\n",
              "\n",
              "[196 rows x 6 columns], token_table=      Topic      Freq     Term\n",
              "term                          \n",
              "1075      2  0.995013        1\n",
              "1308      5  0.992277        3\n",
              "1283      1  0.996263        4\n",
              "128       5  0.992317        5\n",
              "2409      1  0.997135   across\n",
              "...     ...       ...      ...\n",
              "1129      4  0.993789  working\n",
              "86        5  0.997560    world\n",
              "156       4  0.994576    would\n",
              "38        3  0.996483     year\n",
              "51        3  0.995849    years\n",
              "\n",
              "[186 rows x 3 columns], R=30, lambda_step=0.01, plot_opts={'xlab': 'PC1', 'ylab': 'PC2'}, topic_order=[4, 5, 3, 1, 2])"
            ],
            "text/html": [
              "\n",
              "<link rel=\"stylesheet\" type=\"text/css\" href=\"https://cdn.jsdelivr.net/gh/bmabey/pyLDAvis@3.3.1/pyLDAvis/js/ldavis.v1.0.0.css\">\n",
              "\n",
              "\n",
              "<div id=\"ldavis_el631405985939339049136606885\"></div>\n",
              "<script type=\"text/javascript\">\n",
              "\n",
              "var ldavis_el631405985939339049136606885_data = {\"mdsDat\": {\"x\": [0.21915916043661998, -0.056927610360429884, -0.12725723844743791, -0.02957161985908933, -0.005402691769662836], \"y\": [0.05294871817189807, -0.16964209359068774, 0.18041767307612988, -0.056008130517221436, -0.007716167140118752], \"topics\": [1, 2, 3, 4, 5], \"cluster\": [1, 1, 1, 1, 1], \"Freq\": [22.185841166621685, 20.99794849019843, 20.193638679322014, 18.648598302667676, 17.97397336119019]}, \"tinfo\": {\"Term\": [\"india\", \"follow\", \"people\", \"back\", \"today\", \"read\", \"us\", \"go\", \"day\", \"world\", \"new\", \"sri\", \"please\", \"levels\", \"man\", \"details\", \"online\", \"full\", \"know\", \"power\", \"minister\", \"time\", \"make\", \"country\", \"even\", \"get\", \"police\", \"profile\", \"says\", \"need\", \"people\", \"sri\", \"please\", \"need\", \"dont\", \"like\", \"government\", \"ukraine\", \"going\", \"big\", \"price\", \"said\", \"thats\", \"uk\", \"media\", \"thank\", \"4\", \"prices\", \"story\", \"indian\", \"food\", \"im\", \"delivery\", \"always\", \"h\", \"indias\", \"stop\", \"support\", \"russia\", \"inflation\", \"war\", \"across\", \"fuelpricehike\", \"lanka\", \"min\", \"srilanka\", \"back\", \"go\", \"man\", \"full\", \"time\", \"get\", \"police\", \"says\", \"good\", \"last\", \"also\", \"take\", \"covid19\", \"may\", \"first\", \"days\", \"many\", \"1\", \"change\", \"right\", \"well\", \"p\", \"week\", \"energy\", \"say\", \"better\", \"https\", \"happy\", \"join\", \"th\", \"srilanka\", \"today\", \"us\", \"day\", \"new\", \"details\", \"know\", \"online\", \"years\", \"delhi\", \"news\", \"part\", \"trading\", \"wordle\", \"protest\", \"watch\", \"high\", \"year\", \"april\", \"rs\", \"times\", \"twitter\", \"free\", \"fuel\", \"public\", \"tamil\", \"great\", \"see\", \"cases\", \"every\", \"hate\", \"nifty\", \"coal\", \"profile\", \"sec\", \"srilanka\", \"india\", \"follow\", \"read\", \"power\", \"country\", \"army\", \"levels\", \"never\", \"state\", \"want\", \"tomorrow\", \"bjp\", \"would\", \"crisis\", \"covid\", \"life\", \"must\", \"love\", \"russian\", \"leader\", \"everyone\", \"way\", \"come\", \"live\", \"working\", \"towards\", \"court\", \"face\", \"set\", \"per\", \"srilanka\", \"world\", \"minister\", \"make\", \"even\", \"still\", \"president\", \"best\", \"think\", \"national\", \"5\", \"govt\", \"mr\", \"made\", \"another\", \"could\", \"catch\", \"political\", \"really\", \"states\", \"bank\", \"justice\", \"congress\", \"oil\", \"hike\", \"3\", \"ever\", \"believe\", \"peace\", \"parliament\", \"sure\", \"chart\", \"upside\", \"srilanka\"], \"Freq\": [672.0, 660.0, 490.0, 439.0, 371.0, 340.0, 356.0, 355.0, 329.0, 296.0, 318.0, 335.0, 329.0, 295.0, 308.0, 296.0, 290.0, 286.0, 263.0, 248.0, 235.0, 248.0, 224.0, 222.0, 214.0, 234.0, 231.0, 245.0, 223.0, 231.0, 489.38976525613765, 335.26574169963226, 328.92853966394233, 231.06917064700062, 225.32347540499654, 217.89115932897263, 220.11585206507843, 216.77512859502016, 194.10679319465797, 166.67498206015622, 153.65364511929099, 152.4124231851288, 143.21670934208376, 125.44661095856463, 125.86782589693065, 121.03359797905956, 120.75153930074896, 118.93987402323238, 119.10502939359789, 116.8244841421468, 116.48588550915116, 110.83253885979931, 123.35111819814416, 110.78457258676733, 111.48846412644598, 112.42208399020146, 110.29004108421137, 109.47124676230668, 106.26502195767608, 104.55668885417269, 104.92943545706758, 105.58977114914119, 122.30777065730457, 184.3010039717163, 126.5821371632309, 132.70139003207004, 438.3213199784045, 354.40966096075124, 308.07718422451615, 286.0019312637259, 248.2680009382546, 233.80746586061224, 230.56819628767587, 223.26958315815872, 206.48461081260652, 200.60272304444715, 199.00997616926142, 180.85736096271862, 183.04449296969662, 173.927561080673, 158.8726701131212, 154.69960487412877, 154.34814668412992, 130.95693589029008, 132.48258726527175, 127.46612764106035, 125.62266086230113, 122.42780970941705, 118.99992999208494, 118.39305126584411, 116.18131221444611, 114.71785101382004, 116.35889085853591, 106.51734511243839, 105.63707671294299, 104.23223817696457, 144.9811235920141, 371.1332080104902, 355.65930243845986, 328.686591475633, 317.504915574439, 295.90791082544774, 262.9588683371839, 289.79243265510934, 204.14263891688617, 189.0682175130342, 169.49124352864152, 153.59567975255877, 159.12830558614976, 159.4096500907811, 140.67247729003634, 138.99518090998419, 136.017181176395, 132.7610006401857, 128.8480074446561, 129.1817006718994, 125.04010539948959, 127.31226212303385, 123.9646998118433, 121.95567873024372, 123.1613585362622, 154.65512622117078, 110.3934024466537, 105.25466454390572, 103.41373446538552, 97.66431067864053, 93.345112205771, 142.551772528279, 111.9277416784932, 238.54259733017867, 243.84529936249365, 122.22557766404344, 672.0660361918253, 659.983106613717, 340.08955742235776, 248.01078934123868, 221.88428682401502, 205.5399782655734, 293.9981291768674, 180.97968428675728, 167.39380948521728, 150.94182863453852, 158.18311491451306, 146.8093135987495, 136.03130675774676, 135.4020497290671, 129.75295513472227, 127.38957948431158, 122.153449423254, 115.40836204622904, 115.30958453452523, 101.72715077946893, 99.19891004724579, 96.71376679909586, 93.904132867533, 93.6420484837452, 93.86780061069754, 92.00272744636987, 89.90346185239397, 90.45123100481531, 85.00332076403731, 84.6049514618734, 94.34276241355622, 296.01526510440937, 234.70315244235817, 223.5765418413192, 213.38868167385309, 178.19358777687012, 162.85054746405208, 159.42940487233204, 144.99426468620283, 144.4070951130706, 137.338357413298, 132.77905751596325, 124.01148790688529, 111.52785177841099, 109.71770845757356, 105.51886279495153, 102.24488179897016, 95.32141587897702, 94.05926912496473, 93.16999807811237, 90.89303266933409, 89.80505560933867, 88.79086897911533, 85.2020271228547, 83.68594417140757, 81.93349655634513, 80.1990459965765, 80.81453777842215, 79.19361384491924, 80.17637446273454, 75.15234253881782, 184.1303257170673, 85.41473154096727, 103.0695048700783], \"Total\": [672.0, 660.0, 490.0, 439.0, 371.0, 340.0, 356.0, 355.0, 329.0, 296.0, 318.0, 335.0, 329.0, 295.0, 308.0, 296.0, 290.0, 286.0, 263.0, 248.0, 235.0, 248.0, 224.0, 222.0, 214.0, 234.0, 231.0, 245.0, 223.0, 231.0, 490.08857727964113, 335.99545518538827, 329.6545107705953, 231.77303729550266, 226.0195917946292, 218.58428917099292, 220.81922448570919, 217.47308657402692, 194.8064443236155, 167.37398645436815, 154.34950213142287, 153.11657377085567, 143.91830676256154, 126.14399377409042, 126.57018624928331, 121.7339413582539, 121.45385439347328, 119.63372581323293, 119.80744598114043, 117.53081979560696, 117.19110894399684, 111.52616856873614, 124.12412919662658, 111.47954193734363, 112.19014831973394, 113.13272650011065, 110.98980100871857, 110.1752366758083, 106.96300788442385, 105.24971150813113, 105.62853986187787, 106.30458067675546, 123.80613002074641, 214.01111863636493, 134.83769605410214, 597.3203585717621, 439.03751810871796, 355.1203824478232, 308.8070166660306, 286.7280265562685, 248.964573703307, 234.50494885014785, 231.2800903987494, 223.9749538070291, 207.17958422143897, 201.30096273100384, 199.71071713614268, 181.555860005338, 183.7575176150504, 174.62574860910038, 159.572878087123, 155.4011255252778, 155.04922991354698, 131.65661398831597, 133.19245564507648, 128.1665851366636, 126.32301266652907, 123.14071753427044, 119.69474072967107, 119.09810033344122, 116.88482271005626, 115.42305284023382, 117.08630585650958, 107.2164065455749, 106.33888214039044, 104.93622080137807, 597.3203585717621, 371.8412397572164, 356.3699952077567, 329.3949939380516, 318.2086187487854, 296.6740367143693, 263.6721555069879, 290.61789372269226, 204.85038914170676, 189.7839462305111, 170.2014722215946, 154.31608980273856, 159.91556008276092, 160.2190879949225, 141.38927652124445, 139.70767523020842, 136.7254680925147, 133.46946839436384, 129.55839521805868, 129.90187921947864, 125.75388803519364, 128.0391533998557, 124.6828156573913, 122.66258791755605, 123.88425925212063, 155.6197596995686, 111.0976033288356, 105.95724082902218, 104.14523518029893, 98.37108630452323, 94.0567906762176, 143.70581601714935, 112.78888132388104, 245.33048859498555, 271.48713163252074, 597.3203585717621, 672.7805869703953, 660.7830386168581, 340.811547216534, 248.73480266607658, 222.60372591340544, 206.32270144133807, 295.1264557142959, 181.69511185464185, 168.10589980681857, 151.66022611010305, 158.9446997957691, 147.5278325679048, 136.74172041483558, 136.12417919627208, 130.46419974094727, 128.10618480938277, 122.86783911410842, 116.1229981804329, 116.02924966466286, 102.44468103531753, 99.91462341005827, 97.42325146922788, 94.61140657575474, 94.34894564958559, 94.58747033834646, 92.72243656751061, 90.62198648875214, 91.17894324020489, 85.71832274447117, 85.32067833145821, 597.3203585717621, 296.7240713386796, 235.41067085794623, 224.2818355411724, 214.10089261434067, 178.89697105629395, 163.56166214451207, 160.13124865647043, 145.69952213382737, 145.11423423805408, 138.06076380593896, 133.49141155637292, 124.7107711952089, 112.22959816615648, 110.4206958949068, 106.22151792969643, 102.99255810837435, 96.02792040392345, 94.76423295743982, 93.88761373339207, 91.60239160193998, 90.51236191775641, 89.50018264531208, 85.92017776704411, 84.40459479943006, 82.63824900175369, 80.90315411052104, 81.52752139399459, 79.90557385835147, 80.90932396978373, 75.85944852577815, 187.1743878033541, 86.83244989459915, 597.3203585717621], \"Category\": [\"Default\", \"Default\", \"Default\", \"Default\", \"Default\", \"Default\", \"Default\", \"Default\", \"Default\", \"Default\", \"Default\", \"Default\", \"Default\", \"Default\", \"Default\", \"Default\", \"Default\", \"Default\", \"Default\", \"Default\", \"Default\", \"Default\", \"Default\", \"Default\", \"Default\", \"Default\", \"Default\", \"Default\", \"Default\", \"Default\", \"Topic1\", \"Topic1\", \"Topic1\", \"Topic1\", \"Topic1\", \"Topic1\", \"Topic1\", \"Topic1\", \"Topic1\", \"Topic1\", \"Topic1\", \"Topic1\", \"Topic1\", \"Topic1\", \"Topic1\", \"Topic1\", \"Topic1\", \"Topic1\", \"Topic1\", \"Topic1\", \"Topic1\", \"Topic1\", \"Topic1\", \"Topic1\", \"Topic1\", \"Topic1\", \"Topic1\", \"Topic1\", \"Topic1\", \"Topic1\", \"Topic1\", \"Topic1\", \"Topic1\", \"Topic1\", \"Topic1\", \"Topic1\", \"Topic2\", \"Topic2\", \"Topic2\", \"Topic2\", \"Topic2\", \"Topic2\", \"Topic2\", \"Topic2\", \"Topic2\", \"Topic2\", \"Topic2\", \"Topic2\", \"Topic2\", \"Topic2\", \"Topic2\", \"Topic2\", \"Topic2\", \"Topic2\", \"Topic2\", \"Topic2\", \"Topic2\", \"Topic2\", \"Topic2\", \"Topic2\", \"Topic2\", \"Topic2\", \"Topic2\", \"Topic2\", \"Topic2\", \"Topic2\", \"Topic2\", \"Topic3\", \"Topic3\", \"Topic3\", \"Topic3\", \"Topic3\", \"Topic3\", \"Topic3\", \"Topic3\", \"Topic3\", \"Topic3\", \"Topic3\", \"Topic3\", \"Topic3\", \"Topic3\", \"Topic3\", \"Topic3\", \"Topic3\", \"Topic3\", \"Topic3\", \"Topic3\", \"Topic3\", \"Topic3\", \"Topic3\", \"Topic3\", \"Topic3\", \"Topic3\", \"Topic3\", \"Topic3\", \"Topic3\", \"Topic3\", \"Topic3\", \"Topic3\", \"Topic3\", \"Topic3\", \"Topic3\", \"Topic4\", \"Topic4\", \"Topic4\", \"Topic4\", \"Topic4\", \"Topic4\", \"Topic4\", \"Topic4\", \"Topic4\", \"Topic4\", \"Topic4\", \"Topic4\", \"Topic4\", \"Topic4\", \"Topic4\", \"Topic4\", \"Topic4\", \"Topic4\", \"Topic4\", \"Topic4\", \"Topic4\", \"Topic4\", \"Topic4\", \"Topic4\", \"Topic4\", \"Topic4\", \"Topic4\", \"Topic4\", \"Topic4\", \"Topic4\", \"Topic4\", \"Topic5\", \"Topic5\", \"Topic5\", \"Topic5\", \"Topic5\", \"Topic5\", \"Topic5\", \"Topic5\", \"Topic5\", \"Topic5\", \"Topic5\", \"Topic5\", \"Topic5\", \"Topic5\", \"Topic5\", \"Topic5\", \"Topic5\", \"Topic5\", \"Topic5\", \"Topic5\", \"Topic5\", \"Topic5\", \"Topic5\", \"Topic5\", \"Topic5\", \"Topic5\", \"Topic5\", \"Topic5\", \"Topic5\", \"Topic5\", \"Topic5\", \"Topic5\", \"Topic5\"], \"logprob\": [30.0, 29.0, 28.0, 27.0, 26.0, 25.0, 24.0, 23.0, 22.0, 21.0, 20.0, 19.0, 18.0, 17.0, 16.0, 15.0, 14.0, 13.0, 12.0, 11.0, 10.0, 9.0, 8.0, 7.0, 6.0, 5.0, 4.0, 3.0, 2.0, 1.0, -4.2164, -4.5946, -4.6137, -4.9668, -4.992, -5.0255, -5.0154, -5.0307, -5.1411, -5.2935, -5.3748, -5.3829, -5.4452, -5.5777, -5.5743, -5.6135, -5.6158, -5.6309, -5.6295, -5.6489, -5.6518, -5.7015, -5.5945, -5.7019, -5.6956, -5.6873, -5.7064, -5.7139, -5.7436, -5.7598, -5.7562, -5.75, -5.603, -5.193, -5.5686, -5.5214, -4.2716, -4.4841, -4.6242, -4.6985, -4.84, -4.9, -4.914, -4.9461, -5.0243, -5.0532, -5.0612, -5.1568, -5.1448, -5.1959, -5.2864, -5.313, -5.3153, -5.4796, -5.4681, -5.5067, -5.5212, -5.547, -5.5754, -5.5805, -5.5994, -5.612, -5.5978, -5.6862, -5.6945, -5.7079, -5.3779, -4.3989, -4.4415, -4.5203, -4.555, -4.6254, -4.7435, -4.6463, -4.9966, -5.0733, -5.1826, -5.2811, -5.2457, -5.244, -5.369, -5.381, -5.4027, -5.4269, -5.4568, -5.4542, -5.4868, -5.4688, -5.4955, -5.5118, -5.502, -5.2743, -5.6114, -5.6591, -5.6767, -5.7339, -5.7791, -5.3557, -5.5976, -4.8409, -4.8189, -5.5096, -3.7255, -3.7436, -4.4066, -4.7224, -4.8337, -4.9102, -4.5523, -5.0375, -5.1155, -5.219, -5.1721, -5.2467, -5.323, -5.3276, -5.3702, -5.3886, -5.4306, -5.4874, -5.4882, -5.6136, -5.6387, -5.6641, -5.6936, -5.6964, -5.694, -5.714, -5.7371, -5.731, -5.7932, -5.7979, -5.6889, -4.5086, -4.7407, -4.7893, -4.8359, -5.0161, -5.1062, -5.1274, -5.2223, -5.2264, -5.2766, -5.3103, -5.3786, -5.4847, -5.5011, -5.5401, -5.5716, -5.6418, -5.6551, -5.6646, -5.6893, -5.7014, -5.7127, -5.754, -5.7719, -5.7931, -5.8145, -5.8069, -5.8271, -5.8148, -5.8795, -4.9834, -5.7515, -5.5636], \"loglift\": [30.0, 29.0, 28.0, 27.0, 26.0, 25.0, 24.0, 23.0, 22.0, 21.0, 20.0, 19.0, 18.0, 17.0, 16.0, 15.0, 14.0, 13.0, 12.0, 11.0, 10.0, 9.0, 8.0, 7.0, 6.0, 5.0, 4.0, 3.0, 2.0, 1.0, 1.5043, 1.5035, 1.5035, 1.5027, 1.5026, 1.5025, 1.5025, 1.5025, 1.5021, 1.5015, 1.5012, 1.5011, 1.5008, 1.5002, 1.5002, 1.4999, 1.4999, 1.4999, 1.4998, 1.4997, 1.4997, 1.4995, 1.4995, 1.4995, 1.4994, 1.4994, 1.4994, 1.4993, 1.4992, 1.4991, 1.4991, 1.499, 1.4935, 1.3563, 1.4425, 0.0014, 1.5591, 1.5587, 1.5584, 1.5582, 1.5579, 1.5578, 1.5577, 1.5576, 1.5574, 1.5573, 1.5572, 1.5569, 1.5569, 1.5567, 1.5563, 1.5562, 1.5562, 1.5554, 1.5554, 1.5553, 1.5552, 1.5549, 1.5549, 1.5548, 1.5547, 1.5546, 1.5545, 1.5542, 1.5541, 1.554, 0.1449, 1.5979, 1.5978, 1.5976, 1.5976, 1.5972, 1.5971, 1.597, 1.5963, 1.596, 1.5956, 1.5951, 1.5949, 1.5947, 1.5947, 1.5947, 1.5946, 1.5945, 1.5943, 1.5942, 1.5941, 1.5941, 1.594, 1.594, 1.594, 1.5936, 1.5934, 1.5931, 1.5928, 1.5926, 1.5922, 1.5917, 1.5921, 1.5717, 1.4924, 0.0132, 1.6783, 1.6782, 1.6773, 1.6765, 1.6762, 1.6756, 1.6756, 1.6755, 1.6752, 1.6747, 1.6746, 1.6745, 1.6742, 1.6741, 1.6739, 1.6738, 1.6736, 1.6732, 1.6732, 1.6724, 1.6722, 1.6721, 1.6719, 1.6719, 1.6718, 1.6716, 1.6714, 1.6714, 1.671, 1.671, -0.1661, 1.7139, 1.7132, 1.7131, 1.7129, 1.7123, 1.7119, 1.7119, 1.7114, 1.7114, 1.711, 1.7109, 1.7106, 1.71, 1.7099, 1.7096, 1.709, 1.7089, 1.7088, 1.7086, 1.7085, 1.7084, 1.7083, 1.7079, 1.7077, 1.7077, 1.7075, 1.7075, 1.7073, 1.7071, 1.7069, 1.6998, 1.6998, -0.0408]}, \"token.table\": {\"Topic\": [2, 5, 1, 5, 1, 2, 1, 5, 3, 4, 2, 5, 5, 5, 2, 1, 4, 3, 5, 2, 1, 2, 3, 4, 5, 3, 4, 5, 5, 4, 4, 4, 2, 4, 3, 2, 3, 1, 3, 1, 2, 5, 5, 3, 4, 4, 2, 4, 1, 3, 3, 1, 2, 2, 2, 1, 2, 1, 5, 3, 1, 2, 3, 3, 5, 2, 1, 4, 1, 1, 1, 2, 5, 3, 1, 2, 3, 4, 5, 2, 4, 4, 4, 1, 4, 4, 5, 5, 2, 2, 2, 1, 1, 2, 3, 4, 5, 5, 5, 4, 5, 1, 4, 3, 3, 3, 5, 3, 2, 5, 3, 5, 1, 4, 1, 2, 5, 4, 5, 1, 1, 1, 2, 3, 4, 5, 3, 3, 4, 5, 2, 3, 1, 4, 1, 2, 2, 1, 2, 3, 4, 5, 3, 4, 1, 1, 2, 3, 4, 5, 4, 5, 5, 1, 1, 1, 5, 2, 3, 2, 1, 1, 5, 2, 3, 3, 4, 4, 3, 3, 1, 1, 5, 3, 4, 1, 3, 4, 2, 2, 3, 4, 5, 4, 3, 3], \"Freq\": [0.9950126775372315, 0.9922765909313961, 0.996263153641852, 0.9923166888499183, 0.9971348301755536, 0.9964412669167966, 0.995698386188085, 0.9961900629995377, 0.9956900113101984, 0.9984359382700801, 0.9976368349721286, 0.993423844166016, 0.9935295298449556, 0.9929354909428246, 0.996334763031962, 0.997765564038411, 0.9964221492397928, 0.9890034798201159, 0.9903628172112209, 0.9910471232075331, 0.005342611303479206, 0.005342611303479206, 0.005342611303479206, 0.005342611303479206, 0.9830404798401738, 0.9930056818134785, 0.993537707577942, 0.9944113784963513, 0.9979145663325669, 0.9972878894505104, 0.9931364725840639, 0.9964419377739718, 0.9958776238116293, 0.9917415171727046, 0.9988008502092601, 0.9974187733588034, 0.9958692700511195, 0.9909435078908321, 0.9977280225737506, 0.99548892294454, 0.9907798669301454, 0.9948580662093562, 0.9888366019786169, 0.9962276892686285, 0.9908459504840991, 0.9870700054386566, 0.9964099282159327, 0.9988149837827297, 0.9898361833527316, 0.9945235784595403, 0.9945982884528624, 0.9854116268682032, 0.9974609159592369, 0.9978467454413061, 0.9968450629611838, 0.9958602790250829, 0.9943064649643364, 0.9962900671913092, 0.9963187777352598, 0.9901203689733358, 0.9893916860120187, 0.9979815911337887, 0.9887643340941165, 0.9946939798222244, 0.995206483718197, 0.9907221784087982, 0.9952821066527373, 0.998839759967049, 0.9954835693605295, 0.9899876319156019, 0.9976274376000371, 0.9968131869211956, 0.9943393155708171, 0.9974507907151003, 0.8597684137740617, 0.03270858095879582, 0.03738123538148094, 0.03270858095879582, 0.03738123538148094, 0.9985049116163145, 0.9956593057753362, 0.996183142200622, 0.9913650944251542, 0.9973269388517861, 0.9963015416104216, 0.9903292353966957, 0.9979542102091771, 0.9987433866835789, 0.9973866634419665, 0.9932329240581717, 0.9964166303418339, 0.9954950982835696, 0.9418731090528472, 0.01483264738665901, 0.01483264738665901, 0.01483264738665901, 0.01483264738665901, 0.9982555129873699, 0.994300643092838, 0.9929368081967939, 0.9923216751002785, 0.996664679789664, 0.9961742952380692, 0.9993443962969775, 0.9929408823207455, 0.9950884658901689, 0.9892903181655537, 0.9978738620847557, 0.9907364715984136, 0.9887611967920616, 0.9979516730682937, 0.9886669500683797, 0.9977788152384952, 0.9962414934136784, 0.9980145553929617, 0.9987889558575211, 0.9892956090312099, 0.9970458389489506, 0.9965660525996867, 0.9977356445819613, 0.9947027829408049, 0.008152268441864095, 0.008152268441864095, 0.9741960788027594, 0.008152268441864095, 0.004076134220932047, 0.9972467747850314, 0.9928622146392219, 0.9976187801641052, 0.9919354282350067, 0.9908978995155432, 0.9930572273095846, 0.990996813725878, 0.9911293948065897, 0.9927076883752202, 0.9924299606267005, 0.9956470409282053, 0.02578391085392236, 0.02578391085392236, 0.898753464051008, 0.02578391085392236, 0.02578391085392236, 0.9909657818424431, 0.9916199626699124, 0.9970372956835413, 0.22266108645285923, 0.2427508085388315, 0.20424550787405132, 0.15736948967344938, 0.17243678123792858, 0.9934214099083409, 0.9905459975166417, 0.9949861026097994, 0.9910820543894766, 0.9932604691258711, 0.9893330233610802, 0.988670514451656, 0.9969383527178817, 0.9960174742541367, 0.9910781921225261, 0.9939709389997161, 0.9936192498145731, 0.995198871461055, 0.9961256588077608, 0.9940050518757507, 0.9977376372836815, 0.9940564246748524, 0.9922086110519258, 0.9942747279733937, 0.991884096604337, 0.9909310484006144, 0.9978246201335543, 0.978896715492613, 0.9989617666674183, 0.9956466759476955, 0.9940495261725689, 0.9949346001997218, 0.9956555394852371, 0.9941957288562902, 0.997442962610607, 0.9923911188724209, 0.9937891315176837, 0.9975597822737706, 0.9945757563047662, 0.9964825783753277, 0.9958487306503553], \"Term\": [\"1\", \"3\", \"4\", \"5\", \"across\", \"also\", \"always\", \"another\", \"april\", \"army\", \"back\", \"bank\", \"believe\", \"best\", \"better\", \"big\", \"bjp\", \"cases\", \"catch\", \"change\", \"chart\", \"chart\", \"chart\", \"chart\", \"chart\", \"coal\", \"come\", \"congress\", \"could\", \"country\", \"court\", \"covid\", \"covid19\", \"crisis\", \"day\", \"days\", \"delhi\", \"delivery\", \"details\", \"dont\", \"energy\", \"even\", \"ever\", \"every\", \"everyone\", \"face\", \"first\", \"follow\", \"food\", \"free\", \"fuel\", \"fuelpricehike\", \"full\", \"get\", \"go\", \"going\", \"good\", \"government\", \"govt\", \"great\", \"h\", \"happy\", \"hate\", \"high\", \"hike\", \"https\", \"im\", \"india\", \"indian\", \"indias\", \"inflation\", \"join\", \"justice\", \"know\", \"lanka\", \"lanka\", \"lanka\", \"lanka\", \"lanka\", \"last\", \"leader\", \"levels\", \"life\", \"like\", \"live\", \"love\", \"made\", \"make\", \"man\", \"many\", \"may\", \"media\", \"min\", \"min\", \"min\", \"min\", \"min\", \"minister\", \"mr\", \"must\", \"national\", \"need\", \"never\", \"new\", \"news\", \"nifty\", \"oil\", \"online\", \"p\", \"parliament\", \"part\", \"peace\", \"people\", \"per\", \"please\", \"police\", \"political\", \"power\", \"president\", \"price\", \"prices\", \"profile\", \"profile\", \"profile\", \"profile\", \"profile\", \"protest\", \"public\", \"read\", \"really\", \"right\", \"rs\", \"russia\", \"russian\", \"said\", \"say\", \"says\", \"sec\", \"sec\", \"sec\", \"sec\", \"sec\", \"see\", \"set\", \"sri\", \"srilanka\", \"srilanka\", \"srilanka\", \"srilanka\", \"srilanka\", \"state\", \"states\", \"still\", \"stop\", \"story\", \"support\", \"sure\", \"take\", \"tamil\", \"th\", \"thank\", \"thats\", \"think\", \"time\", \"times\", \"today\", \"tomorrow\", \"towards\", \"trading\", \"twitter\", \"uk\", \"ukraine\", \"upside\", \"us\", \"want\", \"war\", \"watch\", \"way\", \"week\", \"well\", \"wordle\", \"working\", \"world\", \"would\", \"year\", \"years\"]}, \"R\": 30, \"lambda.step\": 0.01, \"plot.opts\": {\"xlab\": \"PC1\", \"ylab\": \"PC2\"}, \"topic.order\": [4, 5, 3, 1, 2]};\n",
              "\n",
              "function LDAvis_load_lib(url, callback){\n",
              "  var s = document.createElement('script');\n",
              "  s.src = url;\n",
              "  s.async = true;\n",
              "  s.onreadystatechange = s.onload = callback;\n",
              "  s.onerror = function(){console.warn(\"failed to load library \" + url);};\n",
              "  document.getElementsByTagName(\"head\")[0].appendChild(s);\n",
              "}\n",
              "\n",
              "if(typeof(LDAvis) !== \"undefined\"){\n",
              "   // already loaded: just create the visualization\n",
              "   !function(LDAvis){\n",
              "       new LDAvis(\"#\" + \"ldavis_el631405985939339049136606885\", ldavis_el631405985939339049136606885_data);\n",
              "   }(LDAvis);\n",
              "}else if(typeof define === \"function\" && define.amd){\n",
              "   // require.js is available: use it to load d3/LDAvis\n",
              "   require.config({paths: {d3: \"https://d3js.org/d3.v5\"}});\n",
              "   require([\"d3\"], function(d3){\n",
              "      window.d3 = d3;\n",
              "      LDAvis_load_lib(\"https://cdn.jsdelivr.net/gh/bmabey/pyLDAvis@3.3.1/pyLDAvis/js/ldavis.v3.0.0.js\", function(){\n",
              "        new LDAvis(\"#\" + \"ldavis_el631405985939339049136606885\", ldavis_el631405985939339049136606885_data);\n",
              "      });\n",
              "    });\n",
              "}else{\n",
              "    // require.js not available: dynamically load d3 & LDAvis\n",
              "    LDAvis_load_lib(\"https://d3js.org/d3.v5.js\", function(){\n",
              "         LDAvis_load_lib(\"https://cdn.jsdelivr.net/gh/bmabey/pyLDAvis@3.3.1/pyLDAvis/js/ldavis.v3.0.0.js\", function(){\n",
              "                 new LDAvis(\"#\" + \"ldavis_el631405985939339049136606885\", ldavis_el631405985939339049136606885_data);\n",
              "            })\n",
              "         });\n",
              "}\n",
              "</script>"
            ]
          },
          "metadata": {},
          "execution_count": 21
        }
      ],
      "source": [
        "import pyLDAvis.gensim_models as gensimvis\n",
        "import pickle \n",
        "import pyLDAvis\n",
        "# Visualize the topics\n",
        "pyLDAvis.enable_notebook()\n",
        "\n",
        "LDAvis_prepared = gensimvis.prepare(lda_model, corpus, id2word)\n",
        "LDAvis_prepared"
      ]
    }
  ],
  "metadata": {
    "colab": {
      "collapsed_sections": [],
      "name": "Topic_modeling.ipynb",
      "provenance": [],
      "toc_visible": true
    },
    "interpreter": {
      "hash": "e1e4a0439df46a45447268dc83e1935ee48f473050da09cc09f7b5c4009292f5"
    },
    "kernelspec": {
      "display_name": "Python 3.10.4 64-bit",
      "language": "python",
      "name": "python3"
    },
    "language_info": {
      "codemirror_mode": {
        "name": "ipython",
        "version": 3
      },
      "file_extension": ".py",
      "mimetype": "text/x-python",
      "name": "python",
      "nbconvert_exporter": "python",
      "pygments_lexer": "ipython3",
      "version": "3.8.3"
    },
    "orig_nbformat": 4
  },
  "nbformat": 4,
  "nbformat_minor": 0
}