{
  "cells": [
    {
      "cell_type": "code",
      "execution_count": 1,
      "metadata": {
        "id": "8h0Z68GIw5Kn"
      },
      "outputs": [],
      "source": [
        "# Importing all the required packages for this task\n",
        "\n",
        "import pandas as pd\n",
        "import numpy as np\n",
        "import matplotlib.pyplot as plt\n",
        "from sklearn.model_selection import train_test_split \n",
        "from sklearn.preprocessing import StandardScaler\n",
        "from sklearn.pipeline import make_pipeline\n",
        "from sklearn.feature_extraction.text import TfidfVectorizer\n",
        "from sklearn.svm import LinearSVC\n",
        "# from sklearn import metrics"
      ]
    },
    {
      "cell_type": "code",
      "execution_count": 7,
      "metadata": {
        "id": "mlZEXshlw5Ku"
      },
      "outputs": [],
      "source": [
        "tweets_df = pd.read_csv(\"clean_processed_tweet_data.csv\")"
      ]
    },
    {
      "cell_type": "code",
      "execution_count": 8,
      "metadata": {
        "colab": {
          "base_uri": "https://localhost:8080/",
          "height": 461
        },
        "id": "pt2DbiW1w5Kw",
        "outputId": "ad9724c9-9be6-44f2-f107-d4fcf4f8ef4a"
      },
      "outputs": [
        {
          "data": {
            "text/html": [
              "<div>\n",
              "<style scoped>\n",
              "    .dataframe tbody tr th:only-of-type {\n",
              "        vertical-align: middle;\n",
              "    }\n",
              "\n",
              "    .dataframe tbody tr th {\n",
              "        vertical-align: top;\n",
              "    }\n",
              "\n",
              "    .dataframe thead th {\n",
              "        text-align: right;\n",
              "    }\n",
              "</style>\n",
              "<table border=\"1\" class=\"dataframe\">\n",
              "  <thead>\n",
              "    <tr style=\"text-align: right;\">\n",
              "      <th></th>\n",
              "      <th>Unnamed: 0</th>\n",
              "      <th>created_at</th>\n",
              "      <th>source</th>\n",
              "      <th>original_text</th>\n",
              "      <th>polarity</th>\n",
              "      <th>subjectivity</th>\n",
              "      <th>lang</th>\n",
              "      <th>favorite_count</th>\n",
              "      <th>retweet_count</th>\n",
              "      <th>original_author</th>\n",
              "      <th>followers_count</th>\n",
              "      <th>friends_count</th>\n",
              "      <th>possibly_sensitive</th>\n",
              "      <th>hashtags</th>\n",
              "      <th>user_mentions</th>\n",
              "      <th>place</th>\n",
              "    </tr>\n",
              "  </thead>\n",
              "  <tbody>\n",
              "    <tr>\n",
              "      <th>0</th>\n",
              "      <td>38</td>\n",
              "      <td>2022-04-22 22:17:05+00:00</td>\n",
              "      <td>&lt;a href=\"http://twitter.com/download/android\" ...</td>\n",
              "      <td>RT @NorthstarCharts: The 10-year yield is tell...</td>\n",
              "      <td>0.16</td>\n",
              "      <td>0.540000</td>\n",
              "      <td>en</td>\n",
              "      <td>188</td>\n",
              "      <td>43</td>\n",
              "      <td>davideiacovozzi</td>\n",
              "      <td>18</td>\n",
              "      <td>55</td>\n",
              "      <td>NaN</td>\n",
              "      <td>gold, silver, crypto</td>\n",
              "      <td>NorthstarCharts</td>\n",
              "      <td>NaN</td>\n",
              "    </tr>\n",
              "    <tr>\n",
              "      <th>1</th>\n",
              "      <td>39</td>\n",
              "      <td>2022-04-22 13:44:53+00:00</td>\n",
              "      <td>&lt;a href=\"http://twitter.com/download/android\" ...</td>\n",
              "      <td>RT @MichaelAArouet: German 10y mortgage rate w...</td>\n",
              "      <td>0.15</td>\n",
              "      <td>0.175000</td>\n",
              "      <td>en</td>\n",
              "      <td>179</td>\n",
              "      <td>32</td>\n",
              "      <td>davideiacovozzi</td>\n",
              "      <td>18</td>\n",
              "      <td>55</td>\n",
              "      <td>NaN</td>\n",
              "      <td>NaN</td>\n",
              "      <td>MichaelAArouet</td>\n",
              "      <td>NaN</td>\n",
              "    </tr>\n",
              "    <tr>\n",
              "      <th>2</th>\n",
              "      <td>41</td>\n",
              "      <td>2022-04-22 06:10:34+00:00</td>\n",
              "      <td>&lt;a href=\"http://twitter.com/download/android\" ...</td>\n",
              "      <td>RT @goldseek: When? https://t.co/kO2FfHKaZg</td>\n",
              "      <td>0.00</td>\n",
              "      <td>0.000000</td>\n",
              "      <td>en</td>\n",
              "      <td>193</td>\n",
              "      <td>26</td>\n",
              "      <td>davideiacovozzi</td>\n",
              "      <td>18</td>\n",
              "      <td>55</td>\n",
              "      <td>False</td>\n",
              "      <td>NaN</td>\n",
              "      <td>goldseek</td>\n",
              "      <td>NaN</td>\n",
              "    </tr>\n",
              "    <tr>\n",
              "      <th>3</th>\n",
              "      <td>42</td>\n",
              "      <td>2022-04-21 17:22:09+00:00</td>\n",
              "      <td>&lt;a href=\"http://twitter.com/download/android\" ...</td>\n",
              "      <td>RT @charliebilello: The 30-year mortgage rate ...</td>\n",
              "      <td>0.00</td>\n",
              "      <td>0.183333</td>\n",
              "      <td>en</td>\n",
              "      <td>620</td>\n",
              "      <td>213</td>\n",
              "      <td>davideiacovozzi</td>\n",
              "      <td>18</td>\n",
              "      <td>55</td>\n",
              "      <td>NaN</td>\n",
              "      <td>NaN</td>\n",
              "      <td>charliebilello</td>\n",
              "      <td>NaN</td>\n",
              "    </tr>\n",
              "    <tr>\n",
              "      <th>4</th>\n",
              "      <td>43</td>\n",
              "      <td>2022-04-21 10:32:26+00:00</td>\n",
              "      <td>&lt;a href=\"http://twitter.com/download/android\" ...</td>\n",
              "      <td>RT @biancoresearch: Rates rise until something...</td>\n",
              "      <td>-0.40</td>\n",
              "      <td>0.400000</td>\n",
              "      <td>en</td>\n",
              "      <td>1787</td>\n",
              "      <td>417</td>\n",
              "      <td>davideiacovozzi</td>\n",
              "      <td>18</td>\n",
              "      <td>55</td>\n",
              "      <td>False</td>\n",
              "      <td>NaN</td>\n",
              "      <td>biancoresearch</td>\n",
              "      <td>NaN</td>\n",
              "    </tr>\n",
              "  </tbody>\n",
              "</table>\n",
              "</div>"
            ],
            "text/plain": [
              "   Unnamed: 0                 created_at  \\\n",
              "0          38  2022-04-22 22:17:05+00:00   \n",
              "1          39  2022-04-22 13:44:53+00:00   \n",
              "2          41  2022-04-22 06:10:34+00:00   \n",
              "3          42  2022-04-21 17:22:09+00:00   \n",
              "4          43  2022-04-21 10:32:26+00:00   \n",
              "\n",
              "                                              source  \\\n",
              "0  <a href=\"http://twitter.com/download/android\" ...   \n",
              "1  <a href=\"http://twitter.com/download/android\" ...   \n",
              "2  <a href=\"http://twitter.com/download/android\" ...   \n",
              "3  <a href=\"http://twitter.com/download/android\" ...   \n",
              "4  <a href=\"http://twitter.com/download/android\" ...   \n",
              "\n",
              "                                       original_text  polarity  subjectivity  \\\n",
              "0  RT @NorthstarCharts: The 10-year yield is tell...      0.16      0.540000   \n",
              "1  RT @MichaelAArouet: German 10y mortgage rate w...      0.15      0.175000   \n",
              "2        RT @goldseek: When? https://t.co/kO2FfHKaZg      0.00      0.000000   \n",
              "3  RT @charliebilello: The 30-year mortgage rate ...      0.00      0.183333   \n",
              "4  RT @biancoresearch: Rates rise until something...     -0.40      0.400000   \n",
              "\n",
              "  lang  favorite_count  retweet_count  original_author  followers_count  \\\n",
              "0   en             188             43  davideiacovozzi               18   \n",
              "1   en             179             32  davideiacovozzi               18   \n",
              "2   en             193             26  davideiacovozzi               18   \n",
              "3   en             620            213  davideiacovozzi               18   \n",
              "4   en            1787            417  davideiacovozzi               18   \n",
              "\n",
              "   friends_count possibly_sensitive              hashtags    user_mentions  \\\n",
              "0             55                NaN  gold, silver, crypto  NorthstarCharts   \n",
              "1             55                NaN                   NaN   MichaelAArouet   \n",
              "2             55              False                   NaN         goldseek   \n",
              "3             55                NaN                   NaN   charliebilello   \n",
              "4             55              False                   NaN   biancoresearch   \n",
              "\n",
              "  place  \n",
              "0   NaN  \n",
              "1   NaN  \n",
              "2   NaN  \n",
              "3   NaN  \n",
              "4   NaN  "
            ]
          },
          "execution_count": 8,
          "metadata": {},
          "output_type": "execute_result"
        }
      ],
      "source": [
        "tweets_df.head()"
      ]
    },
    {
      "cell_type": "markdown",
      "metadata": {
        "id": "esG8PVlAVjOi"
      },
      "source": [
        "### Data Understanding"
      ]
    },
    {
      "cell_type": "code",
      "execution_count": 9,
      "metadata": {
        "colab": {
          "base_uri": "https://localhost:8080/"
        },
        "id": "19a2uNO2FVqv",
        "outputId": "dcada168-d924-46d0-d6cb-88b564ca1f2c"
      },
      "outputs": [
        {
          "name": "stdout",
          "output_type": "stream",
          "text": [
            "<class 'pandas.core.frame.DataFrame'>\n",
            "RangeIndex: 16472 entries, 0 to 16471\n",
            "Data columns (total 16 columns):\n",
            " #   Column              Non-Null Count  Dtype  \n",
            "---  ------              --------------  -----  \n",
            " 0   Unnamed: 0          16472 non-null  int64  \n",
            " 1   created_at          16472 non-null  object \n",
            " 2   source              16472 non-null  object \n",
            " 3   original_text       16472 non-null  object \n",
            " 4   polarity            16472 non-null  float64\n",
            " 5   subjectivity        16472 non-null  float64\n",
            " 6   lang                16472 non-null  object \n",
            " 7   favorite_count      16472 non-null  int64  \n",
            " 8   retweet_count       16472 non-null  int64  \n",
            " 9   original_author     16472 non-null  object \n",
            " 10  followers_count     16472 non-null  int64  \n",
            " 11  friends_count       16472 non-null  int64  \n",
            " 12  possibly_sensitive  6206 non-null   object \n",
            " 13  hashtags            5278 non-null   object \n",
            " 14  user_mentions       12165 non-null  object \n",
            " 15  place               10765 non-null  object \n",
            "dtypes: float64(2), int64(5), object(9)\n",
            "memory usage: 2.0+ MB\n"
          ]
        }
      ],
      "source": [
        "tweets_df.info()"
      ]
    },
    {
      "cell_type": "code",
      "execution_count": 11,
      "metadata": {
        "colab": {
          "base_uri": "https://localhost:8080/"
        },
        "id": "TVo0LXJtVzai",
        "outputId": "d1c6a539-2759-4e2d-9152-3827cc8446a0"
      },
      "outputs": [
        {
          "name": "stdout",
          "output_type": "stream",
          "text": [
            "The number of missing value(s): 31474\n",
            "Columons having columns value:Index(['possibly_sensitive', 'hashtags', 'user_mentions', 'place'], dtype='object')\n"
          ]
        }
      ],
      "source": [
        "# Check the number of missing values\n",
        "\n",
        "print(\"The number of missing value(s): {}\".format(tweets_df.isnull().sum().sum()))\n",
        "print(\"Columons having columns value:{}\".format(tweets_df.columns[tweets_df.isnull().any()]))"
      ]
    },
    {
      "cell_type": "code",
      "execution_count": 13,
      "metadata": {
        "id": "aWHLjiGfVzYb"
      },
      "outputs": [],
      "source": [
        "tweets_df['original_text'] =  tweets_df['original_text'].to_list()"
      ]
    },
    {
      "cell_type": "code",
      "execution_count": 16,
      "metadata": {
        "colab": {
          "base_uri": "https://localhost:8080/",
          "height": 423
        },
        "id": "NE9DLa_MVzWH",
        "outputId": "25d130be-97c4-45d9-ccfc-5d5a1012e652"
      },
      "outputs": [
        {
          "data": {
            "text/html": [
              "<div>\n",
              "<style scoped>\n",
              "    .dataframe tbody tr th:only-of-type {\n",
              "        vertical-align: middle;\n",
              "    }\n",
              "\n",
              "    .dataframe tbody tr th {\n",
              "        vertical-align: top;\n",
              "    }\n",
              "\n",
              "    .dataframe thead th {\n",
              "        text-align: right;\n",
              "    }\n",
              "</style>\n",
              "<table border=\"1\" class=\"dataframe\">\n",
              "  <thead>\n",
              "    <tr style=\"text-align: right;\">\n",
              "      <th></th>\n",
              "      <th>Unnamed: 0</th>\n",
              "      <th>created_at</th>\n",
              "      <th>source</th>\n",
              "      <th>original_text</th>\n",
              "      <th>polarity</th>\n",
              "      <th>subjectivity</th>\n",
              "      <th>lang</th>\n",
              "      <th>favorite_count</th>\n",
              "      <th>retweet_count</th>\n",
              "      <th>original_author</th>\n",
              "      <th>followers_count</th>\n",
              "      <th>friends_count</th>\n",
              "      <th>possibly_sensitive</th>\n",
              "      <th>hashtags</th>\n",
              "      <th>user_mentions</th>\n",
              "      <th>place</th>\n",
              "    </tr>\n",
              "  </thead>\n",
              "  <tbody>\n",
              "    <tr>\n",
              "      <th>0</th>\n",
              "      <td>38</td>\n",
              "      <td>2022-04-22 22:17:05+00:00</td>\n",
              "      <td>&lt;a href=\"http://twitter.com/download/android\" ...</td>\n",
              "      <td>RT @NorthstarCharts: The 10-year yield is tell...</td>\n",
              "      <td>0.16</td>\n",
              "      <td>0.540000</td>\n",
              "      <td>en</td>\n",
              "      <td>188</td>\n",
              "      <td>43</td>\n",
              "      <td>davideiacovozzi</td>\n",
              "      <td>18</td>\n",
              "      <td>55</td>\n",
              "      <td>NaN</td>\n",
              "      <td>gold, silver, crypto</td>\n",
              "      <td>NorthstarCharts</td>\n",
              "      <td>NaN</td>\n",
              "    </tr>\n",
              "    <tr>\n",
              "      <th>1</th>\n",
              "      <td>39</td>\n",
              "      <td>2022-04-22 13:44:53+00:00</td>\n",
              "      <td>&lt;a href=\"http://twitter.com/download/android\" ...</td>\n",
              "      <td>RT @MichaelAArouet: German 10y mortgage rate w...</td>\n",
              "      <td>0.15</td>\n",
              "      <td>0.175000</td>\n",
              "      <td>en</td>\n",
              "      <td>179</td>\n",
              "      <td>32</td>\n",
              "      <td>davideiacovozzi</td>\n",
              "      <td>18</td>\n",
              "      <td>55</td>\n",
              "      <td>NaN</td>\n",
              "      <td>NaN</td>\n",
              "      <td>MichaelAArouet</td>\n",
              "      <td>NaN</td>\n",
              "    </tr>\n",
              "    <tr>\n",
              "      <th>2</th>\n",
              "      <td>41</td>\n",
              "      <td>2022-04-22 06:10:34+00:00</td>\n",
              "      <td>&lt;a href=\"http://twitter.com/download/android\" ...</td>\n",
              "      <td>RT @goldseek: When? https://t.co/kO2FfHKaZg</td>\n",
              "      <td>0.00</td>\n",
              "      <td>0.000000</td>\n",
              "      <td>en</td>\n",
              "      <td>193</td>\n",
              "      <td>26</td>\n",
              "      <td>davideiacovozzi</td>\n",
              "      <td>18</td>\n",
              "      <td>55</td>\n",
              "      <td>False</td>\n",
              "      <td>NaN</td>\n",
              "      <td>goldseek</td>\n",
              "      <td>NaN</td>\n",
              "    </tr>\n",
              "    <tr>\n",
              "      <th>3</th>\n",
              "      <td>42</td>\n",
              "      <td>2022-04-21 17:22:09+00:00</td>\n",
              "      <td>&lt;a href=\"http://twitter.com/download/android\" ...</td>\n",
              "      <td>RT @charliebilello: The 30-year mortgage rate ...</td>\n",
              "      <td>0.00</td>\n",
              "      <td>0.183333</td>\n",
              "      <td>en</td>\n",
              "      <td>620</td>\n",
              "      <td>213</td>\n",
              "      <td>davideiacovozzi</td>\n",
              "      <td>18</td>\n",
              "      <td>55</td>\n",
              "      <td>NaN</td>\n",
              "      <td>NaN</td>\n",
              "      <td>charliebilello</td>\n",
              "      <td>NaN</td>\n",
              "    </tr>\n",
              "    <tr>\n",
              "      <th>4</th>\n",
              "      <td>43</td>\n",
              "      <td>2022-04-21 10:32:26+00:00</td>\n",
              "      <td>&lt;a href=\"http://twitter.com/download/android\" ...</td>\n",
              "      <td>RT @biancoresearch: Rates rise until something...</td>\n",
              "      <td>-0.40</td>\n",
              "      <td>0.400000</td>\n",
              "      <td>en</td>\n",
              "      <td>1787</td>\n",
              "      <td>417</td>\n",
              "      <td>davideiacovozzi</td>\n",
              "      <td>18</td>\n",
              "      <td>55</td>\n",
              "      <td>False</td>\n",
              "      <td>NaN</td>\n",
              "      <td>biancoresearch</td>\n",
              "      <td>NaN</td>\n",
              "    </tr>\n",
              "    <tr>\n",
              "      <th>...</th>\n",
              "      <td>...</td>\n",
              "      <td>...</td>\n",
              "      <td>...</td>\n",
              "      <td>...</td>\n",
              "      <td>...</td>\n",
              "      <td>...</td>\n",
              "      <td>...</td>\n",
              "      <td>...</td>\n",
              "      <td>...</td>\n",
              "      <td>...</td>\n",
              "      <td>...</td>\n",
              "      <td>...</td>\n",
              "      <td>...</td>\n",
              "      <td>...</td>\n",
              "      <td>...</td>\n",
              "      <td>...</td>\n",
              "    </tr>\n",
              "    <tr>\n",
              "      <th>16467</th>\n",
              "      <td>24584</td>\n",
              "      <td>2022-04-22 15:22:56+00:00</td>\n",
              "      <td>&lt;a href=\"http://twitter.com/download/iphone\" r...</td>\n",
              "      <td>RT @CHARANJITCHANNI: Best wishes &amp;amp; heartfe...</td>\n",
              "      <td>0.50</td>\n",
              "      <td>0.729630</td>\n",
              "      <td>en</td>\n",
              "      <td>2924</td>\n",
              "      <td>300</td>\n",
              "      <td>kitukalesatya</td>\n",
              "      <td>706</td>\n",
              "      <td>643</td>\n",
              "      <td>NaN</td>\n",
              "      <td>NaN</td>\n",
              "      <td>CHARANJITCHANNI, RajaBrar_INC, BB__Ashu</td>\n",
              "      <td>NaN</td>\n",
              "    </tr>\n",
              "    <tr>\n",
              "      <th>16468</th>\n",
              "      <td>24586</td>\n",
              "      <td>2022-04-22 15:22:29+00:00</td>\n",
              "      <td>&lt;a href=\"http://twitter.com/download/iphone\" r...</td>\n",
              "      <td>RT @pbhushan1: Thank you @BajpayeeManoj for th...</td>\n",
              "      <td>0.85</td>\n",
              "      <td>1.000000</td>\n",
              "      <td>en</td>\n",
              "      <td>14671</td>\n",
              "      <td>5006</td>\n",
              "      <td>kitukalesatya</td>\n",
              "      <td>706</td>\n",
              "      <td>643</td>\n",
              "      <td>NaN</td>\n",
              "      <td>NaN</td>\n",
              "      <td>pbhushan1, BajpayeeManoj</td>\n",
              "      <td>NaN</td>\n",
              "    </tr>\n",
              "    <tr>\n",
              "      <th>16469</th>\n",
              "      <td>24596</td>\n",
              "      <td>2022-04-22 15:01:27+00:00</td>\n",
              "      <td>&lt;a href=\"http://twitter.com/download/iphone\" r...</td>\n",
              "      <td>RT @s_shreyatweets: Agree ?👇 https://t.co/R54Z...</td>\n",
              "      <td>0.00</td>\n",
              "      <td>0.000000</td>\n",
              "      <td>en</td>\n",
              "      <td>5056</td>\n",
              "      <td>973</td>\n",
              "      <td>kitukalesatya</td>\n",
              "      <td>706</td>\n",
              "      <td>643</td>\n",
              "      <td>False</td>\n",
              "      <td>NaN</td>\n",
              "      <td>s_shreyatweets</td>\n",
              "      <td>NaN</td>\n",
              "    </tr>\n",
              "    <tr>\n",
              "      <th>16470</th>\n",
              "      <td>24599</td>\n",
              "      <td>2022-04-22 14:58:12+00:00</td>\n",
              "      <td>&lt;a href=\"http://twitter.com/download/iphone\" r...</td>\n",
              "      <td>RT @tejjINC: 1. Peace Yatra by Late Sunil Dutt...</td>\n",
              "      <td>-0.30</td>\n",
              "      <td>0.600000</td>\n",
              "      <td>en</td>\n",
              "      <td>636</td>\n",
              "      <td>115</td>\n",
              "      <td>kitukalesatya</td>\n",
              "      <td>706</td>\n",
              "      <td>643</td>\n",
              "      <td>False</td>\n",
              "      <td>NaN</td>\n",
              "      <td>tejjINC</td>\n",
              "      <td>NaN</td>\n",
              "    </tr>\n",
              "    <tr>\n",
              "      <th>16471</th>\n",
              "      <td>24622</td>\n",
              "      <td>2022-04-22 14:44:35+00:00</td>\n",
              "      <td>&lt;a href=\"http://twitter.com/download/iphone\" r...</td>\n",
              "      <td>RT @Parthtiwari25: Gujarat Congress MLA arrest...</td>\n",
              "      <td>0.00</td>\n",
              "      <td>0.000000</td>\n",
              "      <td>en</td>\n",
              "      <td>1025</td>\n",
              "      <td>203</td>\n",
              "      <td>kitukalesatya</td>\n",
              "      <td>706</td>\n",
              "      <td>643</td>\n",
              "      <td>NaN</td>\n",
              "      <td>NaN</td>\n",
              "      <td>Parthtiwari25</td>\n",
              "      <td>NaN</td>\n",
              "    </tr>\n",
              "  </tbody>\n",
              "</table>\n",
              "<p>16472 rows × 16 columns</p>\n",
              "</div>"
            ],
            "text/plain": [
              "       Unnamed: 0                 created_at  \\\n",
              "0              38  2022-04-22 22:17:05+00:00   \n",
              "1              39  2022-04-22 13:44:53+00:00   \n",
              "2              41  2022-04-22 06:10:34+00:00   \n",
              "3              42  2022-04-21 17:22:09+00:00   \n",
              "4              43  2022-04-21 10:32:26+00:00   \n",
              "...           ...                        ...   \n",
              "16467       24584  2022-04-22 15:22:56+00:00   \n",
              "16468       24586  2022-04-22 15:22:29+00:00   \n",
              "16469       24596  2022-04-22 15:01:27+00:00   \n",
              "16470       24599  2022-04-22 14:58:12+00:00   \n",
              "16471       24622  2022-04-22 14:44:35+00:00   \n",
              "\n",
              "                                                  source  \\\n",
              "0      <a href=\"http://twitter.com/download/android\" ...   \n",
              "1      <a href=\"http://twitter.com/download/android\" ...   \n",
              "2      <a href=\"http://twitter.com/download/android\" ...   \n",
              "3      <a href=\"http://twitter.com/download/android\" ...   \n",
              "4      <a href=\"http://twitter.com/download/android\" ...   \n",
              "...                                                  ...   \n",
              "16467  <a href=\"http://twitter.com/download/iphone\" r...   \n",
              "16468  <a href=\"http://twitter.com/download/iphone\" r...   \n",
              "16469  <a href=\"http://twitter.com/download/iphone\" r...   \n",
              "16470  <a href=\"http://twitter.com/download/iphone\" r...   \n",
              "16471  <a href=\"http://twitter.com/download/iphone\" r...   \n",
              "\n",
              "                                           original_text  polarity  \\\n",
              "0      RT @NorthstarCharts: The 10-year yield is tell...      0.16   \n",
              "1      RT @MichaelAArouet: German 10y mortgage rate w...      0.15   \n",
              "2            RT @goldseek: When? https://t.co/kO2FfHKaZg      0.00   \n",
              "3      RT @charliebilello: The 30-year mortgage rate ...      0.00   \n",
              "4      RT @biancoresearch: Rates rise until something...     -0.40   \n",
              "...                                                  ...       ...   \n",
              "16467  RT @CHARANJITCHANNI: Best wishes &amp; heartfe...      0.50   \n",
              "16468  RT @pbhushan1: Thank you @BajpayeeManoj for th...      0.85   \n",
              "16469  RT @s_shreyatweets: Agree ?👇 https://t.co/R54Z...      0.00   \n",
              "16470  RT @tejjINC: 1. Peace Yatra by Late Sunil Dutt...     -0.30   \n",
              "16471  RT @Parthtiwari25: Gujarat Congress MLA arrest...      0.00   \n",
              "\n",
              "       subjectivity lang  favorite_count  retweet_count  original_author  \\\n",
              "0          0.540000   en             188             43  davideiacovozzi   \n",
              "1          0.175000   en             179             32  davideiacovozzi   \n",
              "2          0.000000   en             193             26  davideiacovozzi   \n",
              "3          0.183333   en             620            213  davideiacovozzi   \n",
              "4          0.400000   en            1787            417  davideiacovozzi   \n",
              "...             ...  ...             ...            ...              ...   \n",
              "16467      0.729630   en            2924            300    kitukalesatya   \n",
              "16468      1.000000   en           14671           5006    kitukalesatya   \n",
              "16469      0.000000   en            5056            973    kitukalesatya   \n",
              "16470      0.600000   en             636            115    kitukalesatya   \n",
              "16471      0.000000   en            1025            203    kitukalesatya   \n",
              "\n",
              "       followers_count  friends_count possibly_sensitive  \\\n",
              "0                   18             55                NaN   \n",
              "1                   18             55                NaN   \n",
              "2                   18             55              False   \n",
              "3                   18             55                NaN   \n",
              "4                   18             55              False   \n",
              "...                ...            ...                ...   \n",
              "16467              706            643                NaN   \n",
              "16468              706            643                NaN   \n",
              "16469              706            643              False   \n",
              "16470              706            643              False   \n",
              "16471              706            643                NaN   \n",
              "\n",
              "                   hashtags                            user_mentions place  \n",
              "0      gold, silver, crypto                          NorthstarCharts   NaN  \n",
              "1                       NaN                           MichaelAArouet   NaN  \n",
              "2                       NaN                                 goldseek   NaN  \n",
              "3                       NaN                           charliebilello   NaN  \n",
              "4                       NaN                           biancoresearch   NaN  \n",
              "...                     ...                                      ...   ...  \n",
              "16467                   NaN  CHARANJITCHANNI, RajaBrar_INC, BB__Ashu   NaN  \n",
              "16468                   NaN                 pbhushan1, BajpayeeManoj   NaN  \n",
              "16469                   NaN                           s_shreyatweets   NaN  \n",
              "16470                   NaN                                  tejjINC   NaN  \n",
              "16471                   NaN                            Parthtiwari25   NaN  \n",
              "\n",
              "[16472 rows x 16 columns]"
            ]
          },
          "execution_count": 16,
          "metadata": {},
          "output_type": "execute_result"
        }
      ],
      "source": [
        "# drop row having Null value\n",
        "tweets_df.dropna()\n",
        "tweets_df['polarity'] = tweets_df['polarity']\n",
        "tweets_df"
      ]
    },
    {
      "cell_type": "code",
      "execution_count": 17,
      "metadata": {
        "id": "7Lm8IMfBw5Ky"
      },
      "outputs": [],
      "source": [
        "clean_tweet = tweets_df[['original_text','polarity']]"
      ]
    },
    {
      "cell_type": "code",
      "execution_count": 18,
      "metadata": {
        "colab": {
          "base_uri": "https://localhost:8080/",
          "height": 206
        },
        "id": "3IizYylMw5Kz",
        "outputId": "066f9355-4397-4023-b13e-bba43fb51d46"
      },
      "outputs": [
        {
          "data": {
            "text/html": [
              "<div>\n",
              "<style scoped>\n",
              "    .dataframe tbody tr th:only-of-type {\n",
              "        vertical-align: middle;\n",
              "    }\n",
              "\n",
              "    .dataframe tbody tr th {\n",
              "        vertical-align: top;\n",
              "    }\n",
              "\n",
              "    .dataframe thead th {\n",
              "        text-align: right;\n",
              "    }\n",
              "</style>\n",
              "<table border=\"1\" class=\"dataframe\">\n",
              "  <thead>\n",
              "    <tr style=\"text-align: right;\">\n",
              "      <th></th>\n",
              "      <th>original_text</th>\n",
              "      <th>polarity</th>\n",
              "    </tr>\n",
              "  </thead>\n",
              "  <tbody>\n",
              "    <tr>\n",
              "      <th>0</th>\n",
              "      <td>RT @NorthstarCharts: The 10-year yield is tell...</td>\n",
              "      <td>0.16</td>\n",
              "    </tr>\n",
              "    <tr>\n",
              "      <th>1</th>\n",
              "      <td>RT @MichaelAArouet: German 10y mortgage rate w...</td>\n",
              "      <td>0.15</td>\n",
              "    </tr>\n",
              "    <tr>\n",
              "      <th>2</th>\n",
              "      <td>RT @goldseek: When? https://t.co/kO2FfHKaZg</td>\n",
              "      <td>0.00</td>\n",
              "    </tr>\n",
              "    <tr>\n",
              "      <th>3</th>\n",
              "      <td>RT @charliebilello: The 30-year mortgage rate ...</td>\n",
              "      <td>0.00</td>\n",
              "    </tr>\n",
              "    <tr>\n",
              "      <th>4</th>\n",
              "      <td>RT @biancoresearch: Rates rise until something...</td>\n",
              "      <td>-0.40</td>\n",
              "    </tr>\n",
              "  </tbody>\n",
              "</table>\n",
              "</div>"
            ],
            "text/plain": [
              "                                       original_text  polarity\n",
              "0  RT @NorthstarCharts: The 10-year yield is tell...      0.16\n",
              "1  RT @MichaelAArouet: German 10y mortgage rate w...      0.15\n",
              "2        RT @goldseek: When? https://t.co/kO2FfHKaZg      0.00\n",
              "3  RT @charliebilello: The 30-year mortgage rate ...      0.00\n",
              "4  RT @biancoresearch: Rates rise until something...     -0.40"
            ]
          },
          "execution_count": 18,
          "metadata": {},
          "output_type": "execute_result"
        }
      ],
      "source": [
        "clean_tweet.head()"
      ]
    },
    {
      "cell_type": "code",
      "execution_count": 19,
      "metadata": {
        "id": "tscvYIbFw5K0"
      },
      "outputs": [],
      "source": [
        "def text_category (polarity):\n",
        "    if polarity > 0:\n",
        "        return 'positive'\n",
        "    if polarity < 0:\n",
        "        return 'negative'\n",
        "    else:\n",
        "        return 'neutral'"
      ]
    },
    {
      "cell_type": "markdown",
      "metadata": {
        "id": "k6uWRX6Wb4ha"
      },
      "source": [
        "#### Score"
      ]
    },
    {
      "cell_type": "code",
      "execution_count": 20,
      "metadata": {
        "id": "fLZUaqZxw5K1"
      },
      "outputs": [],
      "source": [
        "score = pd.Series([text_category(row_value) for row_value in clean_tweet['polarity']])"
      ]
    },
    {
      "cell_type": "code",
      "execution_count": 21,
      "metadata": {
        "id": "Y4Mw_MgUw5K3"
      },
      "outputs": [],
      "source": [
        "clean_tweet = pd.concat([clean_tweet, score.rename(\"score\")], axis=1)"
      ]
    },
    {
      "cell_type": "code",
      "execution_count": 22,
      "metadata": {
        "colab": {
          "base_uri": "https://localhost:8080/",
          "height": 363
        },
        "id": "4fZxfdWbw5K4",
        "outputId": "19daefa1-a152-4af2-8120-f6b658f1b3ae"
      },
      "outputs": [
        {
          "data": {
            "text/html": [
              "<div>\n",
              "<style scoped>\n",
              "    .dataframe tbody tr th:only-of-type {\n",
              "        vertical-align: middle;\n",
              "    }\n",
              "\n",
              "    .dataframe tbody tr th {\n",
              "        vertical-align: top;\n",
              "    }\n",
              "\n",
              "    .dataframe thead th {\n",
              "        text-align: right;\n",
              "    }\n",
              "</style>\n",
              "<table border=\"1\" class=\"dataframe\">\n",
              "  <thead>\n",
              "    <tr style=\"text-align: right;\">\n",
              "      <th></th>\n",
              "      <th>original_text</th>\n",
              "      <th>polarity</th>\n",
              "      <th>score</th>\n",
              "    </tr>\n",
              "  </thead>\n",
              "  <tbody>\n",
              "    <tr>\n",
              "      <th>0</th>\n",
              "      <td>RT @NorthstarCharts: The 10-year yield is tell...</td>\n",
              "      <td>0.160000</td>\n",
              "      <td>positive</td>\n",
              "    </tr>\n",
              "    <tr>\n",
              "      <th>1</th>\n",
              "      <td>RT @MichaelAArouet: German 10y mortgage rate w...</td>\n",
              "      <td>0.150000</td>\n",
              "      <td>positive</td>\n",
              "    </tr>\n",
              "    <tr>\n",
              "      <th>2</th>\n",
              "      <td>RT @goldseek: When? https://t.co/kO2FfHKaZg</td>\n",
              "      <td>0.000000</td>\n",
              "      <td>neutral</td>\n",
              "    </tr>\n",
              "    <tr>\n",
              "      <th>3</th>\n",
              "      <td>RT @charliebilello: The 30-year mortgage rate ...</td>\n",
              "      <td>0.000000</td>\n",
              "      <td>neutral</td>\n",
              "    </tr>\n",
              "    <tr>\n",
              "      <th>4</th>\n",
              "      <td>RT @biancoresearch: Rates rise until something...</td>\n",
              "      <td>-0.400000</td>\n",
              "      <td>negative</td>\n",
              "    </tr>\n",
              "    <tr>\n",
              "      <th>5</th>\n",
              "      <td>RT @LanceRoberts: Buying opportunities like th...</td>\n",
              "      <td>-0.100000</td>\n",
              "      <td>negative</td>\n",
              "    </tr>\n",
              "    <tr>\n",
              "      <th>6</th>\n",
              "      <td>RT @MacroAlf: Welcome to September 2018.\\n\\nBo...</td>\n",
              "      <td>0.400000</td>\n",
              "      <td>positive</td>\n",
              "    </tr>\n",
              "    <tr>\n",
              "      <th>7</th>\n",
              "      <td>RT @BotBenFranklin: The horse thinks one thing...</td>\n",
              "      <td>0.000000</td>\n",
              "      <td>neutral</td>\n",
              "    </tr>\n",
              "    <tr>\n",
              "      <th>8</th>\n",
              "      <td>RT @Galactic_Trader: Global growth optimism at...</td>\n",
              "      <td>0.488281</td>\n",
              "      <td>positive</td>\n",
              "    </tr>\n",
              "    <tr>\n",
              "      <th>9</th>\n",
              "      <td>RT @AndreasSteno: This is the most important c...</td>\n",
              "      <td>0.450000</td>\n",
              "      <td>positive</td>\n",
              "    </tr>\n",
              "  </tbody>\n",
              "</table>\n",
              "</div>"
            ],
            "text/plain": [
              "                                       original_text  polarity     score\n",
              "0  RT @NorthstarCharts: The 10-year yield is tell...  0.160000  positive\n",
              "1  RT @MichaelAArouet: German 10y mortgage rate w...  0.150000  positive\n",
              "2        RT @goldseek: When? https://t.co/kO2FfHKaZg  0.000000   neutral\n",
              "3  RT @charliebilello: The 30-year mortgage rate ...  0.000000   neutral\n",
              "4  RT @biancoresearch: Rates rise until something... -0.400000  negative\n",
              "5  RT @LanceRoberts: Buying opportunities like th... -0.100000  negative\n",
              "6  RT @MacroAlf: Welcome to September 2018.\\n\\nBo...  0.400000  positive\n",
              "7  RT @BotBenFranklin: The horse thinks one thing...  0.000000   neutral\n",
              "8  RT @Galactic_Trader: Global growth optimism at...  0.488281  positive\n",
              "9  RT @AndreasSteno: This is the most important c...  0.450000  positive"
            ]
          },
          "execution_count": 22,
          "metadata": {},
          "output_type": "execute_result"
        }
      ],
      "source": [
        "clean_tweet.head(n=10)"
      ]
    },
    {
      "cell_type": "code",
      "execution_count": 23,
      "metadata": {
        "colab": {
          "base_uri": "https://localhost:8080/"
        },
        "id": "SgX3RwwLw5K6",
        "outputId": "74521c81-d3fb-4105-f0d1-1e43d73da74b"
      },
      "outputs": [
        {
          "data": {
            "text/plain": [
              "16472"
            ]
          },
          "execution_count": 23,
          "metadata": {},
          "output_type": "execute_result"
        }
      ],
      "source": [
        "len(clean_tweet['polarity'])"
      ]
    },
    {
      "cell_type": "code",
      "execution_count": 24,
      "metadata": {
        "id": "kUwWmtunw5K7"
      },
      "outputs": [],
      "source": [
        "scoremap = pd.Series([1 if row_value == 'positive' else 0 for row_value in clean_tweet['score']])"
      ]
    },
    {
      "cell_type": "code",
      "execution_count": 346,
      "metadata": {
        "colab": {
          "base_uri": "https://localhost:8080/"
        },
        "id": "tCmctp87w5K7",
        "outputId": "995ba796-0746-488b-9d57-7c738240f6ee"
      },
      "outputs": [
        {
          "data": {
            "text/plain": [
              "16472"
            ]
          },
          "execution_count": 346,
          "metadata": {},
          "output_type": "execute_result"
        }
      ],
      "source": [
        "len(scoremap)"
      ]
    },
    {
      "cell_type": "code",
      "execution_count": 347,
      "metadata": {
        "id": "jYjnvIKGw5K9"
      },
      "outputs": [],
      "source": [
        "clean_tweet['scoremap'] = scoremap\n",
        "X = clean_tweet['original_text']\n",
        "y = clean_tweet['scoremap']"
      ]
    },
    {
      "cell_type": "code",
      "execution_count": 348,
      "metadata": {
        "id": "-iaiZhZkw5K9"
      },
      "outputs": [],
      "source": [
        "X_train, X_test, y_train, y_test = train_test_split(X, y, test_size=0.2, random_state=42)"
      ]
    },
    {
      "cell_type": "code",
      "execution_count": 349,
      "metadata": {
        "colab": {
          "base_uri": "https://localhost:8080/"
        },
        "id": "wIxQzEA7w5K-",
        "outputId": "f7f6db86-0f7e-48da-cca6-217111393eb2"
      },
      "outputs": [
        {
          "name": "stdout",
          "output_type": "stream",
          "text": [
            "13177 , 3295\n",
            "3295 , 3295\n"
          ]
        }
      ],
      "source": [
        "print(X_train.size,',' , X_test.size)\n",
        "print(X_test.size, ',',y_test.size)"
      ]
    },
    {
      "cell_type": "code",
      "execution_count": 350,
      "metadata": {
        "id": "-iVbBO05w5K_"
      },
      "outputs": [],
      "source": [
        "# scaling the input\n",
        "clf = LinearSVC()"
      ]
    },
    {
      "cell_type": "code",
      "execution_count": 351,
      "metadata": {
        "id": "-2PVibDqw5K_"
      },
      "outputs": [],
      "source": [
        "unigram_tfidf_vect = TfidfVectorizer(max_features=10000, ngram_range = (1, 1))\n",
        "bigram_tfidf_vect = TfidfVectorizer(max_features=10000, ngram_range = (2, 2))\n",
        "hybrid_tfidf_vect = TfidfVectorizer(max_features=10000, ngram_range = (1, 2))"
      ]
    },
    {
      "cell_type": "markdown",
      "metadata": {
        "id": "6D7gG7sS7pvj"
      },
      "source": [
        "## Unigram TF-IDF"
      ]
    },
    {
      "cell_type": "code",
      "execution_count": 352,
      "metadata": {
        "colab": {
          "base_uri": "https://localhost:8080/"
        },
        "id": "RdF7ByMF3aUW",
        "outputId": "d332b2d8-cb52-4b0c-d6b0-b69d9e962e7a"
      },
      "outputs": [
        {
          "data": {
            "text/plain": [
              "LinearSVC()"
            ]
          },
          "execution_count": 352,
          "metadata": {},
          "output_type": "execute_result"
        }
      ],
      "source": [
        "X_train = X_train.replace(np.nan, '', regex=True)\n",
        "X_train_counts = unigram_tfidf_vect.fit_transform(X_train)\n",
        "X_train_counts = X_train_counts.toarray()\n",
        "clf.fit(X_train_counts, y_train)"
      ]
    },
    {
      "cell_type": "code",
      "execution_count": 353,
      "metadata": {
        "id": "cWoY9bK3w5LB"
      },
      "outputs": [],
      "source": [
        "X_test = X_test.replace(np.nan, '', regex=True)\n",
        "X_test_counts = unigram_tfidf_vect.transform(X_test)\n",
        "X_test_counts = X_test_counts.toarray()\n",
        "prediction = clf.predict(X_test_counts)"
      ]
    },
    {
      "cell_type": "code",
      "execution_count": 354,
      "metadata": {
        "colab": {
          "base_uri": "https://localhost:8080/"
        },
        "id": "LzzvuFK3w5LB",
        "outputId": "d099907a-a212-41a9-81f4-d26dc06f90e6"
      },
      "outputs": [
        {
          "data": {
            "text/plain": [
              "0.8965098634294385"
            ]
          },
          "execution_count": 354,
          "metadata": {},
          "output_type": "execute_result"
        }
      ],
      "source": [
        "np.mean(prediction == y_test)"
      ]
    },
    {
      "cell_type": "code",
      "execution_count": 354,
      "metadata": {
        "id": "NHNJR2Id4swH"
      },
      "outputs": [],
      "source": []
    },
    {
      "cell_type": "markdown",
      "metadata": {
        "id": "l6UCJPbF8Nj9"
      },
      "source": [
        "## Bigram TF-IDF"
      ]
    },
    {
      "cell_type": "code",
      "execution_count": 355,
      "metadata": {
        "colab": {
          "base_uri": "https://localhost:8080/"
        },
        "id": "06bm_rPt8NkW",
        "outputId": "d21c52fd-b889-4b48-b593-54e345ba2a80"
      },
      "outputs": [
        {
          "data": {
            "text/plain": [
              "LinearSVC()"
            ]
          },
          "execution_count": 355,
          "metadata": {},
          "output_type": "execute_result"
        }
      ],
      "source": [
        "X_train = X_train.replace(np.nan, '', regex=True)\n",
        "X_train_counts = bigram_tfidf_vect.fit_transform(X_train)\n",
        "X_train_counts = X_train_counts.toarray()\n",
        "clf.fit(X_train_counts, y_train)"
      ]
    },
    {
      "cell_type": "code",
      "execution_count": 356,
      "metadata": {
        "id": "x7ISmsdo8NkY"
      },
      "outputs": [],
      "source": [
        "X_test = X_test.replace(np.nan, '', regex=True)\n",
        "X_test_counts = bigram_tfidf_vect.transform(X_test)\n",
        "X_test_counts = X_test_counts.toarray()\n",
        "prediction = clf.predict(X_test_counts)"
      ]
    },
    {
      "cell_type": "code",
      "execution_count": 357,
      "metadata": {
        "colab": {
          "base_uri": "https://localhost:8080/"
        },
        "id": "YnDplyQS8Nka",
        "outputId": "0c31a6e4-ade3-47e3-9645-b0ae534ba229"
      },
      "outputs": [
        {
          "data": {
            "text/plain": [
              "0.7414264036418816"
            ]
          },
          "execution_count": 357,
          "metadata": {},
          "output_type": "execute_result"
        }
      ],
      "source": [
        "np.mean(prediction == y_test)"
      ]
    },
    {
      "cell_type": "code",
      "execution_count": 357,
      "metadata": {
        "id": "WZ1fOy-G8blV"
      },
      "outputs": [],
      "source": []
    },
    {
      "cell_type": "markdown",
      "metadata": {
        "id": "vv_5yqiT8fBm"
      },
      "source": [
        "## Hybridgram TF-IDF"
      ]
    },
    {
      "cell_type": "code",
      "execution_count": 358,
      "metadata": {
        "colab": {
          "base_uri": "https://localhost:8080/"
        },
        "id": "kysqciW58fBn",
        "outputId": "601d5f7b-d3ab-4103-fb9c-4440b7d7e881"
      },
      "outputs": [
        {
          "data": {
            "text/plain": [
              "LinearSVC()"
            ]
          },
          "execution_count": 358,
          "metadata": {},
          "output_type": "execute_result"
        }
      ],
      "source": [
        "# X_train = X_train.replace(np.nan, '', regex=True)\n",
        "X_train_counts = hybrid_tfidf_vect.fit_transform(X_train)\n",
        "X_train_counts = X_train_counts.toarray()\n",
        "clf.fit(X_train_counts, y_train)"
      ]
    },
    {
      "cell_type": "code",
      "execution_count": 359,
      "metadata": {
        "id": "ZbGCx8iT8fBo"
      },
      "outputs": [],
      "source": [
        "X_test = X_test.replace(np.nan, '', regex=True)\n",
        "X_test_counts = hybrid_tfidf_vect.transform(X_test)\n",
        "X_test_counts = X_test_counts.toarray()\n",
        "prediction = clf.predict(X_test_counts)"
      ]
    },
    {
      "cell_type": "code",
      "execution_count": 360,
      "metadata": {
        "colab": {
          "base_uri": "https://localhost:8080/"
        },
        "id": "7lGSRnTz8fBo",
        "outputId": "24c476ff-27de-4c75-a07b-58fd9055dcf6"
      },
      "outputs": [
        {
          "data": {
            "text/plain": [
              "0.8977238239757208"
            ]
          },
          "execution_count": 360,
          "metadata": {},
          "output_type": "execute_result"
        }
      ],
      "source": [
        "np.mean(prediction == y_test)"
      ]
    },
    {
      "cell_type": "code",
      "execution_count": 360,
      "metadata": {
        "id": "YIb5xrut8sAV"
      },
      "outputs": [],
      "source": []
    }
  ],
  "metadata": {
    "accelerator": "GPU",
    "colab": {
      "collapsed_sections": [],
      "name": "Day2_task1.ipynb",
      "provenance": []
    },
    "interpreter": {
      "hash": "e1e4a0439df46a45447268dc83e1935ee48f473050da09cc09f7b5c4009292f5"
    },
    "kernelspec": {
      "display_name": "Python 3.10.4 64-bit",
      "language": "python",
      "name": "python3"
    },
    "language_info": {
      "codemirror_mode": {
        "name": "ipython",
        "version": 3
      },
      "file_extension": ".py",
      "mimetype": "text/x-python",
      "name": "python",
      "nbconvert_exporter": "python",
      "pygments_lexer": "ipython3",
      "version": "3.8.3"
    },
    "orig_nbformat": 4
  },
  "nbformat": 4,
  "nbformat_minor": 0
}
