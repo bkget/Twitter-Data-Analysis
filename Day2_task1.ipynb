{
  "cells": [
    {
      "cell_type": "markdown",
      "metadata": {
        "id": "i4aV38UxjZ-c"
      },
      "source": [
        "### Package Importing"
      ]
    },
    {
      "cell_type": "code",
      "execution_count": 1,
      "metadata": {
        "id": "8h0Z68GIw5Kn"
      },
      "outputs": [],
      "source": [
        "# Importing all the required packages for this task\n",
        "\n",
        "import pandas as pd\n",
        "import numpy as np\n",
        "import matplotlib.pyplot as plt\n",
        "from sklearn.model_selection import train_test_split \n",
        "from sklearn.preprocessing import StandardScaler\n",
        "from sklearn.pipeline import make_pipeline\n",
        "from sklearn.feature_extraction.text import TfidfVectorizer\n",
        "from sklearn.svm import LinearSVC\n",
        "# from sklearn import metrics\n"
      ]
    },
    {
      "cell_type": "code",
      "execution_count": 3,
      "metadata": {
        "colab": {
          "base_uri": "https://localhost:8080/",
          "height": 133
        },
        "id": "QtnGcIF879L-",
        "outputId": "ade954a5-ef83-4cba-f638-9c7fbc41752f"
      },
      "outputs": [],
      "source": [
        "# # import nltk\n",
        "# # nltk.download('wordnet')\n",
        "# pip install "
      ]
    },
    {
      "cell_type": "code",
      "execution_count": 41,
      "metadata": {
        "colab": {
          "base_uri": "https://localhost:8080/",
          "height": 376
        },
        "id": "qjdOMBuB79L_",
        "outputId": "7a51a094-8aea-41d8-d3a1-d297706fff15"
      },
      "outputs": [],
      "source": [
        "# Natural Language Processing Toolkit\n",
        "from nltk.corpus import stopwords, words # get stopwords from NLTK library & get all words in english language\n",
        "from nltk.tokenize import word_tokenize # to create word tokens\n",
        "# from nltk.stem import PorterStemmer (I played around with Stemmer and decided to use Lemmatizer instead)\n",
        "from nltk.stem import WordNetLemmatizer # to reduce words to orginal form\n",
        "from nltk import pos_tag # For Parts of Speech tagging\n",
        "import string # Inbuilt string library\n",
        "from emot.emo_unicode import UNICODE_EMOJI\n",
        "# WordCloud - Python linrary for creating image wordclouds\n",
        "from wordcloud import WordCloud, STOPWORDS \n",
        "from PIL import Image # for opening, manipulating, and saving many different image file f\n",
        "from textblob import TextBlob # TextBlob - Python library for processing textual data\n",
        "import matplotlib.pyplot as plt\n",
        "import random \n",
        "import pickle\n",
        "import re\n",
        "\n",
        "\n"
      ]
    },
    {
      "cell_type": "code",
      "execution_count": 4,
      "metadata": {
        "id": "mlZEXshlw5Ku"
      },
      "outputs": [],
      "source": [
        "tweets_df = pd.read_csv(\"clean_processed_tweet_data.csv\")"
      ]
    },
    {
      "cell_type": "code",
      "execution_count": 5,
      "metadata": {
        "colab": {
          "base_uri": "https://localhost:8080/",
          "height": 461
        },
        "id": "pt2DbiW1w5Kw",
        "outputId": "8c58f965-883d-423a-ba62-983ad401ba7c"
      },
      "outputs": [
        {
          "data": {
            "text/html": [
              "<div>\n",
              "<style scoped>\n",
              "    .dataframe tbody tr th:only-of-type {\n",
              "        vertical-align: middle;\n",
              "    }\n",
              "\n",
              "    .dataframe tbody tr th {\n",
              "        vertical-align: top;\n",
              "    }\n",
              "\n",
              "    .dataframe thead th {\n",
              "        text-align: right;\n",
              "    }\n",
              "</style>\n",
              "<table border=\"1\" class=\"dataframe\">\n",
              "  <thead>\n",
              "    <tr style=\"text-align: right;\">\n",
              "      <th></th>\n",
              "      <th>Unnamed: 0</th>\n",
              "      <th>created_at</th>\n",
              "      <th>source</th>\n",
              "      <th>original_text</th>\n",
              "      <th>polarity</th>\n",
              "      <th>subjectivity</th>\n",
              "      <th>lang</th>\n",
              "      <th>favorite_count</th>\n",
              "      <th>retweet_count</th>\n",
              "      <th>original_author</th>\n",
              "      <th>followers_count</th>\n",
              "      <th>friends_count</th>\n",
              "      <th>possibly_sensitive</th>\n",
              "      <th>hashtags</th>\n",
              "      <th>user_mentions</th>\n",
              "      <th>place</th>\n",
              "    </tr>\n",
              "  </thead>\n",
              "  <tbody>\n",
              "    <tr>\n",
              "      <th>0</th>\n",
              "      <td>38</td>\n",
              "      <td>2022-04-22 22:17:05+00:00</td>\n",
              "      <td>&lt;a href=\"http://twitter.com/download/android\" ...</td>\n",
              "      <td>RT @NorthstarCharts: The 10-year yield is tell...</td>\n",
              "      <td>0.16</td>\n",
              "      <td>0.540000</td>\n",
              "      <td>en</td>\n",
              "      <td>188</td>\n",
              "      <td>43</td>\n",
              "      <td>davideiacovozzi</td>\n",
              "      <td>18</td>\n",
              "      <td>55</td>\n",
              "      <td>NaN</td>\n",
              "      <td>gold, silver, crypto</td>\n",
              "      <td>NorthstarCharts</td>\n",
              "      <td>NaN</td>\n",
              "    </tr>\n",
              "    <tr>\n",
              "      <th>1</th>\n",
              "      <td>39</td>\n",
              "      <td>2022-04-22 13:44:53+00:00</td>\n",
              "      <td>&lt;a href=\"http://twitter.com/download/android\" ...</td>\n",
              "      <td>RT @MichaelAArouet: German 10y mortgage rate w...</td>\n",
              "      <td>0.15</td>\n",
              "      <td>0.175000</td>\n",
              "      <td>en</td>\n",
              "      <td>179</td>\n",
              "      <td>32</td>\n",
              "      <td>davideiacovozzi</td>\n",
              "      <td>18</td>\n",
              "      <td>55</td>\n",
              "      <td>NaN</td>\n",
              "      <td>NaN</td>\n",
              "      <td>MichaelAArouet</td>\n",
              "      <td>NaN</td>\n",
              "    </tr>\n",
              "    <tr>\n",
              "      <th>2</th>\n",
              "      <td>41</td>\n",
              "      <td>2022-04-22 06:10:34+00:00</td>\n",
              "      <td>&lt;a href=\"http://twitter.com/download/android\" ...</td>\n",
              "      <td>RT @goldseek: When? https://t.co/kO2FfHKaZg</td>\n",
              "      <td>0.00</td>\n",
              "      <td>0.000000</td>\n",
              "      <td>en</td>\n",
              "      <td>193</td>\n",
              "      <td>26</td>\n",
              "      <td>davideiacovozzi</td>\n",
              "      <td>18</td>\n",
              "      <td>55</td>\n",
              "      <td>False</td>\n",
              "      <td>NaN</td>\n",
              "      <td>goldseek</td>\n",
              "      <td>NaN</td>\n",
              "    </tr>\n",
              "    <tr>\n",
              "      <th>3</th>\n",
              "      <td>42</td>\n",
              "      <td>2022-04-21 17:22:09+00:00</td>\n",
              "      <td>&lt;a href=\"http://twitter.com/download/android\" ...</td>\n",
              "      <td>RT @charliebilello: The 30-year mortgage rate ...</td>\n",
              "      <td>0.00</td>\n",
              "      <td>0.183333</td>\n",
              "      <td>en</td>\n",
              "      <td>620</td>\n",
              "      <td>213</td>\n",
              "      <td>davideiacovozzi</td>\n",
              "      <td>18</td>\n",
              "      <td>55</td>\n",
              "      <td>NaN</td>\n",
              "      <td>NaN</td>\n",
              "      <td>charliebilello</td>\n",
              "      <td>NaN</td>\n",
              "    </tr>\n",
              "    <tr>\n",
              "      <th>4</th>\n",
              "      <td>43</td>\n",
              "      <td>2022-04-21 10:32:26+00:00</td>\n",
              "      <td>&lt;a href=\"http://twitter.com/download/android\" ...</td>\n",
              "      <td>RT @biancoresearch: Rates rise until something...</td>\n",
              "      <td>-0.40</td>\n",
              "      <td>0.400000</td>\n",
              "      <td>en</td>\n",
              "      <td>1787</td>\n",
              "      <td>417</td>\n",
              "      <td>davideiacovozzi</td>\n",
              "      <td>18</td>\n",
              "      <td>55</td>\n",
              "      <td>False</td>\n",
              "      <td>NaN</td>\n",
              "      <td>biancoresearch</td>\n",
              "      <td>NaN</td>\n",
              "    </tr>\n",
              "  </tbody>\n",
              "</table>\n",
              "</div>"
            ],
            "text/plain": [
              "   Unnamed: 0                 created_at  \\\n",
              "0          38  2022-04-22 22:17:05+00:00   \n",
              "1          39  2022-04-22 13:44:53+00:00   \n",
              "2          41  2022-04-22 06:10:34+00:00   \n",
              "3          42  2022-04-21 17:22:09+00:00   \n",
              "4          43  2022-04-21 10:32:26+00:00   \n",
              "\n",
              "                                              source  \\\n",
              "0  <a href=\"http://twitter.com/download/android\" ...   \n",
              "1  <a href=\"http://twitter.com/download/android\" ...   \n",
              "2  <a href=\"http://twitter.com/download/android\" ...   \n",
              "3  <a href=\"http://twitter.com/download/android\" ...   \n",
              "4  <a href=\"http://twitter.com/download/android\" ...   \n",
              "\n",
              "                                       original_text  polarity  subjectivity  \\\n",
              "0  RT @NorthstarCharts: The 10-year yield is tell...      0.16      0.540000   \n",
              "1  RT @MichaelAArouet: German 10y mortgage rate w...      0.15      0.175000   \n",
              "2        RT @goldseek: When? https://t.co/kO2FfHKaZg      0.00      0.000000   \n",
              "3  RT @charliebilello: The 30-year mortgage rate ...      0.00      0.183333   \n",
              "4  RT @biancoresearch: Rates rise until something...     -0.40      0.400000   \n",
              "\n",
              "  lang  favorite_count  retweet_count  original_author  followers_count  \\\n",
              "0   en             188             43  davideiacovozzi               18   \n",
              "1   en             179             32  davideiacovozzi               18   \n",
              "2   en             193             26  davideiacovozzi               18   \n",
              "3   en             620            213  davideiacovozzi               18   \n",
              "4   en            1787            417  davideiacovozzi               18   \n",
              "\n",
              "   friends_count possibly_sensitive              hashtags    user_mentions  \\\n",
              "0             55                NaN  gold, silver, crypto  NorthstarCharts   \n",
              "1             55                NaN                   NaN   MichaelAArouet   \n",
              "2             55              False                   NaN         goldseek   \n",
              "3             55                NaN                   NaN   charliebilello   \n",
              "4             55              False                   NaN   biancoresearch   \n",
              "\n",
              "  place  \n",
              "0   NaN  \n",
              "1   NaN  \n",
              "2   NaN  \n",
              "3   NaN  \n",
              "4   NaN  "
            ]
          },
          "execution_count": 5,
          "metadata": {},
          "output_type": "execute_result"
        }
      ],
      "source": [
        "tweets_df.head()"
      ]
    },
    {
      "cell_type": "markdown",
      "metadata": {
        "id": "esG8PVlAVjOi"
      },
      "source": [
        "#### Data Understanding Management"
      ]
    },
    {
      "cell_type": "code",
      "execution_count": 6,
      "metadata": {
        "colab": {
          "base_uri": "https://localhost:8080/"
        },
        "id": "19a2uNO2FVqv",
        "outputId": "0177926d-962a-43a7-db1d-7311dce992e2"
      },
      "outputs": [
        {
          "name": "stdout",
          "output_type": "stream",
          "text": [
            "<class 'pandas.core.frame.DataFrame'>\n",
            "RangeIndex: 16472 entries, 0 to 16471\n",
            "Data columns (total 16 columns):\n",
            " #   Column              Non-Null Count  Dtype  \n",
            "---  ------              --------------  -----  \n",
            " 0   Unnamed: 0          16472 non-null  int64  \n",
            " 1   created_at          16472 non-null  object \n",
            " 2   source              16472 non-null  object \n",
            " 3   original_text       16472 non-null  object \n",
            " 4   polarity            16472 non-null  float64\n",
            " 5   subjectivity        16472 non-null  float64\n",
            " 6   lang                16472 non-null  object \n",
            " 7   favorite_count      16472 non-null  int64  \n",
            " 8   retweet_count       16472 non-null  int64  \n",
            " 9   original_author     16472 non-null  object \n",
            " 10  followers_count     16472 non-null  int64  \n",
            " 11  friends_count       16472 non-null  int64  \n",
            " 12  possibly_sensitive  6206 non-null   object \n",
            " 13  hashtags            5278 non-null   object \n",
            " 14  user_mentions       12165 non-null  object \n",
            " 15  place               10765 non-null  object \n",
            "dtypes: float64(2), int64(5), object(9)\n",
            "memory usage: 2.0+ MB\n"
          ]
        }
      ],
      "source": [
        "tweets_df.info()"
      ]
    },
    {
      "cell_type": "code",
      "execution_count": 7,
      "metadata": {
        "colab": {
          "base_uri": "https://localhost:8080/"
        },
        "id": "US1KwJoB79L7",
        "outputId": "522cde1d-e6d4-4f97-b411-d097a1e0459e"
      },
      "outputs": [
        {
          "data": {
            "text/plain": [
              "(16472, 16)"
            ]
          },
          "execution_count": 7,
          "metadata": {},
          "output_type": "execute_result"
        }
      ],
      "source": [
        "tweets_df.shape #Get number of rows and columns"
      ]
    },
    {
      "cell_type": "code",
      "execution_count": 8,
      "metadata": {
        "colab": {
          "base_uri": "https://localhost:8080/"
        },
        "id": "TVo0LXJtVzai",
        "outputId": "1a87c34d-552b-426e-c4e5-03b7065038c4"
      },
      "outputs": [
        {
          "name": "stdout",
          "output_type": "stream",
          "text": [
            "The number of missing value(s): 31474\n",
            "Columons having columns value:Index(['possibly_sensitive', 'hashtags', 'user_mentions', 'place'], dtype='object')\n"
          ]
        }
      ],
      "source": [
        "# Check the number of missing values\n",
        "\n",
        "print(\"The number of missing value(s): {}\".format(tweets_df.isnull().sum().sum()))\n",
        "print(\"Columons having columns value:{}\".format(tweets_df.columns[tweets_df.isnull().any()]))"
      ]
    },
    {
      "cell_type": "code",
      "execution_count": 9,
      "metadata": {
        "colab": {
          "base_uri": "https://localhost:8080/"
        },
        "id": "l8rFsT9c79L9",
        "outputId": "20c540b7-f951-4786-80be-97c01e788c7a"
      },
      "outputs": [
        {
          "data": {
            "text/plain": [
              "Unnamed: 0            False\n",
              "created_at            False\n",
              "source                False\n",
              "original_text         False\n",
              "polarity              False\n",
              "subjectivity          False\n",
              "lang                  False\n",
              "favorite_count        False\n",
              "retweet_count         False\n",
              "original_author       False\n",
              "followers_count       False\n",
              "friends_count         False\n",
              "possibly_sensitive     True\n",
              "hashtags               True\n",
              "user_mentions          True\n",
              "place                  True\n",
              "dtype: bool"
            ]
          },
          "execution_count": 9,
          "metadata": {},
          "output_type": "execute_result"
        }
      ],
      "source": [
        "tweets_df.isna().any() # Check for \"NaN\" values"
      ]
    },
    {
      "cell_type": "code",
      "execution_count": 10,
      "metadata": {
        "id": "YX1LWV2K79L9"
      },
      "outputs": [],
      "source": [
        "tweets_df['place']=tweets_df['place'].fillna('No place') # Replace \"NaN\" values with \"No Location\"\n",
        "tweets_df['possibly_sensitive']=tweets_df['possibly_sensitive'].fillna('Neutral') # Replace \"NaN\" values with \"possibly_sensitive\"\n",
        "tweets_df['hashtags']=tweets_df['hashtags'].fillna('No hashtags') # Replace \"NaN\" values with \"hashtags\"\n",
        "tweets_df['user_mentions']=tweets_df['user_mentions'].fillna('No user mention') # Replace \"NaN\" values with \"user_mentions\""
      ]
    },
    {
      "cell_type": "code",
      "execution_count": 11,
      "metadata": {
        "colab": {
          "base_uri": "https://localhost:8080/"
        },
        "id": "7q2jSmob79L-",
        "outputId": "badf7f5c-2026-4016-8ad0-e489c9442226"
      },
      "outputs": [
        {
          "data": {
            "text/plain": [
              "Unnamed: 0            False\n",
              "created_at            False\n",
              "source                False\n",
              "original_text         False\n",
              "polarity              False\n",
              "subjectivity          False\n",
              "lang                  False\n",
              "favorite_count        False\n",
              "retweet_count         False\n",
              "original_author       False\n",
              "followers_count       False\n",
              "friends_count         False\n",
              "possibly_sensitive    False\n",
              "hashtags              False\n",
              "user_mentions         False\n",
              "place                 False\n",
              "dtype: bool"
            ]
          },
          "execution_count": 11,
          "metadata": {},
          "output_type": "execute_result"
        }
      ],
      "source": [
        "tweets_df.isna().any() # Check for \"NaN\" values again"
      ]
    },
    {
      "cell_type": "code",
      "execution_count": 12,
      "metadata": {
        "id": "y75iWBuk79L_"
      },
      "outputs": [],
      "source": [
        "# Function to remove punctuations, links, emojis, and stop words\n",
        "def preprocessTweets(tweet):\n",
        "    tweet = tweet.lower()  #has to be in place\n",
        "    # Remove urls\n",
        "    tweet = re.sub(r\"http\\S+|www\\S+|https\\S+\", '', tweet, flags=re.MULTILINE)\n",
        "    # Remove user @ references and '#' from tweet\n",
        "    tweet = re.sub(r'\\@\\w+|\\#|\\d+', '', tweet)\n",
        "    # Remove stopwords\n",
        "    tweet_tokens = word_tokenize(tweet)  # convert string to tokens\n",
        "    filtered_words = [w for w in tweet_tokens if w not in stop_words]\n",
        "    filtered_words = [w for w in filtered_words if w not in emojis]\n",
        "    filtered_words = [w for w in filtered_words if w in word_list]\n",
        "\n",
        "    # Remove punctuations\n",
        "    unpunctuated_words = [char for char in filtered_words if char not in string.punctuation]\n",
        "    unpunctuated_words = ' '.join(unpunctuated_words)\n",
        "\n",
        "    return \"\".join(unpunctuated_words)  # join words with a space in between them\n",
        "\n",
        "\n",
        "# function to obtain adjectives from tweets\n",
        "def getAdjectives(tweet):\n",
        "    tweet = word_tokenize(tweet)  # convert string to tokens\n",
        "    tweet = [word for (word, tag) in pos_tag(tweet)\n",
        "             if tag == \"JJ\"]  # pos_tag module in NLTK library\n",
        "    return \" \".join(tweet)  # join words with a space in between them"
      ]
    },
    {
      "cell_type": "code",
      "execution_count": 13,
      "metadata": {
        "id": "N3KhAAi-79MA"
      },
      "outputs": [],
      "source": [
        "# Defining my NLTK stop words and my user-defined stop words\n",
        "stop_words = list(stopwords.words('english'))\n",
        "user_stop_words = ['2022', 'year', 'many', 'much', 'next', 'cant', 'wont', 'hadnt',\n",
        "                    'havent', 'hasnt', 'isnt', 'shouldnt', 'couldnt', 'wasnt', 'werent',\n",
        "                    'mustnt', '’', '...', '..', '.', '.....', '....', 'been…', 'one', 'two',\n",
        "                    'three', 'four', 'five', 'six', 'seven', 'eight', 'nine', 'ten', 'aht',\n",
        "                    've', 'next']\n",
        "alphabets = list(string.ascii_lowercase)\n",
        "stop_words = stop_words + user_stop_words + alphabets\n",
        "word_list = words.words()  # all words in English language\n",
        "emojis = list(UNICODE_EMOJI.keys())  # full list of emojis"
      ]
    },
    {
      "cell_type": "code",
      "execution_count": 14,
      "metadata": {
        "colab": {
          "base_uri": "https://localhost:8080/"
        },
        "id": "A-1C08sK79MB",
        "outputId": "e3c46f87-b862-4984-ae99-c6d61ae15fac"
      },
      "outputs": [
        {
          "name": "stdout",
          "output_type": "stream",
          "text": [
            "difficulty sad happy worked\n"
          ]
        }
      ],
      "source": [
        "print(preprocessTweets(\"2022 was a year of difficulty. It was sad, but I am happy with how things worked out for me\"))"
      ]
    },
    {
      "cell_type": "code",
      "execution_count": 15,
      "metadata": {
        "id": "4shSK0lo79MC"
      },
      "outputs": [],
      "source": [
        "# Apply preProcessTweets function to the 'Tweet' column to generate a new column called 'Processed Tweets'.\n",
        "tweets_df['Processed_Tweets'] = tweets_df['original_text'].apply(preprocessTweets)"
      ]
    },
    {
      "cell_type": "code",
      "execution_count": null,
      "metadata": {
        "colab": {
          "base_uri": "https://localhost:8080/"
        },
        "id": "yd3sYqRf79MC",
        "outputId": "6429c1a5-3f48-4912-eb74-c802d746a7cb"
      },
      "outputs": [],
      "source": [
        "# import nltk\n",
        "# nltk.download('averaged_perceptron_tagger')"
      ]
    },
    {
      "cell_type": "code",
      "execution_count": null,
      "metadata": {
        "id": "eQhifWZa79MD"
      },
      "outputs": [],
      "source": [
        "# Apply getAdjectives function to the new 'Processed Tweets' column to generate a new column called 'Tweets_Adjectives'\n",
        "tweets_df['Tweets_Adjectives'] = tweets_df['Processed_Tweets'].apply(getAdjectives)"
      ]
    },
    {
      "cell_type": "code",
      "execution_count": null,
      "metadata": {
        "colab": {
          "base_uri": "https://localhost:8080/",
          "height": 461
        },
        "id": "RS6qTn4w79MD",
        "outputId": "c4837561-aa54-4cc0-9459-e1608eff13a4"
      },
      "outputs": [
        {
          "data": {
            "text/html": [
              "\n",
              "  <div id=\"df-3d61f263-d8a1-4794-8f9e-29499b66f8d3\">\n",
              "    <div class=\"colab-df-container\">\n",
              "      <div>\n",
              "<style scoped>\n",
              "    .dataframe tbody tr th:only-of-type {\n",
              "        vertical-align: middle;\n",
              "    }\n",
              "\n",
              "    .dataframe tbody tr th {\n",
              "        vertical-align: top;\n",
              "    }\n",
              "\n",
              "    .dataframe thead th {\n",
              "        text-align: right;\n",
              "    }\n",
              "</style>\n",
              "<table border=\"1\" class=\"dataframe\">\n",
              "  <thead>\n",
              "    <tr style=\"text-align: right;\">\n",
              "      <th></th>\n",
              "      <th>Unnamed: 0</th>\n",
              "      <th>created_at</th>\n",
              "      <th>source</th>\n",
              "      <th>original_text</th>\n",
              "      <th>polarity</th>\n",
              "      <th>subjectivity</th>\n",
              "      <th>lang</th>\n",
              "      <th>favorite_count</th>\n",
              "      <th>retweet_count</th>\n",
              "      <th>original_author</th>\n",
              "      <th>followers_count</th>\n",
              "      <th>friends_count</th>\n",
              "      <th>possibly_sensitive</th>\n",
              "      <th>hashtags</th>\n",
              "      <th>user_mentions</th>\n",
              "      <th>place</th>\n",
              "      <th>Processed_Tweets</th>\n",
              "      <th>Tweets_Adjectives</th>\n",
              "    </tr>\n",
              "  </thead>\n",
              "  <tbody>\n",
              "    <tr>\n",
              "      <th>0</th>\n",
              "      <td>38</td>\n",
              "      <td>2022-04-22 22:17:05+00:00</td>\n",
              "      <td>&lt;a href=\"http://twitter.com/download/android\" ...</td>\n",
              "      <td>RT @NorthstarCharts: The 10-year yield is tell...</td>\n",
              "      <td>0.16</td>\n",
              "      <td>0.540000</td>\n",
              "      <td>en</td>\n",
              "      <td>188</td>\n",
              "      <td>43</td>\n",
              "      <td>davideiacovozzi</td>\n",
              "      <td>18</td>\n",
              "      <td>55</td>\n",
              "      <td>Neutral</td>\n",
              "      <td>gold, silver, crypto</td>\n",
              "      <td>NorthstarCharts</td>\n",
              "      <td>No place</td>\n",
              "      <td>yield telling us high risk something system go...</td>\n",
              "      <td>high</td>\n",
              "    </tr>\n",
              "    <tr>\n",
              "      <th>1</th>\n",
              "      <td>39</td>\n",
              "      <td>2022-04-22 13:44:53+00:00</td>\n",
              "      <td>&lt;a href=\"http://twitter.com/download/android\" ...</td>\n",
              "      <td>RT @MichaelAArouet: German 10y mortgage rate w...</td>\n",
              "      <td>0.15</td>\n",
              "      <td>0.175000</td>\n",
              "      <td>en</td>\n",
              "      <td>179</td>\n",
              "      <td>32</td>\n",
              "      <td>davideiacovozzi</td>\n",
              "      <td>18</td>\n",
              "      <td>55</td>\n",
              "      <td>Neutral</td>\n",
              "      <td>No hashtags</td>\n",
              "      <td>MichaelAArouet</td>\n",
              "      <td>No place</td>\n",
              "      <td>german mortgage rate went hear sound german re...</td>\n",
              "      <td>german hear sound german real</td>\n",
              "    </tr>\n",
              "    <tr>\n",
              "      <th>2</th>\n",
              "      <td>41</td>\n",
              "      <td>2022-04-22 06:10:34+00:00</td>\n",
              "      <td>&lt;a href=\"http://twitter.com/download/android\" ...</td>\n",
              "      <td>RT @goldseek: When? https://t.co/kO2FfHKaZg</td>\n",
              "      <td>0.00</td>\n",
              "      <td>0.000000</td>\n",
              "      <td>en</td>\n",
              "      <td>193</td>\n",
              "      <td>26</td>\n",
              "      <td>davideiacovozzi</td>\n",
              "      <td>18</td>\n",
              "      <td>55</td>\n",
              "      <td>False</td>\n",
              "      <td>No hashtags</td>\n",
              "      <td>goldseek</td>\n",
              "      <td>No place</td>\n",
              "      <td></td>\n",
              "      <td></td>\n",
              "    </tr>\n",
              "    <tr>\n",
              "      <th>3</th>\n",
              "      <td>42</td>\n",
              "      <td>2022-04-21 17:22:09+00:00</td>\n",
              "      <td>&lt;a href=\"http://twitter.com/download/android\" ...</td>\n",
              "      <td>RT @charliebilello: The 30-year mortgage rate ...</td>\n",
              "      <td>0.00</td>\n",
              "      <td>0.183333</td>\n",
              "      <td>en</td>\n",
              "      <td>620</td>\n",
              "      <td>213</td>\n",
              "      <td>davideiacovozzi</td>\n",
              "      <td>18</td>\n",
              "      <td>55</td>\n",
              "      <td>Neutral</td>\n",
              "      <td>No hashtags</td>\n",
              "      <td>charliebilello</td>\n",
              "      <td>No place</td>\n",
              "      <td>mortgage rate us highest level since last hit low</td>\n",
              "      <td>last low</td>\n",
              "    </tr>\n",
              "    <tr>\n",
              "      <th>4</th>\n",
              "      <td>43</td>\n",
              "      <td>2022-04-21 10:32:26+00:00</td>\n",
              "      <td>&lt;a href=\"http://twitter.com/download/android\" ...</td>\n",
              "      <td>RT @biancoresearch: Rates rise until something...</td>\n",
              "      <td>-0.40</td>\n",
              "      <td>0.400000</td>\n",
              "      <td>en</td>\n",
              "      <td>1787</td>\n",
              "      <td>417</td>\n",
              "      <td>davideiacovozzi</td>\n",
              "      <td>18</td>\n",
              "      <td>55</td>\n",
              "      <td>False</td>\n",
              "      <td>No hashtags</td>\n",
              "      <td>biancoresearch</td>\n",
              "      <td>No place</td>\n",
              "      <td>rise something anything broken yet</td>\n",
              "      <td>broken</td>\n",
              "    </tr>\n",
              "  </tbody>\n",
              "</table>\n",
              "</div>\n",
              "      <button class=\"colab-df-convert\" onclick=\"convertToInteractive('df-3d61f263-d8a1-4794-8f9e-29499b66f8d3')\"\n",
              "              title=\"Convert this dataframe to an interactive table.\"\n",
              "              style=\"display:none;\">\n",
              "        \n",
              "  <svg xmlns=\"http://www.w3.org/2000/svg\" height=\"24px\"viewBox=\"0 0 24 24\"\n",
              "       width=\"24px\">\n",
              "    <path d=\"M0 0h24v24H0V0z\" fill=\"none\"/>\n",
              "    <path d=\"M18.56 5.44l.94 2.06.94-2.06 2.06-.94-2.06-.94-.94-2.06-.94 2.06-2.06.94zm-11 1L8.5 8.5l.94-2.06 2.06-.94-2.06-.94L8.5 2.5l-.94 2.06-2.06.94zm10 10l.94 2.06.94-2.06 2.06-.94-2.06-.94-.94-2.06-.94 2.06-2.06.94z\"/><path d=\"M17.41 7.96l-1.37-1.37c-.4-.4-.92-.59-1.43-.59-.52 0-1.04.2-1.43.59L10.3 9.45l-7.72 7.72c-.78.78-.78 2.05 0 2.83L4 21.41c.39.39.9.59 1.41.59.51 0 1.02-.2 1.41-.59l7.78-7.78 2.81-2.81c.8-.78.8-2.07 0-2.86zM5.41 20L4 18.59l7.72-7.72 1.47 1.35L5.41 20z\"/>\n",
              "  </svg>\n",
              "      </button>\n",
              "      \n",
              "  <style>\n",
              "    .colab-df-container {\n",
              "      display:flex;\n",
              "      flex-wrap:wrap;\n",
              "      gap: 12px;\n",
              "    }\n",
              "\n",
              "    .colab-df-convert {\n",
              "      background-color: #E8F0FE;\n",
              "      border: none;\n",
              "      border-radius: 50%;\n",
              "      cursor: pointer;\n",
              "      display: none;\n",
              "      fill: #1967D2;\n",
              "      height: 32px;\n",
              "      padding: 0 0 0 0;\n",
              "      width: 32px;\n",
              "    }\n",
              "\n",
              "    .colab-df-convert:hover {\n",
              "      background-color: #E2EBFA;\n",
              "      box-shadow: 0px 1px 2px rgba(60, 64, 67, 0.3), 0px 1px 3px 1px rgba(60, 64, 67, 0.15);\n",
              "      fill: #174EA6;\n",
              "    }\n",
              "\n",
              "    [theme=dark] .colab-df-convert {\n",
              "      background-color: #3B4455;\n",
              "      fill: #D2E3FC;\n",
              "    }\n",
              "\n",
              "    [theme=dark] .colab-df-convert:hover {\n",
              "      background-color: #434B5C;\n",
              "      box-shadow: 0px 1px 3px 1px rgba(0, 0, 0, 0.15);\n",
              "      filter: drop-shadow(0px 1px 2px rgba(0, 0, 0, 0.3));\n",
              "      fill: #FFFFFF;\n",
              "    }\n",
              "  </style>\n",
              "\n",
              "      <script>\n",
              "        const buttonEl =\n",
              "          document.querySelector('#df-3d61f263-d8a1-4794-8f9e-29499b66f8d3 button.colab-df-convert');\n",
              "        buttonEl.style.display =\n",
              "          google.colab.kernel.accessAllowed ? 'block' : 'none';\n",
              "\n",
              "        async function convertToInteractive(key) {\n",
              "          const element = document.querySelector('#df-3d61f263-d8a1-4794-8f9e-29499b66f8d3');\n",
              "          const dataTable =\n",
              "            await google.colab.kernel.invokeFunction('convertToInteractive',\n",
              "                                                     [key], {});\n",
              "          if (!dataTable) return;\n",
              "\n",
              "          const docLinkHtml = 'Like what you see? Visit the ' +\n",
              "            '<a target=\"_blank\" href=https://colab.research.google.com/notebooks/data_table.ipynb>data table notebook</a>'\n",
              "            + ' to learn more about interactive tables.';\n",
              "          element.innerHTML = '';\n",
              "          dataTable['output_type'] = 'display_data';\n",
              "          await google.colab.output.renderOutput(dataTable, element);\n",
              "          const docLink = document.createElement('div');\n",
              "          docLink.innerHTML = docLinkHtml;\n",
              "          element.appendChild(docLink);\n",
              "        }\n",
              "      </script>\n",
              "    </div>\n",
              "  </div>\n",
              "  "
            ],
            "text/plain": [
              "   Unnamed: 0                 created_at  \\\n",
              "0          38  2022-04-22 22:17:05+00:00   \n",
              "1          39  2022-04-22 13:44:53+00:00   \n",
              "2          41  2022-04-22 06:10:34+00:00   \n",
              "3          42  2022-04-21 17:22:09+00:00   \n",
              "4          43  2022-04-21 10:32:26+00:00   \n",
              "\n",
              "                                              source  \\\n",
              "0  <a href=\"http://twitter.com/download/android\" ...   \n",
              "1  <a href=\"http://twitter.com/download/android\" ...   \n",
              "2  <a href=\"http://twitter.com/download/android\" ...   \n",
              "3  <a href=\"http://twitter.com/download/android\" ...   \n",
              "4  <a href=\"http://twitter.com/download/android\" ...   \n",
              "\n",
              "                                       original_text  polarity  subjectivity  \\\n",
              "0  RT @NorthstarCharts: The 10-year yield is tell...      0.16      0.540000   \n",
              "1  RT @MichaelAArouet: German 10y mortgage rate w...      0.15      0.175000   \n",
              "2        RT @goldseek: When? https://t.co/kO2FfHKaZg      0.00      0.000000   \n",
              "3  RT @charliebilello: The 30-year mortgage rate ...      0.00      0.183333   \n",
              "4  RT @biancoresearch: Rates rise until something...     -0.40      0.400000   \n",
              "\n",
              "  lang  favorite_count  retweet_count  original_author  followers_count  \\\n",
              "0   en             188             43  davideiacovozzi               18   \n",
              "1   en             179             32  davideiacovozzi               18   \n",
              "2   en             193             26  davideiacovozzi               18   \n",
              "3   en             620            213  davideiacovozzi               18   \n",
              "4   en            1787            417  davideiacovozzi               18   \n",
              "\n",
              "   friends_count possibly_sensitive              hashtags    user_mentions  \\\n",
              "0             55            Neutral  gold, silver, crypto  NorthstarCharts   \n",
              "1             55            Neutral           No hashtags   MichaelAArouet   \n",
              "2             55              False           No hashtags         goldseek   \n",
              "3             55            Neutral           No hashtags   charliebilello   \n",
              "4             55              False           No hashtags   biancoresearch   \n",
              "\n",
              "      place                                   Processed_Tweets  \\\n",
              "0  No place  yield telling us high risk something system go...   \n",
              "1  No place  german mortgage rate went hear sound german re...   \n",
              "2  No place                                                      \n",
              "3  No place  mortgage rate us highest level since last hit low   \n",
              "4  No place                 rise something anything broken yet   \n",
              "\n",
              "               Tweets_Adjectives  \n",
              "0                           high  \n",
              "1  german hear sound german real  \n",
              "2                                 \n",
              "3                       last low  \n",
              "4                         broken  "
            ]
          },
          "execution_count": 159,
          "metadata": {},
          "output_type": "execute_result"
        }
      ],
      "source": [
        "tweets_df.head() # Check dataframe first 5 rows"
      ]
    },
    {
      "cell_type": "code",
      "execution_count": 33,
      "metadata": {
        "id": "Ul44YDZZ79ME"
      },
      "outputs": [],
      "source": [
        "# function to return words to their base form using Lemmatizer\n",
        "def preprocessTweetsSentiments(tweet):\n",
        "    tweet_tokens = word_tokenize(tweet)\n",
        "    lemmatizer = WordNetLemmatizer() # instatiate an object WordNetLemmatizer Class\n",
        "    lemma_words = [lemmatizer.lemmatize(w) for w in tweet_tokens]\n",
        "    return \" \".join(lemma_words)"
      ]
    },
    {
      "cell_type": "code",
      "execution_count": 34,
      "metadata": {
        "id": "U0zwFDa679ME"
      },
      "outputs": [],
      "source": [
        "\n",
        "# Apply preprocessTweetsSentiments function to the 'Processed Tweets' column to generate a new column\n",
        "# called 'Processed_Tweets'\n",
        "tweets_df['Tweets_Sentiments'] = tweets_df['Processed_Tweets'].apply(preprocessTweetsSentiments)"
      ]
    },
    {
      "cell_type": "code",
      "execution_count": 20,
      "metadata": {},
      "outputs": [],
      "source": [
        "# Apply getAdjectives function to the new 'Processed Tweets' column to generate a new column called 'Tweets_Adjectives'\n",
        "tweets_df['Tweets_Adjectives'] = tweets_df['Processed_Tweets'].apply(getAdjectives)"
      ]
    },
    {
      "cell_type": "code",
      "execution_count": 36,
      "metadata": {
        "colab": {
          "base_uri": "https://localhost:8080/",
          "height": 461
        },
        "id": "YhvaD8IJ79MF",
        "outputId": "1e83ebd4-224a-42da-839f-545667abf69c"
      },
      "outputs": [
        {
          "data": {
            "text/html": [
              "<div>\n",
              "<style scoped>\n",
              "    .dataframe tbody tr th:only-of-type {\n",
              "        vertical-align: middle;\n",
              "    }\n",
              "\n",
              "    .dataframe tbody tr th {\n",
              "        vertical-align: top;\n",
              "    }\n",
              "\n",
              "    .dataframe thead th {\n",
              "        text-align: right;\n",
              "    }\n",
              "</style>\n",
              "<table border=\"1\" class=\"dataframe\">\n",
              "  <thead>\n",
              "    <tr style=\"text-align: right;\">\n",
              "      <th></th>\n",
              "      <th>Unnamed: 0</th>\n",
              "      <th>created_at</th>\n",
              "      <th>source</th>\n",
              "      <th>original_text</th>\n",
              "      <th>polarity</th>\n",
              "      <th>subjectivity</th>\n",
              "      <th>lang</th>\n",
              "      <th>favorite_count</th>\n",
              "      <th>retweet_count</th>\n",
              "      <th>original_author</th>\n",
              "      <th>...</th>\n",
              "      <th>possibly_sensitive</th>\n",
              "      <th>hashtags</th>\n",
              "      <th>user_mentions</th>\n",
              "      <th>place</th>\n",
              "      <th>Processed_Tweets</th>\n",
              "      <th>Tweets_Adjectives</th>\n",
              "      <th>Tweets_Sentiments</th>\n",
              "      <th>Subjectivity</th>\n",
              "      <th>Polarity</th>\n",
              "      <th>Sentiment</th>\n",
              "    </tr>\n",
              "  </thead>\n",
              "  <tbody>\n",
              "    <tr>\n",
              "      <th>0</th>\n",
              "      <td>38</td>\n",
              "      <td>2022-04-22 22:17:05+00:00</td>\n",
              "      <td>&lt;a href=\"http://twitter.com/download/android\" ...</td>\n",
              "      <td>RT @NorthstarCharts: The 10-year yield is tell...</td>\n",
              "      <td>0.16</td>\n",
              "      <td>0.540000</td>\n",
              "      <td>en</td>\n",
              "      <td>188</td>\n",
              "      <td>43</td>\n",
              "      <td>davideiacovozzi</td>\n",
              "      <td>...</td>\n",
              "      <td>Neutral</td>\n",
              "      <td>gold, silver, crypto</td>\n",
              "      <td>NorthstarCharts</td>\n",
              "      <td>No place</td>\n",
              "      <td>yield telling us high risk something system go...</td>\n",
              "      <td>high</td>\n",
              "      <td>yield telling u high risk something system gol...</td>\n",
              "      <td>0.540000</td>\n",
              "      <td>0.16</td>\n",
              "      <td>Positive</td>\n",
              "    </tr>\n",
              "    <tr>\n",
              "      <th>1</th>\n",
              "      <td>39</td>\n",
              "      <td>2022-04-22 13:44:53+00:00</td>\n",
              "      <td>&lt;a href=\"http://twitter.com/download/android\" ...</td>\n",
              "      <td>RT @MichaelAArouet: German 10y mortgage rate w...</td>\n",
              "      <td>0.15</td>\n",
              "      <td>0.175000</td>\n",
              "      <td>en</td>\n",
              "      <td>179</td>\n",
              "      <td>32</td>\n",
              "      <td>davideiacovozzi</td>\n",
              "      <td>...</td>\n",
              "      <td>Neutral</td>\n",
              "      <td>No hashtags</td>\n",
              "      <td>MichaelAArouet</td>\n",
              "      <td>No place</td>\n",
              "      <td>german mortgage rate went hear sound german re...</td>\n",
              "      <td>german hear sound german real</td>\n",
              "      <td>german mortgage rate went hear sound german re...</td>\n",
              "      <td>0.175000</td>\n",
              "      <td>0.15</td>\n",
              "      <td>Positive</td>\n",
              "    </tr>\n",
              "    <tr>\n",
              "      <th>2</th>\n",
              "      <td>41</td>\n",
              "      <td>2022-04-22 06:10:34+00:00</td>\n",
              "      <td>&lt;a href=\"http://twitter.com/download/android\" ...</td>\n",
              "      <td>RT @goldseek: When? https://t.co/kO2FfHKaZg</td>\n",
              "      <td>0.00</td>\n",
              "      <td>0.000000</td>\n",
              "      <td>en</td>\n",
              "      <td>193</td>\n",
              "      <td>26</td>\n",
              "      <td>davideiacovozzi</td>\n",
              "      <td>...</td>\n",
              "      <td>False</td>\n",
              "      <td>No hashtags</td>\n",
              "      <td>goldseek</td>\n",
              "      <td>No place</td>\n",
              "      <td></td>\n",
              "      <td></td>\n",
              "      <td></td>\n",
              "      <td>0.000000</td>\n",
              "      <td>0.00</td>\n",
              "      <td>Neutral</td>\n",
              "    </tr>\n",
              "    <tr>\n",
              "      <th>3</th>\n",
              "      <td>42</td>\n",
              "      <td>2022-04-21 17:22:09+00:00</td>\n",
              "      <td>&lt;a href=\"http://twitter.com/download/android\" ...</td>\n",
              "      <td>RT @charliebilello: The 30-year mortgage rate ...</td>\n",
              "      <td>0.00</td>\n",
              "      <td>0.183333</td>\n",
              "      <td>en</td>\n",
              "      <td>620</td>\n",
              "      <td>213</td>\n",
              "      <td>davideiacovozzi</td>\n",
              "      <td>...</td>\n",
              "      <td>Neutral</td>\n",
              "      <td>No hashtags</td>\n",
              "      <td>charliebilello</td>\n",
              "      <td>No place</td>\n",
              "      <td>mortgage rate us highest level since last hit low</td>\n",
              "      <td>last low</td>\n",
              "      <td>mortgage rate u highest level since last hit low</td>\n",
              "      <td>0.183333</td>\n",
              "      <td>0.00</td>\n",
              "      <td>Neutral</td>\n",
              "    </tr>\n",
              "    <tr>\n",
              "      <th>4</th>\n",
              "      <td>43</td>\n",
              "      <td>2022-04-21 10:32:26+00:00</td>\n",
              "      <td>&lt;a href=\"http://twitter.com/download/android\" ...</td>\n",
              "      <td>RT @biancoresearch: Rates rise until something...</td>\n",
              "      <td>-0.40</td>\n",
              "      <td>0.400000</td>\n",
              "      <td>en</td>\n",
              "      <td>1787</td>\n",
              "      <td>417</td>\n",
              "      <td>davideiacovozzi</td>\n",
              "      <td>...</td>\n",
              "      <td>False</td>\n",
              "      <td>No hashtags</td>\n",
              "      <td>biancoresearch</td>\n",
              "      <td>No place</td>\n",
              "      <td>rise something anything broken yet</td>\n",
              "      <td>broken</td>\n",
              "      <td>rise something anything broken yet</td>\n",
              "      <td>0.400000</td>\n",
              "      <td>-0.40</td>\n",
              "      <td>Negative</td>\n",
              "    </tr>\n",
              "  </tbody>\n",
              "</table>\n",
              "<p>5 rows × 22 columns</p>\n",
              "</div>"
            ],
            "text/plain": [
              "   Unnamed: 0                 created_at  \\\n",
              "0          38  2022-04-22 22:17:05+00:00   \n",
              "1          39  2022-04-22 13:44:53+00:00   \n",
              "2          41  2022-04-22 06:10:34+00:00   \n",
              "3          42  2022-04-21 17:22:09+00:00   \n",
              "4          43  2022-04-21 10:32:26+00:00   \n",
              "\n",
              "                                              source  \\\n",
              "0  <a href=\"http://twitter.com/download/android\" ...   \n",
              "1  <a href=\"http://twitter.com/download/android\" ...   \n",
              "2  <a href=\"http://twitter.com/download/android\" ...   \n",
              "3  <a href=\"http://twitter.com/download/android\" ...   \n",
              "4  <a href=\"http://twitter.com/download/android\" ...   \n",
              "\n",
              "                                       original_text  polarity  subjectivity  \\\n",
              "0  RT @NorthstarCharts: The 10-year yield is tell...      0.16      0.540000   \n",
              "1  RT @MichaelAArouet: German 10y mortgage rate w...      0.15      0.175000   \n",
              "2        RT @goldseek: When? https://t.co/kO2FfHKaZg      0.00      0.000000   \n",
              "3  RT @charliebilello: The 30-year mortgage rate ...      0.00      0.183333   \n",
              "4  RT @biancoresearch: Rates rise until something...     -0.40      0.400000   \n",
              "\n",
              "  lang  favorite_count  retweet_count  original_author  ...  \\\n",
              "0   en             188             43  davideiacovozzi  ...   \n",
              "1   en             179             32  davideiacovozzi  ...   \n",
              "2   en             193             26  davideiacovozzi  ...   \n",
              "3   en             620            213  davideiacovozzi  ...   \n",
              "4   en            1787            417  davideiacovozzi  ...   \n",
              "\n",
              "   possibly_sensitive              hashtags    user_mentions     place  \\\n",
              "0             Neutral  gold, silver, crypto  NorthstarCharts  No place   \n",
              "1             Neutral           No hashtags   MichaelAArouet  No place   \n",
              "2               False           No hashtags         goldseek  No place   \n",
              "3             Neutral           No hashtags   charliebilello  No place   \n",
              "4               False           No hashtags   biancoresearch  No place   \n",
              "\n",
              "                                    Processed_Tweets  \\\n",
              "0  yield telling us high risk something system go...   \n",
              "1  german mortgage rate went hear sound german re...   \n",
              "2                                                      \n",
              "3  mortgage rate us highest level since last hit low   \n",
              "4                 rise something anything broken yet   \n",
              "\n",
              "               Tweets_Adjectives  \\\n",
              "0                           high   \n",
              "1  german hear sound german real   \n",
              "2                                  \n",
              "3                       last low   \n",
              "4                         broken   \n",
              "\n",
              "                                   Tweets_Sentiments Subjectivity Polarity  \\\n",
              "0  yield telling u high risk something system gol...     0.540000     0.16   \n",
              "1  german mortgage rate went hear sound german re...     0.175000     0.15   \n",
              "2                                                        0.000000     0.00   \n",
              "3   mortgage rate u highest level since last hit low     0.183333     0.00   \n",
              "4                 rise something anything broken yet     0.400000    -0.40   \n",
              "\n",
              "   Sentiment  \n",
              "0   Positive  \n",
              "1   Positive  \n",
              "2    Neutral  \n",
              "3    Neutral  \n",
              "4   Negative  \n",
              "\n",
              "[5 rows x 22 columns]"
            ]
          },
          "execution_count": 36,
          "metadata": {},
          "output_type": "execute_result"
        }
      ],
      "source": [
        "tweets_df.head()"
      ]
    },
    {
      "cell_type": "code",
      "execution_count": 18,
      "metadata": {
        "id": "4C0Va9WI79MG"
      },
      "outputs": [],
      "source": [
        "# Write the results to a csv file  \n",
        "\n",
        "tweets_df.to_csv('Tweets_Processed.csv',encoding='utf-8-sig', index=False)"
      ]
    },
    {
      "cell_type": "code",
      "execution_count": 22,
      "metadata": {
        "id": "lGfEbFie79MG"
      },
      "outputs": [],
      "source": [
        "# Extract all tweets into one long string with each word separate with a \"space\"\n",
        "tweets_long_string = tweets_df['Tweets_Adjectives'].tolist()\n",
        "tweets_long_string = \" \".join(tweets_long_string)"
      ]
    },
    {
      "cell_type": "code",
      "execution_count": 23,
      "metadata": {
        "id": "1VhFL93c79MI"
      },
      "outputs": [],
      "source": [
        "# Create function to generate the blue colour for the Word CLoud\n",
        "\n",
        "def blue_color_func(word, font_size, position, orientation, random_state=None,**kwargs):\n",
        "    return \"hsl(210, 100%%, %d%%)\" % random.randint(50, 70)"
      ]
    },
    {
      "cell_type": "code",
      "execution_count": 25,
      "metadata": {
        "id": "r2-tk4Ni79MI"
      },
      "outputs": [
        {
          "data": {
            "image/png": "[encoded data removed]",
            "text/plain": [
              "<Figure size 1008x1296 with 1 Axes>"
            ]
          },
          "metadata": {
            "needs_background": "light"
          },
          "output_type": "display_data"
        }
      ],
      "source": [
        "# Import Twitter Logo\n",
        "image = np.array(Image.open('twitter.png'))\n",
        "    \n",
        "fig = plt.figure() # Instantiate the figure object\n",
        "fig.set_figwidth(14) # set width\n",
        "fig.set_figheight(18) # set height\n",
        "\n",
        "plt.imshow(image, cmap=plt.cm.gray, interpolation='bilinear') # Display data as an image\n",
        "plt.axis('off') # Remove axis\n",
        "plt.show() # Display image"
      ]
    },
    {
      "cell_type": "code",
      "execution_count": 29,
      "metadata": {
        "colab": {
          "base_uri": "https://localhost:8080/",
          "height": 806
        },
        "id": "i9gP1KVW79MJ",
        "outputId": "82bd2c42-616c-4723-f67c-c6cb79075a37"
      },
      "outputs": [
        {
          "data": {
            "image/png": "[encoded data removed]",
            "text/plain": [
              "<Figure size 1008x1296 with 1 Axes>"
            ]
          },
          "metadata": {
            "needs_background": "light"
          },
          "output_type": "display_data"
        }
      ],
      "source": [
        "# Instantiate the Twitter word cloud object\n",
        "twitter_wc = WordCloud(background_color='white', max_words=1500, mask=image)\n",
        "\n",
        "# generate the word cloud\n",
        "twitter_wc.generate(tweets_long_string)\n",
        "\n",
        "# display the word cloud\n",
        "fig = plt.figure()\n",
        "fig.set_figwidth(14)  # set width\n",
        "fig.set_figheight(18)  # set height\n",
        "\n",
        "plt.imshow(twitter_wc.recolor(color_func=blue_color_func, random_state=3),\n",
        "           interpolation=\"bilinear\")\n",
        "plt.axis('off')\n",
        "plt.show()"
      ]
    },
    {
      "cell_type": "code",
      "execution_count": null,
      "metadata": {
        "id": "6LekbGsd79MW"
      },
      "outputs": [],
      "source": []
    },
    {
      "cell_type": "markdown",
      "metadata": {
        "id": "NyoB9Sww79Nb"
      },
      "source": [
        "### Sentiment Analysis"
      ]
    },
    {
      "cell_type": "code",
      "execution_count": 30,
      "metadata": {
        "id": "EwqIykEt79Nb"
      },
      "outputs": [],
      "source": [
        "# Create function to obtain Subjectivity Score\n",
        "def getSubjectivity(tweet):\n",
        "    return TextBlob(tweet).sentiment.subjectivity\n",
        "\n",
        "# Create function to obtain Polarity Score\n",
        "def getPolarity(tweet):\n",
        "    return TextBlob(tweet).sentiment.polarity\n",
        "\n",
        "# Create function to obtain Sentiment category\n",
        "def getSentimentTextBlob(polarity):\n",
        "    if polarity < 0:\n",
        "        return \"Negative\"\n",
        "    elif polarity == 0:\n",
        "        return \"Neutral\"\n",
        "    else:\n",
        "        return \"Positive\""
      ]
    },
    {
      "cell_type": "code",
      "execution_count": 35,
      "metadata": {
        "id": "91FuZcBv79Nc"
      },
      "outputs": [],
      "source": [
        "# Apply all functions above to respective columns\n",
        "tweets_df['Subjectivity']=tweets_df['Tweets_Sentiments'].apply(getSubjectivity)\n",
        "tweets_df['Polarity']=tweets_df['Tweets_Sentiments'].apply(getPolarity)\n",
        "tweets_df['Sentiment']=tweets_df['Polarity'].apply(getSentimentTextBlob)"
      ]
    },
    {
      "cell_type": "code",
      "execution_count": 37,
      "metadata": {
        "id": "yCU5bDzp79Nc"
      },
      "outputs": [
        {
          "data": {
            "text/plain": [
              "Neutral     8552\n",
              "Positive    5594\n",
              "Negative    2326\n",
              "Name: Sentiment, dtype: int64"
            ]
          },
          "execution_count": 37,
          "metadata": {},
          "output_type": "execute_result"
        }
      ],
      "source": [
        "# See quick results of the Sentiment Analysis\n",
        "tweets_df['Sentiment'].value_counts()"
      ]
    },
    {
      "cell_type": "code",
      "execution_count": 38,
      "metadata": {
        "id": "jtjOab1F79Nd"
      },
      "outputs": [],
      "source": [
        "# Create dataframe for Count of Sentiment Categories\n",
        "bar_chart = tweets_df['Sentiment'].value_counts().rename_axis('Sentiment').to_frame('Total Tweets').reset_index()"
      ]
    },
    {
      "cell_type": "code",
      "execution_count": 39,
      "metadata": {
        "id": "acoT4CRC79Nd"
      },
      "outputs": [
        {
          "data": {
            "text/html": [
              "<div>\n",
              "<style scoped>\n",
              "    .dataframe tbody tr th:only-of-type {\n",
              "        vertical-align: middle;\n",
              "    }\n",
              "\n",
              "    .dataframe tbody tr th {\n",
              "        vertical-align: top;\n",
              "    }\n",
              "\n",
              "    .dataframe thead th {\n",
              "        text-align: right;\n",
              "    }\n",
              "</style>\n",
              "<table border=\"1\" class=\"dataframe\">\n",
              "  <thead>\n",
              "    <tr style=\"text-align: right;\">\n",
              "      <th></th>\n",
              "      <th>Sentiment</th>\n",
              "      <th>Total Tweets</th>\n",
              "    </tr>\n",
              "  </thead>\n",
              "  <tbody>\n",
              "    <tr>\n",
              "      <th>0</th>\n",
              "      <td>Neutral</td>\n",
              "      <td>8552</td>\n",
              "    </tr>\n",
              "    <tr>\n",
              "      <th>1</th>\n",
              "      <td>Positive</td>\n",
              "      <td>5594</td>\n",
              "    </tr>\n",
              "    <tr>\n",
              "      <th>2</th>\n",
              "      <td>Negative</td>\n",
              "      <td>2326</td>\n",
              "    </tr>\n",
              "  </tbody>\n",
              "</table>\n",
              "</div>"
            ],
            "text/plain": [
              "  Sentiment  Total Tweets\n",
              "0   Neutral          8552\n",
              "1  Positive          5594\n",
              "2  Negative          2326"
            ]
          },
          "execution_count": 39,
          "metadata": {},
          "output_type": "execute_result"
        }
      ],
      "source": [
        "bar_chart # Display dataframe"
      ]
    },
    {
      "cell_type": "code",
      "execution_count": 40,
      "metadata": {
        "id": "EB8QkKVXBPmQ"
      },
      "outputs": [
        {
          "data": {
            "image/png": "[encoded data removed]",
            "text/plain": [
              "<Figure size 432x288 with 1 Axes>"
            ]
          },
          "metadata": {
            "needs_background": "light"
          },
          "output_type": "display_data"
        }
      ],
      "source": [
        "x = bar_chart['Sentiment']\n",
        "y = bar_chart['Total Tweets']\n",
        "c = [\"green\", \"yellow\", \"red\"]\n",
        "plt.bar(x, y, width=0.5, color=c)\n",
        "plt.xlabel(\"Sentiment\")\n",
        "plt.ylabel(\"Total Tweets\")\n",
        "plt.title(\"Distribution of Sentiments\")\n",
        "plt.show()\n"
      ]
    },
    {
      "cell_type": "markdown",
      "metadata": {
        "id": "k6uWRX6Wb4ha"
      },
      "source": [
        "#### Score"
      ]
    },
    {
      "cell_type": "code",
      "execution_count": 62,
      "metadata": {
        "id": "slAcJel3NXRl"
      },
      "outputs": [],
      "source": [
        "clean_tweet = tweets_df[['Tweets_Sentiments','polarity']]"
      ]
    },
    {
      "cell_type": "code",
      "execution_count": 63,
      "metadata": {
        "id": "27bZx_BhNa4b"
      },
      "outputs": [
        {
          "data": {
            "text/html": [
              "<div>\n",
              "<style scoped>\n",
              "    .dataframe tbody tr th:only-of-type {\n",
              "        vertical-align: middle;\n",
              "    }\n",
              "\n",
              "    .dataframe tbody tr th {\n",
              "        vertical-align: top;\n",
              "    }\n",
              "\n",
              "    .dataframe thead th {\n",
              "        text-align: right;\n",
              "    }\n",
              "</style>\n",
              "<table border=\"1\" class=\"dataframe\">\n",
              "  <thead>\n",
              "    <tr style=\"text-align: right;\">\n",
              "      <th></th>\n",
              "      <th>Tweets_Sentiments</th>\n",
              "      <th>polarity</th>\n",
              "    </tr>\n",
              "  </thead>\n",
              "  <tbody>\n",
              "    <tr>\n",
              "      <th>0</th>\n",
              "      <td>yield telling u high risk something system gol...</td>\n",
              "      <td>0.16</td>\n",
              "    </tr>\n",
              "    <tr>\n",
              "      <th>1</th>\n",
              "      <td>german mortgage rate went hear sound german re...</td>\n",
              "      <td>0.15</td>\n",
              "    </tr>\n",
              "    <tr>\n",
              "      <th>2</th>\n",
              "      <td></td>\n",
              "      <td>0.00</td>\n",
              "    </tr>\n",
              "    <tr>\n",
              "      <th>3</th>\n",
              "      <td>mortgage rate u highest level since last hit low</td>\n",
              "      <td>0.00</td>\n",
              "    </tr>\n",
              "    <tr>\n",
              "      <th>4</th>\n",
              "      <td>rise something anything broken yet</td>\n",
              "      <td>-0.40</td>\n",
              "    </tr>\n",
              "  </tbody>\n",
              "</table>\n",
              "</div>"
            ],
            "text/plain": [
              "                                   Tweets_Sentiments  polarity\n",
              "0  yield telling u high risk something system gol...      0.16\n",
              "1  german mortgage rate went hear sound german re...      0.15\n",
              "2                                                         0.00\n",
              "3   mortgage rate u highest level since last hit low      0.00\n",
              "4                 rise something anything broken yet     -0.40"
            ]
          },
          "execution_count": 63,
          "metadata": {},
          "output_type": "execute_result"
        }
      ],
      "source": [
        "clean_tweet.head(5)"
      ]
    },
    {
      "cell_type": "code",
      "execution_count": 64,
      "metadata": {
        "id": "fLZUaqZxw5K1"
      },
      "outputs": [],
      "source": [
        "score = pd.Series([getSentimentTextBlob(row_value) for row_value in clean_tweet['polarity']])"
      ]
    },
    {
      "cell_type": "code",
      "execution_count": 65,
      "metadata": {
        "id": "Y4Mw_MgUw5K3"
      },
      "outputs": [],
      "source": [
        "clean_tweet = pd.concat([clean_tweet, score.rename(\"score\")], axis=1)"
      ]
    },
    {
      "cell_type": "code",
      "execution_count": 66,
      "metadata": {
        "id": "4fZxfdWbw5K4"
      },
      "outputs": [
        {
          "data": {
            "text/html": [
              "<div>\n",
              "<style scoped>\n",
              "    .dataframe tbody tr th:only-of-type {\n",
              "        vertical-align: middle;\n",
              "    }\n",
              "\n",
              "    .dataframe tbody tr th {\n",
              "        vertical-align: top;\n",
              "    }\n",
              "\n",
              "    .dataframe thead th {\n",
              "        text-align: right;\n",
              "    }\n",
              "</style>\n",
              "<table border=\"1\" class=\"dataframe\">\n",
              "  <thead>\n",
              "    <tr style=\"text-align: right;\">\n",
              "      <th></th>\n",
              "      <th>Tweets_Sentiments</th>\n",
              "      <th>polarity</th>\n",
              "      <th>score</th>\n",
              "    </tr>\n",
              "  </thead>\n",
              "  <tbody>\n",
              "    <tr>\n",
              "      <th>0</th>\n",
              "      <td>yield telling u high risk something system gol...</td>\n",
              "      <td>0.160000</td>\n",
              "      <td>Positive</td>\n",
              "    </tr>\n",
              "    <tr>\n",
              "      <th>1</th>\n",
              "      <td>german mortgage rate went hear sound german re...</td>\n",
              "      <td>0.150000</td>\n",
              "      <td>Positive</td>\n",
              "    </tr>\n",
              "    <tr>\n",
              "      <th>2</th>\n",
              "      <td></td>\n",
              "      <td>0.000000</td>\n",
              "      <td>Neutral</td>\n",
              "    </tr>\n",
              "    <tr>\n",
              "      <th>3</th>\n",
              "      <td>mortgage rate u highest level since last hit low</td>\n",
              "      <td>0.000000</td>\n",
              "      <td>Neutral</td>\n",
              "    </tr>\n",
              "    <tr>\n",
              "      <th>4</th>\n",
              "      <td>rise something anything broken yet</td>\n",
              "      <td>-0.400000</td>\n",
              "      <td>Negative</td>\n",
              "    </tr>\n",
              "    <tr>\n",
              "      <th>5</th>\n",
              "      <td>like occur every</td>\n",
              "      <td>-0.100000</td>\n",
              "      <td>Negative</td>\n",
              "    </tr>\n",
              "    <tr>\n",
              "      <th>6</th>\n",
              "      <td>welcome bond testing risk asset private sector...</td>\n",
              "      <td>0.400000</td>\n",
              "      <td>Positive</td>\n",
              "    </tr>\n",
              "    <tr>\n",
              "      <th>7</th>\n",
              "      <td>horse thing another</td>\n",
              "      <td>0.000000</td>\n",
              "      <td>Neutral</td>\n",
              "    </tr>\n",
              "    <tr>\n",
              "      <th>8</th>\n",
              "      <td>global growth optimism time raise time see</td>\n",
              "      <td>0.488281</td>\n",
              "      <td>Positive</td>\n",
              "    </tr>\n",
              "    <tr>\n",
              "      <th>9</th>\n",
              "      <td>important chart world demand outlook demand so...</td>\n",
              "      <td>0.450000</td>\n",
              "      <td>Positive</td>\n",
              "    </tr>\n",
              "  </tbody>\n",
              "</table>\n",
              "</div>"
            ],
            "text/plain": [
              "                                   Tweets_Sentiments  polarity     score\n",
              "0  yield telling u high risk something system gol...  0.160000  Positive\n",
              "1  german mortgage rate went hear sound german re...  0.150000  Positive\n",
              "2                                                     0.000000   Neutral\n",
              "3   mortgage rate u highest level since last hit low  0.000000   Neutral\n",
              "4                 rise something anything broken yet -0.400000  Negative\n",
              "5                                   like occur every -0.100000  Negative\n",
              "6  welcome bond testing risk asset private sector...  0.400000  Positive\n",
              "7                                horse thing another  0.000000   Neutral\n",
              "8         global growth optimism time raise time see  0.488281  Positive\n",
              "9  important chart world demand outlook demand so...  0.450000  Positive"
            ]
          },
          "execution_count": 66,
          "metadata": {},
          "output_type": "execute_result"
        }
      ],
      "source": [
        "clean_tweet.head(n=10)"
      ]
    },
    {
      "cell_type": "code",
      "execution_count": 67,
      "metadata": {
        "id": "SgX3RwwLw5K6"
      },
      "outputs": [
        {
          "data": {
            "text/plain": [
              "16472"
            ]
          },
          "execution_count": 67,
          "metadata": {},
          "output_type": "execute_result"
        }
      ],
      "source": [
        "len(clean_tweet['polarity'])"
      ]
    },
    {
      "cell_type": "code",
      "execution_count": 68,
      "metadata": {
        "id": "kUwWmtunw5K7"
      },
      "outputs": [],
      "source": [
        "scoremap = pd.Series([1 if row_value == 'Positive' else 0 for row_value in clean_tweet['score']])"
      ]
    },
    {
      "cell_type": "code",
      "execution_count": 69,
      "metadata": {
        "id": "tCmctp87w5K7"
      },
      "outputs": [
        {
          "data": {
            "text/plain": [
              "16472"
            ]
          },
          "execution_count": 69,
          "metadata": {},
          "output_type": "execute_result"
        }
      ],
      "source": [
        "len(scoremap)"
      ]
    },
    {
      "cell_type": "code",
      "execution_count": 70,
      "metadata": {
        "id": "jYjnvIKGw5K9"
      },
      "outputs": [],
      "source": [
        "clean_tweet['scoremap'] = scoremap\n",
        "X = clean_tweet['Tweets_Sentiments']\n",
        "y = clean_tweet['scoremap']"
      ]
    },
    {
      "cell_type": "code",
      "execution_count": 71,
      "metadata": {
        "id": "-iaiZhZkw5K9"
      },
      "outputs": [],
      "source": [
        "X_train, X_test, y_train, y_test = train_test_split(X, y, test_size=0.2, random_state=42)"
      ]
    },
    {
      "cell_type": "code",
      "execution_count": 72,
      "metadata": {
        "id": "wIxQzEA7w5K-"
      },
      "outputs": [
        {
          "name": "stdout",
          "output_type": "stream",
          "text": [
            "13177 , 3295\n",
            "3295 , 3295\n"
          ]
        }
      ],
      "source": [
        "print(X_train.size,',' , X_test.size)\n",
        "print(X_test.size, ',',y_test.size)"
      ]
    },
    {
      "cell_type": "code",
      "execution_count": 73,
      "metadata": {
        "id": "-iVbBO05w5K_"
      },
      "outputs": [],
      "source": [
        "# scaling the input\n",
        "clf = LinearSVC()"
      ]
    },
    {
      "cell_type": "code",
      "execution_count": 74,
      "metadata": {
        "id": "-2PVibDqw5K_"
      },
      "outputs": [],
      "source": [
        "unigram_tfidf_vect = TfidfVectorizer(max_features=10000, ngram_range = (1, 1))\n",
        "bigram_tfidf_vect = TfidfVectorizer(max_features=10000, ngram_range = (2, 2))\n",
        "hybrid_tfidf_vect = TfidfVectorizer(max_features=10000, ngram_range = (1, 2))"
      ]
    },
    {
      "cell_type": "markdown",
      "metadata": {
        "id": "6D7gG7sS7pvj"
      },
      "source": [
        "## Unigram TF-IDF"
      ]
    },
    {
      "cell_type": "code",
      "execution_count": 75,
      "metadata": {
        "id": "RdF7ByMF3aUW"
      },
      "outputs": [
        {
          "data": {
            "text/plain": [
              "LinearSVC()"
            ]
          },
          "execution_count": 75,
          "metadata": {},
          "output_type": "execute_result"
        }
      ],
      "source": [
        "X_train = X_train.replace(np.nan, '', regex=True)\n",
        "X_train_counts = unigram_tfidf_vect.fit_transform(X_train)\n",
        "X_train_counts = X_train_counts.toarray()\n",
        "clf.fit(X_train_counts, y_train)"
      ]
    },
    {
      "cell_type": "code",
      "execution_count": 76,
      "metadata": {
        "id": "cWoY9bK3w5LB"
      },
      "outputs": [],
      "source": [
        "X_test = X_test.replace(np.nan, '', regex=True)\n",
        "X_test_counts = unigram_tfidf_vect.transform(X_test)\n",
        "X_test_counts = X_test_counts.toarray()\n",
        "prediction = clf.predict(X_test_counts)"
      ]
    },
    {
      "cell_type": "code",
      "execution_count": 77,
      "metadata": {
        "id": "LzzvuFK3w5LB"
      },
      "outputs": [
        {
          "data": {
            "text/plain": [
              "0.8819423368740515"
            ]
          },
          "execution_count": 77,
          "metadata": {},
          "output_type": "execute_result"
        }
      ],
      "source": [
        "np.mean(prediction == y_test)"
      ]
    },
    {
      "cell_type": "markdown",
      "metadata": {
        "id": "l6UCJPbF8Nj9"
      },
      "source": [
        "## Bigram TF-IDF"
      ]
    },
    {
      "cell_type": "code",
      "execution_count": 78,
      "metadata": {
        "id": "06bm_rPt8NkW"
      },
      "outputs": [
        {
          "data": {
            "text/plain": [
              "LinearSVC()"
            ]
          },
          "execution_count": 78,
          "metadata": {},
          "output_type": "execute_result"
        }
      ],
      "source": [
        "X_train = X_train.replace(np.nan, '', regex=True)\n",
        "X_train_counts = bigram_tfidf_vect.fit_transform(X_train)\n",
        "X_train_counts = X_train_counts.toarray()\n",
        "clf.fit(X_train_counts, y_train)"
      ]
    },
    {
      "cell_type": "code",
      "execution_count": 79,
      "metadata": {
        "id": "x7ISmsdo8NkY"
      },
      "outputs": [],
      "source": [
        "X_test = X_test.replace(np.nan, '', regex=True)\n",
        "X_test_counts = bigram_tfidf_vect.transform(X_test)\n",
        "X_test_counts = X_test_counts.toarray()\n",
        "prediction = clf.predict(X_test_counts)"
      ]
    },
    {
      "cell_type": "code",
      "execution_count": 80,
      "metadata": {
        "id": "YnDplyQS8Nka"
      },
      "outputs": [
        {
          "data": {
            "text/plain": [
              "0.7220030349013657"
            ]
          },
          "execution_count": 80,
          "metadata": {},
          "output_type": "execute_result"
        }
      ],
      "source": [
        "np.mean(prediction == y_test)"
      ]
    },
    {
      "cell_type": "markdown",
      "metadata": {
        "id": "vv_5yqiT8fBm"
      },
      "source": [
        "## Hybridgram TF-IDF"
      ]
    },
    {
      "cell_type": "code",
      "execution_count": 81,
      "metadata": {
        "id": "kysqciW58fBn"
      },
      "outputs": [
        {
          "data": {
            "text/plain": [
              "LinearSVC()"
            ]
          },
          "execution_count": 81,
          "metadata": {},
          "output_type": "execute_result"
        }
      ],
      "source": [
        "# X_train = X_train.replace(np.nan, '', regex=True)\n",
        "X_train_counts = hybrid_tfidf_vect.fit_transform(X_train)\n",
        "X_train_counts = X_train_counts.toarray()\n",
        "model = clf.fit(X_train_counts, y_train)"
      ]
    },
    {
      "cell_type": "code",
      "execution_count": 82,
      "metadata": {
        "id": "ZbGCx8iT8fBo"
      },
      "outputs": [],
      "source": [
        "X_test = X_test.replace(np.nan, '', regex=True)\n",
        "X_test_counts = hybrid_tfidf_vect.transform(X_test)\n",
        "X_test_counts = X_test_counts.toarray()\n",
        "prediction = clf.predict(X_test_counts)"
      ]
    },
    {
      "cell_type": "code",
      "execution_count": 83,
      "metadata": {
        "id": "7lGSRnTz8fBo"
      },
      "outputs": [
        {
          "data": {
            "text/plain": [
              "0.8852807283763278"
            ]
          },
          "execution_count": 83,
          "metadata": {},
          "output_type": "execute_result"
        }
      ],
      "source": [
        "np.mean(prediction == y_test)"
      ]
    },
    {
      "cell_type": "markdown",
      "metadata": {},
      "source": [
        "### Save the Model"
      ]
    },
    {
      "cell_type": "code",
      "execution_count": null,
      "metadata": {
        "id": "YIb5xrut8sAV"
      },
      "outputs": [],
      "source": [
        "pickle.dump(model, open('model.pkl', 'wb'))"
      ]
    },
    {
      "cell_type": "code",
      "execution_count": null,
      "metadata": {},
      "outputs": [],
      "source": [
        "pickled_model = pickle.load(open('model.pkl', 'rb'))\n",
        "pickled_model.predict(y_test)"
      ]
    }
  ],
  "metadata": {
    "accelerator": "GPU",
    "colab": {
      "collapsed_sections": [],
      "name": "Day2_task1.ipynb",
      "provenance": []
    },
    "interpreter": {
      "hash": "e1e4a0439df46a45447268dc83e1935ee48f473050da09cc09f7b5c4009292f5"
    },
    "kernelspec": {
      "display_name": "Python 3.10.4 64-bit",
      "language": "python",
      "name": "python3"
    },
    "language_info": {
      "codemirror_mode": {
        "name": "ipython",
        "version": 3
      },
      "file_extension": ".py",
      "mimetype": "text/x-python",
      "name": "python",
      "nbconvert_exporter": "python",
      "pygments_lexer": "ipython3",
      "version": "3.8.3"
    },
    "orig_nbformat": 4
  },
  "nbformat": 4,
  "nbformat_minor": 0
}
