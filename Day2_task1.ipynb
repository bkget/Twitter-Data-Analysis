{
  "cells": [
    {
      "cell_type": "markdown",
      "metadata": {
        "id": "i4aV38UxjZ-c"
      },
      "source": [
        "### Package Importing"
      ]
    },
    {
      "cell_type": "code",
      "execution_count": 55,
      "metadata": {
        "id": "8h0Z68GIw5Kn"
      },
      "outputs": [],
      "source": [
        "# Importing all the required packages for this task\n",
        "\n",
        "import pandas as pd\n",
        "import numpy as np\n",
        "import matplotlib.pyplot as plt\n",
        "from sklearn.model_selection import train_test_split \n",
        "from sklearn.preprocessing import StandardScaler\n",
        "from sklearn.pipeline import make_pipeline\n",
        "from sklearn.feature_extraction.text import TfidfVectorizer\n",
        "from sklearn.svm import LinearSVC\n",
        "# from sklearn import metrics\n"
      ]
    },
    {
      "cell_type": "code",
      "execution_count": 56,
      "metadata": {
        "colab": {
          "base_uri": "https://localhost:8080/",
          "height": 133
        },
        "id": "QtnGcIF879L-",
        "outputId": "ade954a5-ef83-4cba-f638-9c7fbc41752f"
      },
      "outputs": [],
      "source": [
        "# # import nltk\n",
        "# # nltk.download('wordnet')\n",
        "# pip install "
      ]
    },
    {
      "cell_type": "code",
      "execution_count": 57,
      "metadata": {
        "colab": {
          "base_uri": "https://localhost:8080/",
          "height": 376
        },
        "id": "qjdOMBuB79L_",
        "outputId": "7a51a094-8aea-41d8-d3a1-d297706fff15"
      },
      "outputs": [],
      "source": [
        "# Natural Language Processing Toolkit\n",
        "from nltk.corpus import stopwords, words # get stopwords from NLTK library & get all words in english language\n",
        "from nltk.tokenize import word_tokenize # to create word tokens\n",
        "# from nltk.stem import PorterStemmer (I played around with Stemmer and decided to use Lemmatizer instead)\n",
        "from nltk.stem import WordNetLemmatizer # to reduce words to orginal form\n",
        "from nltk import pos_tag # For Parts of Speech tagging\n",
        "import string # Inbuilt string library\n",
        "from emot.emo_unicode import UNICODE_EMOJI\n",
        "# WordCloud - Python linrary for creating image wordclouds\n",
        "from wordcloud import WordCloud, STOPWORDS \n",
        "from PIL import Image # for opening, manipulating, and saving many different image file f\n",
        "from textblob import TextBlob # TextBlob - Python library for processing textual data\n",
        "import matplotlib.pyplot as plt\n",
        "import random \n",
        "import pickle\n",
        "import re\n",
        "\n",
        "\n"
      ]
    },
    {
      "cell_type": "code",
      "execution_count": 58,
      "metadata": {
        "id": "mlZEXshlw5Ku"
      },
      "outputs": [],
      "source": [
        "tweets_df = pd.read_csv(\"clean_processed_tweet_data.csv\")"
      ]
    },
    {
      "cell_type": "code",
      "execution_count": 59,
      "metadata": {
        "colab": {
          "base_uri": "https://localhost:8080/",
          "height": 461
        },
        "id": "pt2DbiW1w5Kw",
        "outputId": "8c58f965-883d-423a-ba62-983ad401ba7c"
      },
      "outputs": [
        {
          "data": {
            "text/html": [
              "<div>\n",
              "<style scoped>\n",
              "    .dataframe tbody tr th:only-of-type {\n",
              "        vertical-align: middle;\n",
              "    }\n",
              "\n",
              "    .dataframe tbody tr th {\n",
              "        vertical-align: top;\n",
              "    }\n",
              "\n",
              "    .dataframe thead th {\n",
              "        text-align: right;\n",
              "    }\n",
              "</style>\n",
              "<table border=\"1\" class=\"dataframe\">\n",
              "  <thead>\n",
              "    <tr style=\"text-align: right;\">\n",
              "      <th></th>\n",
              "      <th>Unnamed: 0</th>\n",
              "      <th>created_at</th>\n",
              "      <th>source</th>\n",
              "      <th>original_text</th>\n",
              "      <th>polarity</th>\n",
              "      <th>subjectivity</th>\n",
              "      <th>lang</th>\n",
              "      <th>favorite_count</th>\n",
              "      <th>retweet_count</th>\n",
              "      <th>original_author</th>\n",
              "      <th>followers_count</th>\n",
              "      <th>friends_count</th>\n",
              "      <th>possibly_sensitive</th>\n",
              "      <th>hashtags</th>\n",
              "      <th>user_mentions</th>\n",
              "      <th>place</th>\n",
              "    </tr>\n",
              "  </thead>\n",
              "  <tbody>\n",
              "    <tr>\n",
              "      <th>0</th>\n",
              "      <td>38</td>\n",
              "      <td>2022-04-22 22:17:05+00:00</td>\n",
              "      <td>&lt;a href=\"http://twitter.com/download/android\" ...</td>\n",
              "      <td>10year yield telling us theres high risk somet...</td>\n",
              "      <td>0.16</td>\n",
              "      <td>0.540000</td>\n",
              "      <td>en</td>\n",
              "      <td>188</td>\n",
              "      <td>43</td>\n",
              "      <td>davideiacovozzi</td>\n",
              "      <td>18</td>\n",
              "      <td>55</td>\n",
              "      <td>NaN</td>\n",
              "      <td>gold, silver, crypto</td>\n",
              "      <td>NorthstarCharts</td>\n",
              "      <td>NaN</td>\n",
              "    </tr>\n",
              "    <tr>\n",
              "      <th>1</th>\n",
              "      <td>39</td>\n",
              "      <td>2022-04-22 13:44:53+00:00</td>\n",
              "      <td>&lt;a href=\"http://twitter.com/download/android\" ...</td>\n",
              "      <td>german 10y mortgage rate went 08 250 hear soun...</td>\n",
              "      <td>0.15</td>\n",
              "      <td>0.175000</td>\n",
              "      <td>en</td>\n",
              "      <td>179</td>\n",
              "      <td>32</td>\n",
              "      <td>davideiacovozzi</td>\n",
              "      <td>18</td>\n",
              "      <td>55</td>\n",
              "      <td>NaN</td>\n",
              "      <td>NaN</td>\n",
              "      <td>MichaelAArouet</td>\n",
              "      <td>NaN</td>\n",
              "    </tr>\n",
              "    <tr>\n",
              "      <th>2</th>\n",
              "      <td>42</td>\n",
              "      <td>2022-04-21 17:22:09+00:00</td>\n",
              "      <td>&lt;a href=\"http://twitter.com/download/android\" ...</td>\n",
              "      <td>30year mortgage rate us rises 511 highest leve...</td>\n",
              "      <td>0.00</td>\n",
              "      <td>0.183333</td>\n",
              "      <td>en</td>\n",
              "      <td>620</td>\n",
              "      <td>213</td>\n",
              "      <td>davideiacovozzi</td>\n",
              "      <td>18</td>\n",
              "      <td>55</td>\n",
              "      <td>NaN</td>\n",
              "      <td>NaN</td>\n",
              "      <td>charliebilello</td>\n",
              "      <td>NaN</td>\n",
              "    </tr>\n",
              "    <tr>\n",
              "      <th>3</th>\n",
              "      <td>43</td>\n",
              "      <td>2022-04-21 10:32:26+00:00</td>\n",
              "      <td>&lt;a href=\"http://twitter.com/download/android\" ...</td>\n",
              "      <td>rates rise something breaks anything broken yet</td>\n",
              "      <td>-0.40</td>\n",
              "      <td>0.400000</td>\n",
              "      <td>en</td>\n",
              "      <td>1787</td>\n",
              "      <td>417</td>\n",
              "      <td>davideiacovozzi</td>\n",
              "      <td>18</td>\n",
              "      <td>55</td>\n",
              "      <td>False</td>\n",
              "      <td>NaN</td>\n",
              "      <td>biancoresearch</td>\n",
              "      <td>NaN</td>\n",
              "    </tr>\n",
              "    <tr>\n",
              "      <th>4</th>\n",
              "      <td>44</td>\n",
              "      <td>2022-04-19 10:59:33+00:00</td>\n",
              "      <td>&lt;a href=\"http://twitter.com/download/android\" ...</td>\n",
              "      <td>buying opportunities like occur every years bonds</td>\n",
              "      <td>-0.10</td>\n",
              "      <td>0.550000</td>\n",
              "      <td>en</td>\n",
              "      <td>1156</td>\n",
              "      <td>162</td>\n",
              "      <td>davideiacovozzi</td>\n",
              "      <td>18</td>\n",
              "      <td>55</td>\n",
              "      <td>False</td>\n",
              "      <td>bonds</td>\n",
              "      <td>LanceRoberts</td>\n",
              "      <td>NaN</td>\n",
              "    </tr>\n",
              "  </tbody>\n",
              "</table>\n",
              "</div>"
            ],
            "text/plain": [
              "   Unnamed: 0                 created_at  \\\n",
              "0          38  2022-04-22 22:17:05+00:00   \n",
              "1          39  2022-04-22 13:44:53+00:00   \n",
              "2          42  2022-04-21 17:22:09+00:00   \n",
              "3          43  2022-04-21 10:32:26+00:00   \n",
              "4          44  2022-04-19 10:59:33+00:00   \n",
              "\n",
              "                                              source  \\\n",
              "0  <a href=\"http://twitter.com/download/android\" ...   \n",
              "1  <a href=\"http://twitter.com/download/android\" ...   \n",
              "2  <a href=\"http://twitter.com/download/android\" ...   \n",
              "3  <a href=\"http://twitter.com/download/android\" ...   \n",
              "4  <a href=\"http://twitter.com/download/android\" ...   \n",
              "\n",
              "                                       original_text  polarity  subjectivity  \\\n",
              "0  10year yield telling us theres high risk somet...      0.16      0.540000   \n",
              "1  german 10y mortgage rate went 08 250 hear soun...      0.15      0.175000   \n",
              "2  30year mortgage rate us rises 511 highest leve...      0.00      0.183333   \n",
              "3    rates rise something breaks anything broken yet     -0.40      0.400000   \n",
              "4  buying opportunities like occur every years bonds     -0.10      0.550000   \n",
              "\n",
              "  lang  favorite_count  retweet_count  original_author  followers_count  \\\n",
              "0   en             188             43  davideiacovozzi               18   \n",
              "1   en             179             32  davideiacovozzi               18   \n",
              "2   en             620            213  davideiacovozzi               18   \n",
              "3   en            1787            417  davideiacovozzi               18   \n",
              "4   en            1156            162  davideiacovozzi               18   \n",
              "\n",
              "   friends_count possibly_sensitive              hashtags    user_mentions  \\\n",
              "0             55                NaN  gold, silver, crypto  NorthstarCharts   \n",
              "1             55                NaN                   NaN   MichaelAArouet   \n",
              "2             55                NaN                   NaN   charliebilello   \n",
              "3             55              False                   NaN   biancoresearch   \n",
              "4             55              False                 bonds     LanceRoberts   \n",
              "\n",
              "  place  \n",
              "0   NaN  \n",
              "1   NaN  \n",
              "2   NaN  \n",
              "3   NaN  \n",
              "4   NaN  "
            ]
          },
          "execution_count": 59,
          "metadata": {},
          "output_type": "execute_result"
        }
      ],
      "source": [
        "tweets_df.head()"
      ]
    },
    {
      "cell_type": "markdown",
      "metadata": {
        "id": "esG8PVlAVjOi"
      },
      "source": [
        "#### Data Understanding Management"
      ]
    },
    {
      "cell_type": "code",
      "execution_count": 60,
      "metadata": {
        "colab": {
          "base_uri": "https://localhost:8080/"
        },
        "id": "19a2uNO2FVqv",
        "outputId": "0177926d-962a-43a7-db1d-7311dce992e2"
      },
      "outputs": [
        {
          "name": "stdout",
          "output_type": "stream",
          "text": [
            "<class 'pandas.core.frame.DataFrame'>\n",
            "RangeIndex: 16386 entries, 0 to 16385\n",
            "Data columns (total 16 columns):\n",
            " #   Column              Non-Null Count  Dtype  \n",
            "---  ------              --------------  -----  \n",
            " 0   Unnamed: 0          16386 non-null  int64  \n",
            " 1   created_at          16386 non-null  object \n",
            " 2   source              16386 non-null  object \n",
            " 3   original_text       16386 non-null  object \n",
            " 4   polarity            16386 non-null  float64\n",
            " 5   subjectivity        16386 non-null  float64\n",
            " 6   lang                16386 non-null  object \n",
            " 7   favorite_count      16386 non-null  int64  \n",
            " 8   retweet_count       16386 non-null  int64  \n",
            " 9   original_author     16386 non-null  object \n",
            " 10  followers_count     16386 non-null  int64  \n",
            " 11  friends_count       16386 non-null  int64  \n",
            " 12  possibly_sensitive  6182 non-null   object \n",
            " 13  hashtags            5278 non-null   object \n",
            " 14  user_mentions       12084 non-null  object \n",
            " 15  place               10714 non-null  object \n",
            "dtypes: float64(2), int64(5), object(9)\n",
            "memory usage: 2.0+ MB\n"
          ]
        }
      ],
      "source": [
        "tweets_df.info()"
      ]
    },
    {
      "cell_type": "code",
      "execution_count": 61,
      "metadata": {
        "colab": {
          "base_uri": "https://localhost:8080/"
        },
        "id": "US1KwJoB79L7",
        "outputId": "522cde1d-e6d4-4f97-b411-d097a1e0459e"
      },
      "outputs": [
        {
          "data": {
            "text/plain": [
              "(16386, 16)"
            ]
          },
          "execution_count": 61,
          "metadata": {},
          "output_type": "execute_result"
        }
      ],
      "source": [
        "tweets_df.shape #Get number of rows and columns"
      ]
    },
    {
      "cell_type": "code",
      "execution_count": 62,
      "metadata": {
        "colab": {
          "base_uri": "https://localhost:8080/"
        },
        "id": "TVo0LXJtVzai",
        "outputId": "1a87c34d-552b-426e-c4e5-03b7065038c4"
      },
      "outputs": [
        {
          "name": "stdout",
          "output_type": "stream",
          "text": [
            "The number of missing value(s): 31286\n",
            "Columons having columns value:Index(['possibly_sensitive', 'hashtags', 'user_mentions', 'place'], dtype='object')\n"
          ]
        }
      ],
      "source": [
        "# Check the number of missing values\n",
        "\n",
        "print(\"The number of missing value(s): {}\".format(tweets_df.isnull().sum().sum()))\n",
        "print(\"Columons having columns value:{}\".format(tweets_df.columns[tweets_df.isnull().any()]))"
      ]
    },
    {
      "cell_type": "code",
      "execution_count": 63,
      "metadata": {
        "colab": {
          "base_uri": "https://localhost:8080/"
        },
        "id": "l8rFsT9c79L9",
        "outputId": "20c540b7-f951-4786-80be-97c01e788c7a"
      },
      "outputs": [
        {
          "data": {
            "text/plain": [
              "Unnamed: 0            False\n",
              "created_at            False\n",
              "source                False\n",
              "original_text         False\n",
              "polarity              False\n",
              "subjectivity          False\n",
              "lang                  False\n",
              "favorite_count        False\n",
              "retweet_count         False\n",
              "original_author       False\n",
              "followers_count       False\n",
              "friends_count         False\n",
              "possibly_sensitive     True\n",
              "hashtags               True\n",
              "user_mentions          True\n",
              "place                  True\n",
              "dtype: bool"
            ]
          },
          "execution_count": 63,
          "metadata": {},
          "output_type": "execute_result"
        }
      ],
      "source": [
        "tweets_df.isna().any() # Check for \"NaN\" values"
      ]
    },
    {
      "cell_type": "code",
      "execution_count": 64,
      "metadata": {
        "id": "YX1LWV2K79L9"
      },
      "outputs": [],
      "source": [
        "tweets_df['place']=tweets_df['place'].fillna('No place') # Replace \"NaN\" values with \"No Location\"\n",
        "tweets_df['possibly_sensitive']=tweets_df['possibly_sensitive'].fillna('Neutral') # Replace \"NaN\" values with \"possibly_sensitive\"\n",
        "tweets_df['hashtags']=tweets_df['hashtags'].fillna('No hashtags') # Replace \"NaN\" values with \"hashtags\"\n",
        "tweets_df['user_mentions']=tweets_df['user_mentions'].fillna('No user mention') # Replace \"NaN\" values with \"user_mentions\""
      ]
    },
    {
      "cell_type": "code",
      "execution_count": 65,
      "metadata": {
        "colab": {
          "base_uri": "https://localhost:8080/"
        },
        "id": "7q2jSmob79L-",
        "outputId": "badf7f5c-2026-4016-8ad0-e489c9442226"
      },
      "outputs": [
        {
          "data": {
            "text/plain": [
              "Unnamed: 0            False\n",
              "created_at            False\n",
              "source                False\n",
              "original_text         False\n",
              "polarity              False\n",
              "subjectivity          False\n",
              "lang                  False\n",
              "favorite_count        False\n",
              "retweet_count         False\n",
              "original_author       False\n",
              "followers_count       False\n",
              "friends_count         False\n",
              "possibly_sensitive    False\n",
              "hashtags              False\n",
              "user_mentions         False\n",
              "place                 False\n",
              "dtype: bool"
            ]
          },
          "execution_count": 65,
          "metadata": {},
          "output_type": "execute_result"
        }
      ],
      "source": [
        "tweets_df.isna().any() # Check for \"NaN\" values again"
      ]
    },
    {
      "cell_type": "code",
      "execution_count": 70,
      "metadata": {
        "id": "y75iWBuk79L_"
      },
      "outputs": [],
      "source": [
        "# Function to remove punctuations, links, emojis, and stop words\n",
        "def preprocessTweets(tweet):\n",
        "    \n",
        "    # Remove punctuations\n",
        "    unpunctuated_words = [char for char in tweet_tokens if char not in string.punctuation]\n",
        "    unpunctuated_words = ' '.join(unpunctuated_words)\n",
        "\n",
        "    return \"\".join(unpunctuated_words)  # join words with a space in between them\n",
        "    \n",
        "# function to obtain adjectives from tweets\n",
        "def getAdjectives(tweet):\n",
        "    tweet = word_tokenize(tweet)  # convert string to tokens\n",
        "    tweet = [word for (word, tag) in pos_tag(tweet)\n",
        "             if tag == \"JJ\"]  # pos_tag module in NLTK library\n",
        "    return \" \".join(tweet)  # join words with a space in between them"
      ]
    },
    {
      "cell_type": "code",
      "execution_count": 69,
      "metadata": {
        "id": "eQhifWZa79MD"
      },
      "outputs": [],
      "source": [
        "# Apply getAdjectives function to the new 'Processed Tweets' column to generate a new column called 'Tweets_Adjectives'\n",
        "tweets_df['Tweets_Adjectives'] = tweets_df['original_text'].apply(getAdjectives)"
      ]
    },
    {
      "cell_type": "code",
      "execution_count": 71,
      "metadata": {
        "colab": {
          "base_uri": "https://localhost:8080/",
          "height": 461
        },
        "id": "RS6qTn4w79MD",
        "outputId": "c4837561-aa54-4cc0-9459-e1608eff13a4"
      },
      "outputs": [
        {
          "data": {
            "text/html": [
              "<div>\n",
              "<style scoped>\n",
              "    .dataframe tbody tr th:only-of-type {\n",
              "        vertical-align: middle;\n",
              "    }\n",
              "\n",
              "    .dataframe tbody tr th {\n",
              "        vertical-align: top;\n",
              "    }\n",
              "\n",
              "    .dataframe thead th {\n",
              "        text-align: right;\n",
              "    }\n",
              "</style>\n",
              "<table border=\"1\" class=\"dataframe\">\n",
              "  <thead>\n",
              "    <tr style=\"text-align: right;\">\n",
              "      <th></th>\n",
              "      <th>Unnamed: 0</th>\n",
              "      <th>created_at</th>\n",
              "      <th>source</th>\n",
              "      <th>original_text</th>\n",
              "      <th>polarity</th>\n",
              "      <th>subjectivity</th>\n",
              "      <th>lang</th>\n",
              "      <th>favorite_count</th>\n",
              "      <th>retweet_count</th>\n",
              "      <th>original_author</th>\n",
              "      <th>followers_count</th>\n",
              "      <th>friends_count</th>\n",
              "      <th>possibly_sensitive</th>\n",
              "      <th>hashtags</th>\n",
              "      <th>user_mentions</th>\n",
              "      <th>place</th>\n",
              "      <th>Tweets_Adjectives</th>\n",
              "    </tr>\n",
              "  </thead>\n",
              "  <tbody>\n",
              "    <tr>\n",
              "      <th>0</th>\n",
              "      <td>38</td>\n",
              "      <td>2022-04-22 22:17:05+00:00</td>\n",
              "      <td>&lt;a href=\"http://twitter.com/download/android\" ...</td>\n",
              "      <td>10year yield telling us theres high risk somet...</td>\n",
              "      <td>0.16</td>\n",
              "      <td>0.540000</td>\n",
              "      <td>en</td>\n",
              "      <td>188</td>\n",
              "      <td>43</td>\n",
              "      <td>davideiacovozzi</td>\n",
              "      <td>18</td>\n",
              "      <td>55</td>\n",
              "      <td>Neutral</td>\n",
              "      <td>gold, silver, crypto</td>\n",
              "      <td>NorthstarCharts</td>\n",
              "      <td>No place</td>\n",
              "      <td>high</td>\n",
              "    </tr>\n",
              "    <tr>\n",
              "      <th>1</th>\n",
              "      <td>39</td>\n",
              "      <td>2022-04-22 13:44:53+00:00</td>\n",
              "      <td>&lt;a href=\"http://twitter.com/download/android\" ...</td>\n",
              "      <td>german 10y mortgage rate went 08 250 hear soun...</td>\n",
              "      <td>0.15</td>\n",
              "      <td>0.175000</td>\n",
              "      <td>en</td>\n",
              "      <td>179</td>\n",
              "      <td>32</td>\n",
              "      <td>davideiacovozzi</td>\n",
              "      <td>18</td>\n",
              "      <td>55</td>\n",
              "      <td>Neutral</td>\n",
              "      <td>No hashtags</td>\n",
              "      <td>MichaelAArouet</td>\n",
              "      <td>No place</td>\n",
              "      <td>german sound german real bubble</td>\n",
              "    </tr>\n",
              "    <tr>\n",
              "      <th>2</th>\n",
              "      <td>42</td>\n",
              "      <td>2022-04-21 17:22:09+00:00</td>\n",
              "      <td>&lt;a href=\"http://twitter.com/download/android\" ...</td>\n",
              "      <td>30year mortgage rate us rises 511 highest leve...</td>\n",
              "      <td>0.00</td>\n",
              "      <td>0.183333</td>\n",
              "      <td>en</td>\n",
              "      <td>620</td>\n",
              "      <td>213</td>\n",
              "      <td>davideiacovozzi</td>\n",
              "      <td>18</td>\n",
              "      <td>55</td>\n",
              "      <td>Neutral</td>\n",
              "      <td>No hashtags</td>\n",
              "      <td>charliebilello</td>\n",
              "      <td>No place</td>\n",
              "      <td>last low</td>\n",
              "    </tr>\n",
              "    <tr>\n",
              "      <th>3</th>\n",
              "      <td>43</td>\n",
              "      <td>2022-04-21 10:32:26+00:00</td>\n",
              "      <td>&lt;a href=\"http://twitter.com/download/android\" ...</td>\n",
              "      <td>rates rise something breaks anything broken yet</td>\n",
              "      <td>-0.40</td>\n",
              "      <td>0.400000</td>\n",
              "      <td>en</td>\n",
              "      <td>1787</td>\n",
              "      <td>417</td>\n",
              "      <td>davideiacovozzi</td>\n",
              "      <td>18</td>\n",
              "      <td>55</td>\n",
              "      <td>False</td>\n",
              "      <td>No hashtags</td>\n",
              "      <td>biancoresearch</td>\n",
              "      <td>No place</td>\n",
              "      <td>broken</td>\n",
              "    </tr>\n",
              "    <tr>\n",
              "      <th>4</th>\n",
              "      <td>44</td>\n",
              "      <td>2022-04-19 10:59:33+00:00</td>\n",
              "      <td>&lt;a href=\"http://twitter.com/download/android\" ...</td>\n",
              "      <td>buying opportunities like occur every years bonds</td>\n",
              "      <td>-0.10</td>\n",
              "      <td>0.550000</td>\n",
              "      <td>en</td>\n",
              "      <td>1156</td>\n",
              "      <td>162</td>\n",
              "      <td>davideiacovozzi</td>\n",
              "      <td>18</td>\n",
              "      <td>55</td>\n",
              "      <td>False</td>\n",
              "      <td>bonds</td>\n",
              "      <td>LanceRoberts</td>\n",
              "      <td>No place</td>\n",
              "      <td>occur</td>\n",
              "    </tr>\n",
              "  </tbody>\n",
              "</table>\n",
              "</div>"
            ],
            "text/plain": [
              "   Unnamed: 0                 created_at  \\\n",
              "0          38  2022-04-22 22:17:05+00:00   \n",
              "1          39  2022-04-22 13:44:53+00:00   \n",
              "2          42  2022-04-21 17:22:09+00:00   \n",
              "3          43  2022-04-21 10:32:26+00:00   \n",
              "4          44  2022-04-19 10:59:33+00:00   \n",
              "\n",
              "                                              source  \\\n",
              "0  <a href=\"http://twitter.com/download/android\" ...   \n",
              "1  <a href=\"http://twitter.com/download/android\" ...   \n",
              "2  <a href=\"http://twitter.com/download/android\" ...   \n",
              "3  <a href=\"http://twitter.com/download/android\" ...   \n",
              "4  <a href=\"http://twitter.com/download/android\" ...   \n",
              "\n",
              "                                       original_text  polarity  subjectivity  \\\n",
              "0  10year yield telling us theres high risk somet...      0.16      0.540000   \n",
              "1  german 10y mortgage rate went 08 250 hear soun...      0.15      0.175000   \n",
              "2  30year mortgage rate us rises 511 highest leve...      0.00      0.183333   \n",
              "3    rates rise something breaks anything broken yet     -0.40      0.400000   \n",
              "4  buying opportunities like occur every years bonds     -0.10      0.550000   \n",
              "\n",
              "  lang  favorite_count  retweet_count  original_author  followers_count  \\\n",
              "0   en             188             43  davideiacovozzi               18   \n",
              "1   en             179             32  davideiacovozzi               18   \n",
              "2   en             620            213  davideiacovozzi               18   \n",
              "3   en            1787            417  davideiacovozzi               18   \n",
              "4   en            1156            162  davideiacovozzi               18   \n",
              "\n",
              "   friends_count possibly_sensitive              hashtags    user_mentions  \\\n",
              "0             55            Neutral  gold, silver, crypto  NorthstarCharts   \n",
              "1             55            Neutral           No hashtags   MichaelAArouet   \n",
              "2             55            Neutral           No hashtags   charliebilello   \n",
              "3             55              False           No hashtags   biancoresearch   \n",
              "4             55              False                 bonds     LanceRoberts   \n",
              "\n",
              "      place                Tweets_Adjectives  \n",
              "0  No place                             high  \n",
              "1  No place  german sound german real bubble  \n",
              "2  No place                         last low  \n",
              "3  No place                           broken  \n",
              "4  No place                            occur  "
            ]
          },
          "execution_count": 71,
          "metadata": {},
          "output_type": "execute_result"
        }
      ],
      "source": [
        "tweets_df.head() # Check dataframe first 5 rows"
      ]
    },
    {
      "cell_type": "code",
      "execution_count": 72,
      "metadata": {
        "id": "Ul44YDZZ79ME"
      },
      "outputs": [],
      "source": [
        "# function to return words to their base form using Lemmatizer\n",
        "def preprocessTweetsSentiments(tweet):\n",
        "    tweet_tokens = word_tokenize(tweet)\n",
        "    lemmatizer = WordNetLemmatizer() # instatiate an object WordNetLemmatizer Class\n",
        "    lemma_words = [lemmatizer.lemmatize(w) for w in tweet_tokens]\n",
        "    return \" \".join(lemma_words)"
      ]
    },
    {
      "cell_type": "code",
      "execution_count": 74,
      "metadata": {
        "id": "U0zwFDa679ME"
      },
      "outputs": [],
      "source": [
        "\n",
        "# Apply preprocessTweetsSentiments function to the 'Processed Tweets' column to generate a new column\n",
        "# called 'Processed_Tweets'\n",
        "tweets_df['Tweets_Sentiments'] = tweets_df['original_text'].apply(preprocessTweetsSentiments)"
      ]
    },
    {
      "cell_type": "code",
      "execution_count": 77,
      "metadata": {},
      "outputs": [],
      "source": [
        "# Apply getAdjectives function to the new 'Processed Tweets' column to generate a new column called 'Tweets_Adjectives'\n",
        "tweets_df['Tweets_Adjectives'] = tweets_df['original_text'].apply(getAdjectives)"
      ]
    },
    {
      "cell_type": "code",
      "execution_count": 78,
      "metadata": {
        "colab": {
          "base_uri": "https://localhost:8080/",
          "height": 461
        },
        "id": "YhvaD8IJ79MF",
        "outputId": "1e83ebd4-224a-42da-839f-545667abf69c"
      },
      "outputs": [
        {
          "data": {
            "text/html": [
              "<div>\n",
              "<style scoped>\n",
              "    .dataframe tbody tr th:only-of-type {\n",
              "        vertical-align: middle;\n",
              "    }\n",
              "\n",
              "    .dataframe tbody tr th {\n",
              "        vertical-align: top;\n",
              "    }\n",
              "\n",
              "    .dataframe thead th {\n",
              "        text-align: right;\n",
              "    }\n",
              "</style>\n",
              "<table border=\"1\" class=\"dataframe\">\n",
              "  <thead>\n",
              "    <tr style=\"text-align: right;\">\n",
              "      <th></th>\n",
              "      <th>Unnamed: 0</th>\n",
              "      <th>created_at</th>\n",
              "      <th>source</th>\n",
              "      <th>original_text</th>\n",
              "      <th>polarity</th>\n",
              "      <th>subjectivity</th>\n",
              "      <th>lang</th>\n",
              "      <th>favorite_count</th>\n",
              "      <th>retweet_count</th>\n",
              "      <th>original_author</th>\n",
              "      <th>followers_count</th>\n",
              "      <th>friends_count</th>\n",
              "      <th>possibly_sensitive</th>\n",
              "      <th>hashtags</th>\n",
              "      <th>user_mentions</th>\n",
              "      <th>place</th>\n",
              "      <th>Tweets_Adjectives</th>\n",
              "      <th>Tweets_Sentiments</th>\n",
              "    </tr>\n",
              "  </thead>\n",
              "  <tbody>\n",
              "    <tr>\n",
              "      <th>0</th>\n",
              "      <td>38</td>\n",
              "      <td>2022-04-22 22:17:05+00:00</td>\n",
              "      <td>&lt;a href=\"http://twitter.com/download/android\" ...</td>\n",
              "      <td>10year yield telling us theres high risk somet...</td>\n",
              "      <td>0.16</td>\n",
              "      <td>0.540000</td>\n",
              "      <td>en</td>\n",
              "      <td>188</td>\n",
              "      <td>43</td>\n",
              "      <td>davideiacovozzi</td>\n",
              "      <td>18</td>\n",
              "      <td>55</td>\n",
              "      <td>Neutral</td>\n",
              "      <td>gold, silver, crypto</td>\n",
              "      <td>NorthstarCharts</td>\n",
              "      <td>No place</td>\n",
              "      <td>high</td>\n",
              "      <td>10year yield telling u there high risk somethi...</td>\n",
              "    </tr>\n",
              "    <tr>\n",
              "      <th>1</th>\n",
              "      <td>39</td>\n",
              "      <td>2022-04-22 13:44:53+00:00</td>\n",
              "      <td>&lt;a href=\"http://twitter.com/download/android\" ...</td>\n",
              "      <td>german 10y mortgage rate went 08 250 hear soun...</td>\n",
              "      <td>0.15</td>\n",
              "      <td>0.175000</td>\n",
              "      <td>en</td>\n",
              "      <td>179</td>\n",
              "      <td>32</td>\n",
              "      <td>davideiacovozzi</td>\n",
              "      <td>18</td>\n",
              "      <td>55</td>\n",
              "      <td>Neutral</td>\n",
              "      <td>No hashtags</td>\n",
              "      <td>MichaelAArouet</td>\n",
              "      <td>No place</td>\n",
              "      <td>german sound german real bubble</td>\n",
              "      <td>german 10y mortgage rate went 08 250 hear soun...</td>\n",
              "    </tr>\n",
              "    <tr>\n",
              "      <th>2</th>\n",
              "      <td>42</td>\n",
              "      <td>2022-04-21 17:22:09+00:00</td>\n",
              "      <td>&lt;a href=\"http://twitter.com/download/android\" ...</td>\n",
              "      <td>30year mortgage rate us rises 511 highest leve...</td>\n",
              "      <td>0.00</td>\n",
              "      <td>0.183333</td>\n",
              "      <td>en</td>\n",
              "      <td>620</td>\n",
              "      <td>213</td>\n",
              "      <td>davideiacovozzi</td>\n",
              "      <td>18</td>\n",
              "      <td>55</td>\n",
              "      <td>Neutral</td>\n",
              "      <td>No hashtags</td>\n",
              "      <td>charliebilello</td>\n",
              "      <td>No place</td>\n",
              "      <td>last low</td>\n",
              "      <td>30year mortgage rate u rise 511 highest level ...</td>\n",
              "    </tr>\n",
              "    <tr>\n",
              "      <th>3</th>\n",
              "      <td>43</td>\n",
              "      <td>2022-04-21 10:32:26+00:00</td>\n",
              "      <td>&lt;a href=\"http://twitter.com/download/android\" ...</td>\n",
              "      <td>rates rise something breaks anything broken yet</td>\n",
              "      <td>-0.40</td>\n",
              "      <td>0.400000</td>\n",
              "      <td>en</td>\n",
              "      <td>1787</td>\n",
              "      <td>417</td>\n",
              "      <td>davideiacovozzi</td>\n",
              "      <td>18</td>\n",
              "      <td>55</td>\n",
              "      <td>False</td>\n",
              "      <td>No hashtags</td>\n",
              "      <td>biancoresearch</td>\n",
              "      <td>No place</td>\n",
              "      <td>broken</td>\n",
              "      <td>rate rise something break anything broken yet</td>\n",
              "    </tr>\n",
              "    <tr>\n",
              "      <th>4</th>\n",
              "      <td>44</td>\n",
              "      <td>2022-04-19 10:59:33+00:00</td>\n",
              "      <td>&lt;a href=\"http://twitter.com/download/android\" ...</td>\n",
              "      <td>buying opportunities like occur every years bonds</td>\n",
              "      <td>-0.10</td>\n",
              "      <td>0.550000</td>\n",
              "      <td>en</td>\n",
              "      <td>1156</td>\n",
              "      <td>162</td>\n",
              "      <td>davideiacovozzi</td>\n",
              "      <td>18</td>\n",
              "      <td>55</td>\n",
              "      <td>False</td>\n",
              "      <td>bonds</td>\n",
              "      <td>LanceRoberts</td>\n",
              "      <td>No place</td>\n",
              "      <td>occur</td>\n",
              "      <td>buying opportunity like occur every year bond</td>\n",
              "    </tr>\n",
              "  </tbody>\n",
              "</table>\n",
              "</div>"
            ],
            "text/plain": [
              "   Unnamed: 0                 created_at  \\\n",
              "0          38  2022-04-22 22:17:05+00:00   \n",
              "1          39  2022-04-22 13:44:53+00:00   \n",
              "2          42  2022-04-21 17:22:09+00:00   \n",
              "3          43  2022-04-21 10:32:26+00:00   \n",
              "4          44  2022-04-19 10:59:33+00:00   \n",
              "\n",
              "                                              source  \\\n",
              "0  <a href=\"http://twitter.com/download/android\" ...   \n",
              "1  <a href=\"http://twitter.com/download/android\" ...   \n",
              "2  <a href=\"http://twitter.com/download/android\" ...   \n",
              "3  <a href=\"http://twitter.com/download/android\" ...   \n",
              "4  <a href=\"http://twitter.com/download/android\" ...   \n",
              "\n",
              "                                       original_text  polarity  subjectivity  \\\n",
              "0  10year yield telling us theres high risk somet...      0.16      0.540000   \n",
              "1  german 10y mortgage rate went 08 250 hear soun...      0.15      0.175000   \n",
              "2  30year mortgage rate us rises 511 highest leve...      0.00      0.183333   \n",
              "3    rates rise something breaks anything broken yet     -0.40      0.400000   \n",
              "4  buying opportunities like occur every years bonds     -0.10      0.550000   \n",
              "\n",
              "  lang  favorite_count  retweet_count  original_author  followers_count  \\\n",
              "0   en             188             43  davideiacovozzi               18   \n",
              "1   en             179             32  davideiacovozzi               18   \n",
              "2   en             620            213  davideiacovozzi               18   \n",
              "3   en            1787            417  davideiacovozzi               18   \n",
              "4   en            1156            162  davideiacovozzi               18   \n",
              "\n",
              "   friends_count possibly_sensitive              hashtags    user_mentions  \\\n",
              "0             55            Neutral  gold, silver, crypto  NorthstarCharts   \n",
              "1             55            Neutral           No hashtags   MichaelAArouet   \n",
              "2             55            Neutral           No hashtags   charliebilello   \n",
              "3             55              False           No hashtags   biancoresearch   \n",
              "4             55              False                 bonds     LanceRoberts   \n",
              "\n",
              "      place                Tweets_Adjectives  \\\n",
              "0  No place                             high   \n",
              "1  No place  german sound german real bubble   \n",
              "2  No place                         last low   \n",
              "3  No place                           broken   \n",
              "4  No place                            occur   \n",
              "\n",
              "                                   Tweets_Sentiments  \n",
              "0  10year yield telling u there high risk somethi...  \n",
              "1  german 10y mortgage rate went 08 250 hear soun...  \n",
              "2  30year mortgage rate u rise 511 highest level ...  \n",
              "3      rate rise something break anything broken yet  \n",
              "4      buying opportunity like occur every year bond  "
            ]
          },
          "execution_count": 78,
          "metadata": {},
          "output_type": "execute_result"
        }
      ],
      "source": [
        "tweets_df.head()"
      ]
    },
    {
      "cell_type": "code",
      "execution_count": 79,
      "metadata": {
        "id": "lGfEbFie79MG"
      },
      "outputs": [],
      "source": [
        "# Extract all tweets into one long string with each word separate with a \"space\"\n",
        "tweets_long_string = tweets_df['Tweets_Adjectives'].tolist()\n",
        "tweets_long_string = \" \".join(tweets_long_string)"
      ]
    },
    {
      "cell_type": "code",
      "execution_count": 80,
      "metadata": {
        "id": "1VhFL93c79MI"
      },
      "outputs": [],
      "source": [
        "# Create function to generate the blue colour for the Word CLoud\n",
        "\n",
        "def blue_color_func(word, font_size, position, orientation, random_state=None,**kwargs):\n",
        "    return \"hsl(210, 100%%, %d%%)\" % random.randint(50, 70)"
      ]
    },
    {
      "cell_type": "code",
      "execution_count": 82,
      "metadata": {
        "id": "r2-tk4Ni79MI"
      },
      "outputs": [
        {
          "data": {
            "image/png": "[encoded data removed]",
            "text/plain": [
              "<Figure size 1008x1296 with 1 Axes>"
            ]
          },
          "metadata": {
            "needs_background": "light"
          },
          "output_type": "display_data"
        }
      ],
      "source": [
        "# Import Twitter Logo\n",
        "image = np.array(Image.open('twitter.png'))\n",
        "    \n",
        "fig = plt.figure() # Instantiate the figure object\n",
        "fig.set_figwidth(14) # set width\n",
        "fig.set_figheight(18) # set height\n",
        "\n",
        "plt.imshow(image, cmap=plt.cm.gray, interpolation='bilinear') # Display data as an image\n",
        "plt.axis('off') # Remove axis\n",
        "plt.show() # Display image"
      ]
    },
    {
      "cell_type": "code",
      "execution_count": 83,
      "metadata": {
        "colab": {
          "base_uri": "https://localhost:8080/",
          "height": 806
        },
        "id": "i9gP1KVW79MJ",
        "outputId": "82bd2c42-616c-4723-f67c-c6cb79075a37"
      },
      "outputs": [
        {
          "data": {
            "image/png": "[encoded data removed]",
            "text/plain": [
              "<Figure size 1008x1296 with 1 Axes>"
            ]
          },
          "metadata": {
            "needs_background": "light"
          },
          "output_type": "display_data"
        }
      ],
      "source": [
        "# Instantiate the Twitter word cloud object\n",
        "twitter_wc = WordCloud(background_color='white', max_words=1500, mask=image)\n",
        "\n",
        "# generate the word cloud\n",
        "twitter_wc.generate(tweets_long_string)\n",
        "\n",
        "# display the word cloud\n",
        "fig = plt.figure()\n",
        "fig.set_figwidth(14)  # set width\n",
        "fig.set_figheight(18)  # set height\n",
        "\n",
        "plt.imshow(twitter_wc.recolor(color_func=blue_color_func, random_state=3),\n",
        "           interpolation=\"bilinear\")\n",
        "plt.axis('off')\n",
        "plt.show()"
      ]
    },
    {
      "cell_type": "code",
      "execution_count": null,
      "metadata": {
        "id": "6LekbGsd79MW"
      },
      "outputs": [],
      "source": []
    },
    {
      "cell_type": "markdown",
      "metadata": {
        "id": "NyoB9Sww79Nb"
      },
      "source": [
        "### Sentiment Analysis"
      ]
    },
    {
      "cell_type": "code",
      "execution_count": 84,
      "metadata": {
        "id": "EwqIykEt79Nb"
      },
      "outputs": [],
      "source": [
        "# Create function to obtain Subjectivity Score\n",
        "def getSubjectivity(tweet):\n",
        "    return TextBlob(tweet).sentiment.subjectivity\n",
        "\n",
        "# Create function to obtain Polarity Score\n",
        "def getPolarity(tweet):\n",
        "    return TextBlob(tweet).sentiment.polarity\n",
        "\n",
        "# Create function to obtain Sentiment category\n",
        "def getSentimentTextBlob(polarity):\n",
        "    if polarity < 0:\n",
        "        return \"Negative\"\n",
        "    elif polarity == 0:\n",
        "        return \"Neutral\"\n",
        "    else:\n",
        "        return \"Positive\""
      ]
    },
    {
      "cell_type": "code",
      "execution_count": 85,
      "metadata": {
        "id": "91FuZcBv79Nc"
      },
      "outputs": [],
      "source": [
        "# Apply all functions above to respective columns\n",
        "tweets_df['Subjectivity']=tweets_df['Tweets_Sentiments'].apply(getSubjectivity)\n",
        "tweets_df['Polarity']=tweets_df['Tweets_Sentiments'].apply(getPolarity)\n",
        "tweets_df['Sentiment']=tweets_df['Polarity'].apply(getSentimentTextBlob)"
      ]
    },
    {
      "cell_type": "code",
      "execution_count": 86,
      "metadata": {
        "id": "yCU5bDzp79Nc"
      },
      "outputs": [
        {
          "data": {
            "text/plain": [
              "Neutral     7847\n",
              "Positive    5975\n",
              "Negative    2564\n",
              "Name: Sentiment, dtype: int64"
            ]
          },
          "execution_count": 86,
          "metadata": {},
          "output_type": "execute_result"
        }
      ],
      "source": [
        "# See quick results of the Sentiment Analysis\n",
        "tweets_df['Sentiment'].value_counts()"
      ]
    },
    {
      "cell_type": "code",
      "execution_count": 87,
      "metadata": {
        "id": "jtjOab1F79Nd"
      },
      "outputs": [],
      "source": [
        "# Create dataframe for Count of Sentiment Categories\n",
        "bar_chart = tweets_df['Sentiment'].value_counts().rename_axis('Sentiment').to_frame('Total Tweets').reset_index()"
      ]
    },
    {
      "cell_type": "code",
      "execution_count": 88,
      "metadata": {
        "id": "acoT4CRC79Nd"
      },
      "outputs": [
        {
          "data": {
            "text/html": [
              "<div>\n",
              "<style scoped>\n",
              "    .dataframe tbody tr th:only-of-type {\n",
              "        vertical-align: middle;\n",
              "    }\n",
              "\n",
              "    .dataframe tbody tr th {\n",
              "        vertical-align: top;\n",
              "    }\n",
              "\n",
              "    .dataframe thead th {\n",
              "        text-align: right;\n",
              "    }\n",
              "</style>\n",
              "<table border=\"1\" class=\"dataframe\">\n",
              "  <thead>\n",
              "    <tr style=\"text-align: right;\">\n",
              "      <th></th>\n",
              "      <th>Sentiment</th>\n",
              "      <th>Total Tweets</th>\n",
              "    </tr>\n",
              "  </thead>\n",
              "  <tbody>\n",
              "    <tr>\n",
              "      <th>0</th>\n",
              "      <td>Neutral</td>\n",
              "      <td>7847</td>\n",
              "    </tr>\n",
              "    <tr>\n",
              "      <th>1</th>\n",
              "      <td>Positive</td>\n",
              "      <td>5975</td>\n",
              "    </tr>\n",
              "    <tr>\n",
              "      <th>2</th>\n",
              "      <td>Negative</td>\n",
              "      <td>2564</td>\n",
              "    </tr>\n",
              "  </tbody>\n",
              "</table>\n",
              "</div>"
            ],
            "text/plain": [
              "  Sentiment  Total Tweets\n",
              "0   Neutral          7847\n",
              "1  Positive          5975\n",
              "2  Negative          2564"
            ]
          },
          "execution_count": 88,
          "metadata": {},
          "output_type": "execute_result"
        }
      ],
      "source": [
        "bar_chart # Display dataframe"
      ]
    },
    {
      "cell_type": "code",
      "execution_count": 89,
      "metadata": {
        "id": "EB8QkKVXBPmQ"
      },
      "outputs": [
        {
          "data": {
            "image/png": "[encoded data removed]",
            "text/plain": [
              "<Figure size 432x288 with 1 Axes>"
            ]
          },
          "metadata": {
            "needs_background": "light"
          },
          "output_type": "display_data"
        }
      ],
      "source": [
        "x = bar_chart['Sentiment']\n",
        "y = bar_chart['Total Tweets']\n",
        "c = [\"green\", \"yellow\", \"red\"]\n",
        "plt.bar(x, y, width=0.5, color=c)\n",
        "plt.xlabel(\"Sentiment\")\n",
        "plt.ylabel(\"Total Tweets\")\n",
        "plt.title(\"Distribution of Sentiments\")\n",
        "plt.show()\n"
      ]
    },
    {
      "cell_type": "markdown",
      "metadata": {
        "id": "k6uWRX6Wb4ha"
      },
      "source": [
        "#### Score"
      ]
    },
    {
      "cell_type": "code",
      "execution_count": 90,
      "metadata": {
        "id": "slAcJel3NXRl"
      },
      "outputs": [],
      "source": [
        "clean_tweet = tweets_df[['Tweets_Sentiments','polarity']]"
      ]
    },
    {
      "cell_type": "code",
      "execution_count": 91,
      "metadata": {
        "id": "27bZx_BhNa4b"
      },
      "outputs": [
        {
          "data": {
            "text/html": [
              "<div>\n",
              "<style scoped>\n",
              "    .dataframe tbody tr th:only-of-type {\n",
              "        vertical-align: middle;\n",
              "    }\n",
              "\n",
              "    .dataframe tbody tr th {\n",
              "        vertical-align: top;\n",
              "    }\n",
              "\n",
              "    .dataframe thead th {\n",
              "        text-align: right;\n",
              "    }\n",
              "</style>\n",
              "<table border=\"1\" class=\"dataframe\">\n",
              "  <thead>\n",
              "    <tr style=\"text-align: right;\">\n",
              "      <th></th>\n",
              "      <th>Tweets_Sentiments</th>\n",
              "      <th>polarity</th>\n",
              "    </tr>\n",
              "  </thead>\n",
              "  <tbody>\n",
              "    <tr>\n",
              "      <th>0</th>\n",
              "      <td>10year yield telling u there high risk somethi...</td>\n",
              "      <td>0.16</td>\n",
              "    </tr>\n",
              "    <tr>\n",
              "      <th>1</th>\n",
              "      <td>german 10y mortgage rate went 08 250 hear soun...</td>\n",
              "      <td>0.15</td>\n",
              "    </tr>\n",
              "    <tr>\n",
              "      <th>2</th>\n",
              "      <td>30year mortgage rate u rise 511 highest level ...</td>\n",
              "      <td>0.00</td>\n",
              "    </tr>\n",
              "    <tr>\n",
              "      <th>3</th>\n",
              "      <td>rate rise something break anything broken yet</td>\n",
              "      <td>-0.40</td>\n",
              "    </tr>\n",
              "    <tr>\n",
              "      <th>4</th>\n",
              "      <td>buying opportunity like occur every year bond</td>\n",
              "      <td>-0.10</td>\n",
              "    </tr>\n",
              "  </tbody>\n",
              "</table>\n",
              "</div>"
            ],
            "text/plain": [
              "                                   Tweets_Sentiments  polarity\n",
              "0  10year yield telling u there high risk somethi...      0.16\n",
              "1  german 10y mortgage rate went 08 250 hear soun...      0.15\n",
              "2  30year mortgage rate u rise 511 highest level ...      0.00\n",
              "3      rate rise something break anything broken yet     -0.40\n",
              "4      buying opportunity like occur every year bond     -0.10"
            ]
          },
          "execution_count": 91,
          "metadata": {},
          "output_type": "execute_result"
        }
      ],
      "source": [
        "clean_tweet.head(5)"
      ]
    },
    {
      "cell_type": "code",
      "execution_count": 92,
      "metadata": {
        "id": "fLZUaqZxw5K1"
      },
      "outputs": [],
      "source": [
        "score = pd.Series([getSentimentTextBlob(row_value) for row_value in clean_tweet['polarity']])"
      ]
    },
    {
      "cell_type": "code",
      "execution_count": 93,
      "metadata": {
        "id": "Y4Mw_MgUw5K3"
      },
      "outputs": [],
      "source": [
        "clean_tweet = pd.concat([clean_tweet, score.rename(\"score\")], axis=1)"
      ]
    },
    {
      "cell_type": "code",
      "execution_count": 94,
      "metadata": {
        "id": "4fZxfdWbw5K4"
      },
      "outputs": [
        {
          "data": {
            "text/html": [
              "<div>\n",
              "<style scoped>\n",
              "    .dataframe tbody tr th:only-of-type {\n",
              "        vertical-align: middle;\n",
              "    }\n",
              "\n",
              "    .dataframe tbody tr th {\n",
              "        vertical-align: top;\n",
              "    }\n",
              "\n",
              "    .dataframe thead th {\n",
              "        text-align: right;\n",
              "    }\n",
              "</style>\n",
              "<table border=\"1\" class=\"dataframe\">\n",
              "  <thead>\n",
              "    <tr style=\"text-align: right;\">\n",
              "      <th></th>\n",
              "      <th>Tweets_Sentiments</th>\n",
              "      <th>polarity</th>\n",
              "      <th>score</th>\n",
              "    </tr>\n",
              "  </thead>\n",
              "  <tbody>\n",
              "    <tr>\n",
              "      <th>0</th>\n",
              "      <td>10year yield telling u there high risk somethi...</td>\n",
              "      <td>0.160000</td>\n",
              "      <td>Positive</td>\n",
              "    </tr>\n",
              "    <tr>\n",
              "      <th>1</th>\n",
              "      <td>german 10y mortgage rate went 08 250 hear soun...</td>\n",
              "      <td>0.150000</td>\n",
              "      <td>Positive</td>\n",
              "    </tr>\n",
              "    <tr>\n",
              "      <th>2</th>\n",
              "      <td>30year mortgage rate u rise 511 highest level ...</td>\n",
              "      <td>0.000000</td>\n",
              "      <td>Neutral</td>\n",
              "    </tr>\n",
              "    <tr>\n",
              "      <th>3</th>\n",
              "      <td>rate rise something break anything broken yet</td>\n",
              "      <td>-0.400000</td>\n",
              "      <td>Negative</td>\n",
              "    </tr>\n",
              "    <tr>\n",
              "      <th>4</th>\n",
              "      <td>buying opportunity like occur every year bond</td>\n",
              "      <td>-0.100000</td>\n",
              "      <td>Negative</td>\n",
              "    </tr>\n",
              "    <tr>\n",
              "      <th>5</th>\n",
              "      <td>welcome september 2018 bond market testing ris...</td>\n",
              "      <td>0.400000</td>\n",
              "      <td>Positive</td>\n",
              "    </tr>\n",
              "    <tr>\n",
              "      <th>6</th>\n",
              "      <td>horse think thing saddle another</td>\n",
              "      <td>0.000000</td>\n",
              "      <td>Neutral</td>\n",
              "    </tr>\n",
              "    <tr>\n",
              "      <th>7</th>\n",
              "      <td>global growth optimism time low raise rate 8 9...</td>\n",
              "      <td>0.488281</td>\n",
              "      <td>Positive</td>\n",
              "    </tr>\n",
              "    <tr>\n",
              "      <th>8</th>\n",
              "      <td>important chart world demand outlook demand so...</td>\n",
              "      <td>0.450000</td>\n",
              "      <td>Positive</td>\n",
              "    </tr>\n",
              "    <tr>\n",
              "      <th>9</th>\n",
              "      <td>annual mortgage payment u 35 higher peak 2006 ...</td>\n",
              "      <td>0.250000</td>\n",
              "      <td>Positive</td>\n",
              "    </tr>\n",
              "  </tbody>\n",
              "</table>\n",
              "</div>"
            ],
            "text/plain": [
              "                                   Tweets_Sentiments  polarity     score\n",
              "0  10year yield telling u there high risk somethi...  0.160000  Positive\n",
              "1  german 10y mortgage rate went 08 250 hear soun...  0.150000  Positive\n",
              "2  30year mortgage rate u rise 511 highest level ...  0.000000   Neutral\n",
              "3      rate rise something break anything broken yet -0.400000  Negative\n",
              "4      buying opportunity like occur every year bond -0.100000  Negative\n",
              "5  welcome september 2018 bond market testing ris...  0.400000  Positive\n",
              "6                   horse think thing saddle another  0.000000   Neutral\n",
              "7  global growth optimism time low raise rate 8 9...  0.488281  Positive\n",
              "8  important chart world demand outlook demand so...  0.450000  Positive\n",
              "9  annual mortgage payment u 35 higher peak 2006 ...  0.250000  Positive"
            ]
          },
          "execution_count": 94,
          "metadata": {},
          "output_type": "execute_result"
        }
      ],
      "source": [
        "clean_tweet.head(n=10)"
      ]
    },
    {
      "cell_type": "code",
      "execution_count": 95,
      "metadata": {
        "id": "SgX3RwwLw5K6"
      },
      "outputs": [
        {
          "data": {
            "text/plain": [
              "16386"
            ]
          },
          "execution_count": 95,
          "metadata": {},
          "output_type": "execute_result"
        }
      ],
      "source": [
        "len(clean_tweet['polarity'])"
      ]
    },
    {
      "cell_type": "code",
      "execution_count": 96,
      "metadata": {
        "id": "kUwWmtunw5K7"
      },
      "outputs": [],
      "source": [
        "scoremap = pd.Series([1 if row_value == 'Positive' else 0 for row_value in clean_tweet['score']])"
      ]
    },
    {
      "cell_type": "code",
      "execution_count": 97,
      "metadata": {
        "id": "tCmctp87w5K7"
      },
      "outputs": [
        {
          "data": {
            "text/plain": [
              "16386"
            ]
          },
          "execution_count": 97,
          "metadata": {},
          "output_type": "execute_result"
        }
      ],
      "source": [
        "len(scoremap)"
      ]
    },
    {
      "cell_type": "code",
      "execution_count": 98,
      "metadata": {
        "id": "jYjnvIKGw5K9"
      },
      "outputs": [],
      "source": [
        "clean_tweet['scoremap'] = scoremap\n",
        "X = clean_tweet['Tweets_Sentiments']\n",
        "y = clean_tweet['scoremap']"
      ]
    },
    {
      "cell_type": "code",
      "execution_count": 99,
      "metadata": {
        "id": "-iaiZhZkw5K9"
      },
      "outputs": [],
      "source": [
        "X_train, X_test, y_train, y_test = train_test_split(X, y, test_size=0.2, random_state=42)"
      ]
    },
    {
      "cell_type": "code",
      "execution_count": 100,
      "metadata": {
        "id": "wIxQzEA7w5K-"
      },
      "outputs": [
        {
          "name": "stdout",
          "output_type": "stream",
          "text": [
            "13108 , 3278\n",
            "3278 , 3278\n"
          ]
        }
      ],
      "source": [
        "print(X_train.size,',' , X_test.size)\n",
        "print(X_test.size, ',',y_test.size)"
      ]
    },
    {
      "cell_type": "code",
      "execution_count": 101,
      "metadata": {
        "id": "-iVbBO05w5K_"
      },
      "outputs": [],
      "source": [
        "# scaling the input\n",
        "clf = LinearSVC()"
      ]
    },
    {
      "cell_type": "code",
      "execution_count": 102,
      "metadata": {
        "id": "-2PVibDqw5K_"
      },
      "outputs": [],
      "source": [
        "unigram_tfidf_vect = TfidfVectorizer(max_features=10000, ngram_range = (1, 1))\n",
        "bigram_tfidf_vect = TfidfVectorizer(max_features=10000, ngram_range = (2, 2))\n",
        "hybrid_tfidf_vect = TfidfVectorizer(max_features=10000, ngram_range = (1, 2))"
      ]
    },
    {
      "cell_type": "markdown",
      "metadata": {
        "id": "6D7gG7sS7pvj"
      },
      "source": [
        "## Unigram TF-IDF"
      ]
    },
    {
      "cell_type": "code",
      "execution_count": 103,
      "metadata": {
        "id": "RdF7ByMF3aUW"
      },
      "outputs": [
        {
          "data": {
            "text/plain": [
              "LinearSVC()"
            ]
          },
          "execution_count": 103,
          "metadata": {},
          "output_type": "execute_result"
        }
      ],
      "source": [
        "X_train = X_train.replace(np.nan, '', regex=True)\n",
        "X_train_counts = unigram_tfidf_vect.fit_transform(X_train)\n",
        "X_train_counts = X_train_counts.toarray()\n",
        "clf.fit(X_train_counts, y_train)"
      ]
    },
    {
      "cell_type": "code",
      "execution_count": 104,
      "metadata": {
        "id": "cWoY9bK3w5LB"
      },
      "outputs": [],
      "source": [
        "X_test = X_test.replace(np.nan, '', regex=True)\n",
        "X_test_counts = unigram_tfidf_vect.transform(X_test)\n",
        "X_test_counts = X_test_counts.toarray()\n",
        "prediction = clf.predict(X_test_counts)"
      ]
    },
    {
      "cell_type": "code",
      "execution_count": 105,
      "metadata": {
        "id": "LzzvuFK3w5LB"
      },
      "outputs": [
        {
          "data": {
            "text/plain": [
              "0.8755338621110433"
            ]
          },
          "execution_count": 105,
          "metadata": {},
          "output_type": "execute_result"
        }
      ],
      "source": [
        "np.mean(prediction == y_test)"
      ]
    },
    {
      "cell_type": "markdown",
      "metadata": {
        "id": "l6UCJPbF8Nj9"
      },
      "source": [
        "## Bigram TF-IDF"
      ]
    },
    {
      "cell_type": "code",
      "execution_count": 106,
      "metadata": {
        "id": "06bm_rPt8NkW"
      },
      "outputs": [
        {
          "data": {
            "text/plain": [
              "LinearSVC()"
            ]
          },
          "execution_count": 106,
          "metadata": {},
          "output_type": "execute_result"
        }
      ],
      "source": [
        "X_train = X_train.replace(np.nan, '', regex=True)\n",
        "X_train_counts = bigram_tfidf_vect.fit_transform(X_train)\n",
        "X_train_counts = X_train_counts.toarray()\n",
        "clf.fit(X_train_counts, y_train)"
      ]
    },
    {
      "cell_type": "code",
      "execution_count": 107,
      "metadata": {
        "id": "x7ISmsdo8NkY"
      },
      "outputs": [],
      "source": [
        "X_test = X_test.replace(np.nan, '', regex=True)\n",
        "X_test_counts = bigram_tfidf_vect.transform(X_test)\n",
        "X_test_counts = X_test_counts.toarray()\n",
        "prediction = clf.predict(X_test_counts)"
      ]
    },
    {
      "cell_type": "code",
      "execution_count": 108,
      "metadata": {
        "id": "YnDplyQS8Nka"
      },
      "outputs": [
        {
          "data": {
            "text/plain": [
              "0.7019524100061013"
            ]
          },
          "execution_count": 108,
          "metadata": {},
          "output_type": "execute_result"
        }
      ],
      "source": [
        "np.mean(prediction == y_test)"
      ]
    },
    {
      "cell_type": "markdown",
      "metadata": {
        "id": "vv_5yqiT8fBm"
      },
      "source": [
        "## Hybridgram TF-IDF"
      ]
    },
    {
      "cell_type": "code",
      "execution_count": 109,
      "metadata": {
        "id": "kysqciW58fBn"
      },
      "outputs": [],
      "source": [
        "# X_train = X_train.replace(np.nan, '', regex=True)\n",
        "X_train_counts = hybrid_tfidf_vect.fit_transform(X_train)\n",
        "X_train_counts = X_train_counts.toarray()\n",
        "model = clf.fit(X_train_counts, y_train)"
      ]
    },
    {
      "cell_type": "code",
      "execution_count": 110,
      "metadata": {
        "id": "ZbGCx8iT8fBo"
      },
      "outputs": [],
      "source": [
        "X_test = X_test.replace(np.nan, '', regex=True)\n",
        "X_test_counts = hybrid_tfidf_vect.transform(X_test)\n",
        "X_test_counts = X_test_counts.toarray()\n",
        "prediction = clf.predict(X_test_counts)"
      ]
    },
    {
      "cell_type": "code",
      "execution_count": 111,
      "metadata": {
        "id": "7lGSRnTz8fBo"
      },
      "outputs": [
        {
          "data": {
            "text/plain": [
              "0.8779743746186699"
            ]
          },
          "execution_count": 111,
          "metadata": {},
          "output_type": "execute_result"
        }
      ],
      "source": [
        "np.mean(prediction == y_test)"
      ]
    },
    {
      "cell_type": "markdown",
      "metadata": {},
      "source": [
        "### Save the Model"
      ]
    },
    {
      "cell_type": "code",
      "execution_count": 112,
      "metadata": {
        "id": "YIb5xrut8sAV"
      },
      "outputs": [],
      "source": [
        "pickle.dump(model, open('model.pkl', 'wb'))"
      ]
    },
    {
      "cell_type": "code",
      "execution_count": null,
      "metadata": {},
      "outputs": [],
      "source": [
        "pickled_model = pickle.load(open('model.pkl', 'rb'))\n",
        "pickled_model.predict(y_test)"
      ]
    },
    {
      "cell_type": "code",
      "execution_count": null,
      "metadata": {},
      "outputs": [],
      "source": []
    }
  ],
  "metadata": {
    "accelerator": "GPU",
    "colab": {
      "collapsed_sections": [],
      "name": "Day2_task1.ipynb",
      "provenance": []
    },
    "interpreter": {
      "hash": "e1e4a0439df46a45447268dc83e1935ee48f473050da09cc09f7b5c4009292f5"
    },
    "kernelspec": {
      "display_name": "Python 3.10.4 64-bit",
      "language": "python",
      "name": "python3"
    },
    "language_info": {
      "codemirror_mode": {
        "name": "ipython",
        "version": 3
      },
      "file_extension": ".py",
      "mimetype": "text/x-python",
      "name": "python",
      "nbconvert_exporter": "python",
      "pygments_lexer": "ipython3",
      "version": "3.8.3"
    },
    "orig_nbformat": 4
  },
  "nbformat": 4,
  "nbformat_minor": 0
}
